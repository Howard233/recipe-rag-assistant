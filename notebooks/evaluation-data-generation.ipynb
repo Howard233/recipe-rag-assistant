{
 "cells": [
  {
   "cell_type": "code",
   "execution_count": 1,
   "id": "031084af",
   "metadata": {},
   "outputs": [],
   "source": [
    "import requests\n",
    "import pandas as pd\n",
    "from tqdm.auto import tqdm"
   ]
  },
  {
   "cell_type": "code",
   "execution_count": 2,
   "id": "f966f448",
   "metadata": {},
   "outputs": [
    {
     "data": {
      "text/plain": [
       "True"
      ]
     },
     "execution_count": 2,
     "metadata": {},
     "output_type": "execute_result"
    }
   ],
   "source": [
    "from dotenv import load_dotenv\n",
    "load_dotenv()"
   ]
  },
  {
   "cell_type": "code",
   "execution_count": 3,
   "id": "eb73f46f",
   "metadata": {},
   "outputs": [],
   "source": [
    "from openai import OpenAI\n",
    "openai_client = OpenAI()"
   ]
  },
  {
   "cell_type": "code",
   "execution_count": 4,
   "id": "5449a1d6",
   "metadata": {},
   "outputs": [],
   "source": [
    "# - Include at least ONE question asking how to cook/prepare/make the recipe (answerable from the directions)\n",
    "\n",
    "prompt_template = \"\"\"\n",
    "You are a home cook looking at a recipe and want to understand the specific details provided in this recipe. Generate 5 questions that can be directly answered using ONLY the information given in the recipe below.\n",
    "\n",
    "Strict Requirements:\n",
    "- Each question MUST be answerable using only the provided recipe name, description, ratings, cooking time, ingredients list, or directions\n",
    "- Do NOT ask about cooking techniques, substitutions, tips, or general cooking advice NOT EXPLICITLY mentioned in the recipe\n",
    "- Always include the recipe name in each question to make the question relevant to the recipe\n",
    "- Focus only on factual information present in the recipe data\n",
    "- Use minimal words from the original recipe text to ensure diverse phrasing\n",
    "- Use natural, conversational language that a home cook would actually ask - avoid referencing database fields like \"directions\" or \"ingredients list\"\n",
    "- Do NOT reference specific numbers, database fields, or internal data structure details that users wouldn't know (like \"619 ratings\", \"directions\", \"ingredients list\", etc.)\n",
    "\n",
    "\n",
    "Recipe Data:\n",
    "- Name: {recipe_name}\n",
    "- Description: {recipe_description}  \n",
    "- Rating: {ratings}\n",
    "- Cook Time: {ready-in}\n",
    "- Ingredients: {ingredients}\n",
    "- Directions: {directions}\n",
    "\n",
    "Generate exactly 5 questions that can be answered directly from the above information:\n",
    "[\"question1\", \"question2\", \"question3\", \"question4\", \"question5\"]\n",
    "\"\"\".strip()"
   ]
  },
  {
   "cell_type": "code",
   "execution_count": 5,
   "id": "9d537f89",
   "metadata": {},
   "outputs": [],
   "source": [
    "def generate_questions(doc):\n",
    "    prompt = prompt_template.format(**doc)\n",
    "\n",
    "    response = openai_client.chat.completions.create(\n",
    "        model='gpt-4o',\n",
    "        messages=[{\"role\": \"user\", \"content\": prompt}]\n",
    "    )\n",
    "\n",
    "    json_response = response.choices[0].message.content\n",
    "    return json_response"
   ]
  },
  {
   "cell_type": "code",
   "execution_count": 6,
   "id": "11352a2e",
   "metadata": {},
   "outputs": [
    {
     "data": {
      "application/vnd.jupyter.widget-view+json": {
       "model_id": "d2450c9ffe0c4d8ca5e9133a66a6dec9",
       "version_major": 2,
       "version_minor": 0
      },
      "text/plain": [
       "  0%|          | 0/88 [00:00<?, ?it/s]"
      ]
     },
     "metadata": {},
     "output_type": "display_data"
    }
   ],
   "source": [
    "import json\n",
    "\n",
    "df_recipes = pd.read_csv('../data/recipes.csv')\n",
    "\n",
    "ground_truth_questions = []\n",
    "documents = df_recipes.to_dict(orient='records')\n",
    "for doc in tqdm(documents):\n",
    "    questions_raw = generate_questions(doc)\n",
    "    questions = json.loads(questions_raw)\n",
    "    for q in questions:\n",
    "        ground_truth_questions.append((doc['recipe_id'], q))"
   ]
  },
  {
   "cell_type": "code",
   "execution_count": 7,
   "id": "7b11d723",
   "metadata": {},
   "outputs": [
    {
     "data": {
      "text/plain": [
       "(0, \"What's the total cook time for the Ground Beef Gyros?\")"
      ]
     },
     "execution_count": 7,
     "metadata": {},
     "output_type": "execute_result"
    }
   ],
   "source": [
    "ground_truth_questions[0]"
   ]
  },
  {
   "cell_type": "code",
   "execution_count": 8,
   "id": "c9115343",
   "metadata": {},
   "outputs": [],
   "source": [
    "df_ground_truth_questions = pd.DataFrame(ground_truth_questions, columns=['id', 'question'])"
   ]
  },
  {
   "cell_type": "code",
   "execution_count": 9,
   "id": "f820e6e8",
   "metadata": {},
   "outputs": [],
   "source": [
    "df_ground_truth_questions.to_csv('../data/ground-truth-retrieval.csv', index=False)"
   ]
  },
  {
   "cell_type": "code",
   "execution_count": 10,
   "id": "25cb5223",
   "metadata": {},
   "outputs": [
    {
     "name": "stdout",
     "output_type": "stream",
     "text": [
      "id,question\n",
      "0,What's the total cook time for the Ground Beef Gyros?\n",
      "0,What kind of meat is recommended in the Ground Beef Gyros recipe?\n",
      "0,How is the Ground Beef Gyros served according to the directions?\n",
      "0,What rating did the Ground Beef Gyros recipe receive?\n",
      "0,Do the Ground Beef Gyros include a sauce with cucumbers?\n",
      "1,How long does the Lasagna recipe take from start to finish?\n",
      "1,What's the main protein in this Lasagna recipe?\n",
      "1,What kind of cheese does the Lasagna recipe use for layering?\n",
      "1,Are the lasagna noodles pre-cooked before adding to the Lasagna recipe?\n"
     ]
    }
   ],
   "source": [
    "!head ../data/ground-truth-retrieval.csv"
   ]
  },
  {
   "cell_type": "code",
   "execution_count": null,
   "id": "65398b58",
   "metadata": {},
   "outputs": [],
   "source": []
  }
 ],
 "metadata": {
  "kernelspec": {
   "display_name": "LLMZoomcamp",
   "language": "python",
   "name": "python3"
  },
  "language_info": {
   "codemirror_mode": {
    "name": "ipython",
    "version": 3
   },
   "file_extension": ".py",
   "mimetype": "text/x-python",
   "name": "python",
   "nbconvert_exporter": "python",
   "pygments_lexer": "ipython3",
   "version": "3.10.17"
  }
 },
 "nbformat": 4,
 "nbformat_minor": 5
}
