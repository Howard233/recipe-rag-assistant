{
 "cells": [
  {
   "cell_type": "code",
   "execution_count": 1,
   "id": "4ca2ff47",
   "metadata": {},
   "outputs": [],
   "source": [
    "import pandas as pd\n",
    "from tqdm.auto import tqdm"
   ]
  },
  {
   "cell_type": "markdown",
   "id": "04e02c35",
   "metadata": {},
   "source": [
    "## Data ingestion"
   ]
  },
  {
   "cell_type": "code",
   "execution_count": 2,
   "id": "ab1f3f7b",
   "metadata": {},
   "outputs": [],
   "source": [
    "df_recipes = pd.read_csv(\"../data/recipes.csv\")  # source data"
   ]
  },
  {
   "cell_type": "code",
   "execution_count": 3,
   "id": "9551b5a5",
   "metadata": {},
   "outputs": [
    {
     "data": {
      "application/vnd.jupyter.widget-view+json": {
       "model_id": "28fa9361b2bf45d792a8d24cc0c8a068",
       "version_major": 2,
       "version_minor": 0
      },
      "text/plain": [
       "  0%|          | 0/88 [00:00<?, ?it/s]"
      ]
     },
     "metadata": {},
     "output_type": "display_data"
    }
   ],
   "source": [
    "# format documents for Qdrant vector DB\n",
    "recipes_raw = df_recipes.to_dict(orient=\"records\")\n",
    "for recipe in tqdm(recipes_raw):\n",
    "    description_stripped = recipe[\"recipe_description\"].strip()\n",
    "    directions_joined = \" \".join(eval(recipe[\"directions\"]))\n",
    "    ingredients_joined = \"; \".join(eval(recipe[\"ingredients\"]))\n",
    "\n",
    "    text = f\"Recipe: {recipe['recipe_name'].strip()} | Description: {description_stripped} | Ratings: {recipe['ratings'].strip()} | Ready in: {recipe['ready-in'].strip()} | Directions: {directions_joined.strip()} | Ingredients: {ingredients_joined.strip()}\"\n",
    "\n",
    "    recipe[\"text\"] = text"
   ]
  },
  {
   "cell_type": "code",
   "execution_count": 4,
   "id": "9e4bf39e",
   "metadata": {},
   "outputs": [],
   "source": [
    "# Qdrant\n",
    "from qdrant_client import QdrantClient, models\n",
    "\n",
    "qdrant_client = QdrantClient(\"http://localhost:6333\")\n",
    "\n",
    "EMBEDDING_DIMENSIONALITY = 512\n",
    "model_handle = \"jinaai/jina-embeddings-v2-small-en\""
   ]
  },
  {
   "cell_type": "code",
   "execution_count": 5,
   "id": "2e08fa99",
   "metadata": {},
   "outputs": [
    {
     "data": {
      "text/plain": [
       "True"
      ]
     },
     "execution_count": 5,
     "metadata": {},
     "output_type": "execute_result"
    }
   ],
   "source": [
    "collection_name = \"recipe-rag\"\n",
    "\n",
    "if qdrant_client.collection_exists(collection_name=collection_name):\n",
    "    qdrant_client.delete_collection(collection_name=collection_name)\n",
    "\n",
    "qdrant_client.create_collection(\n",
    "    collection_name=collection_name,\n",
    "    vectors_config=models.VectorParams(\n",
    "        size=EMBEDDING_DIMENSIONALITY, distance=models.Distance.COSINE\n",
    "    ),\n",
    ")"
   ]
  },
  {
   "cell_type": "code",
   "execution_count": 6,
   "id": "802113b0",
   "metadata": {},
   "outputs": [
    {
     "data": {
      "application/vnd.jupyter.widget-view+json": {
       "model_id": "996ea57efd734652a5454e7bdfd8b72d",
       "version_major": 2,
       "version_minor": 0
      },
      "text/plain": [
       "  0%|          | 0/88 [00:00<?, ?it/s]"
      ]
     },
     "metadata": {},
     "output_type": "display_data"
    },
    {
     "data": {
      "application/vnd.jupyter.widget-view+json": {
       "model_id": "01893f8297b846d6add5f826152ee796",
       "version_major": 2,
       "version_minor": 0
      },
      "text/plain": [
       "Fetching 5 files:   0%|          | 0/5 [00:00<?, ?it/s]"
      ]
     },
     "metadata": {},
     "output_type": "display_data"
    },
    {
     "data": {
      "application/vnd.jupyter.widget-view+json": {
       "model_id": "24a071ca9ece4c178d7b4248b86df67d",
       "version_major": 2,
       "version_minor": 0
      },
      "text/plain": [
       "config.json: 0.00B [00:00, ?B/s]"
      ]
     },
     "metadata": {},
     "output_type": "display_data"
    },
    {
     "data": {
      "application/vnd.jupyter.widget-view+json": {
       "model_id": "5cbfad3f9c2346babf33dcd4b0d2935f",
       "version_major": 2,
       "version_minor": 0
      },
      "text/plain": [
       "tokenizer_config.json:   0%|          | 0.00/367 [00:00<?, ?B/s]"
      ]
     },
     "metadata": {},
     "output_type": "display_data"
    },
    {
     "data": {
      "application/vnd.jupyter.widget-view+json": {
       "model_id": "51da9cd9862f4ac1bb998e6816decd08",
       "version_major": 2,
       "version_minor": 0
      },
      "text/plain": [
       "tokenizer.json: 0.00B [00:00, ?B/s]"
      ]
     },
     "metadata": {},
     "output_type": "display_data"
    },
    {
     "data": {
      "application/vnd.jupyter.widget-view+json": {
       "model_id": "52e893e00ae341f1b0b4cac918b13b50",
       "version_major": 2,
       "version_minor": 0
      },
      "text/plain": [
       "special_tokens_map.json:   0%|          | 0.00/125 [00:00<?, ?B/s]"
      ]
     },
     "metadata": {},
     "output_type": "display_data"
    },
    {
     "data": {
      "application/vnd.jupyter.widget-view+json": {
       "model_id": "b9fedcc586c742c7b5520a4a1b6be96a",
       "version_major": 2,
       "version_minor": 0
      },
      "text/plain": [
       "onnx/model.onnx:   0%|          | 0.00/130M [00:00<?, ?B/s]"
      ]
     },
     "metadata": {},
     "output_type": "display_data"
    },
    {
     "data": {
      "text/plain": [
       "UpdateResult(operation_id=0, status=<UpdateStatus.COMPLETED: 'completed'>)"
      ]
     },
     "execution_count": 6,
     "metadata": {},
     "output_type": "execute_result"
    }
   ],
   "source": [
    "# construct points\n",
    "points = []\n",
    "\n",
    "for recipe in tqdm(recipes_raw):\n",
    "    point = models.PointStruct(\n",
    "        id=recipe[\"recipe_id\"],\n",
    "        vector=models.Document(\n",
    "            text=recipe[\"text\"], model=model_handle\n",
    "        ),  # embedding the text\n",
    "        payload={\n",
    "            \"recipe_id\": recipe[\"recipe_id\"],\n",
    "            \"text\": recipe[\"text\"],\n",
    "            \"recipe_name\": recipe[\"recipe_name\"],\n",
    "            \"recipe_link\": recipe[\"recipe_link\"],\n",
    "            \"recipe_description\": recipe[\"recipe_description\"],\n",
    "            \"ratings\": recipe[\"ratings\"],\n",
    "            \"ready-in\": recipe[\"ready-in\"],\n",
    "            \"directions\": recipe[\"directions\"],\n",
    "            \"ingredients\": recipe[\"ingredients\"],\n",
    "        },\n",
    "    )\n",
    "    points.append(point)\n",
    "\n",
    "# upsert into DB\n",
    "qdrant_client.upsert(collection_name=collection_name, points=points)"
   ]
  },
  {
   "cell_type": "markdown",
   "id": "9af48ca0",
   "metadata": {},
   "source": [
    "## RAG pipeline"
   ]
  },
  {
   "cell_type": "code",
   "execution_count": 7,
   "id": "4cd0587a",
   "metadata": {},
   "outputs": [
    {
     "data": {
      "text/plain": [
       "True"
      ]
     },
     "execution_count": 7,
     "metadata": {},
     "output_type": "execute_result"
    }
   ],
   "source": [
    "from dotenv import load_dotenv\n",
    "\n",
    "load_dotenv()"
   ]
  },
  {
   "cell_type": "code",
   "execution_count": 8,
   "id": "54d4816f",
   "metadata": {},
   "outputs": [],
   "source": [
    "from openai import OpenAI\n",
    "\n",
    "openai_client = OpenAI()"
   ]
  },
  {
   "cell_type": "code",
   "execution_count": 9,
   "id": "8cd43061",
   "metadata": {},
   "outputs": [],
   "source": [
    "# search\n",
    "def vector_search(collection_name, query, limit=1):\n",
    "    query_points = qdrant_client.query_points(\n",
    "        collection_name=collection_name,\n",
    "        query=models.Document(  # embed the query text locally with \"jinaai/jina-embeddings-v2-small-en\"\n",
    "            text=query, model=model_handle\n",
    "        ),\n",
    "        limit=limit,  # top closest matches\n",
    "        with_payload=True,  # to get metadata in the results\n",
    "    )\n",
    "\n",
    "    results = []\n",
    "\n",
    "    for point in query_points.points:\n",
    "        results.append(point.payload)\n",
    "    return results"
   ]
  },
  {
   "cell_type": "code",
   "execution_count": 10,
   "id": "b2824b6c",
   "metadata": {},
   "outputs": [],
   "source": [
    "def build_prompt(query, search_results):\n",
    "    prompt_template = \"\"\"\n",
    "You're a cooking assistant. Answer the QUESTION based on the CONTEXT from the recipe database.\n",
    "Use only the facts from the CONTEXT when answering the QUESTION.\n",
    "\n",
    "QUESTION: {question}\n",
    "\n",
    "CONTEXT: \n",
    "{context}\n",
    "\"\"\".strip()\n",
    "\n",
    "    context = \"\"\n",
    "\n",
    "    for doc in search_results:\n",
    "        context = (\n",
    "            context + f\"{doc['text']}\\n\\n\"\n",
    "        )  # doc['text'] should contain all the recipe information\n",
    "\n",
    "    prompt = prompt_template.format(question=query, context=context).strip()\n",
    "    return prompt"
   ]
  },
  {
   "cell_type": "code",
   "execution_count": 11,
   "id": "7b00a19b",
   "metadata": {},
   "outputs": [],
   "source": [
    "def llm(openai_client, prompt, llm_model=\"gpt-4o-mini\"):\n",
    "    response = openai_client.chat.completions.create(\n",
    "        model=llm_model, messages=[{\"role\": \"user\", \"content\": prompt}]\n",
    "    )\n",
    "\n",
    "    return response.choices[0].message.content"
   ]
  },
  {
   "cell_type": "code",
   "execution_count": 12,
   "id": "e42508aa",
   "metadata": {},
   "outputs": [],
   "source": [
    "def rag(query, openai_client, collection_name, llm_model=\"gpt-4o-mini\", limit=5):\n",
    "    search_results = vector_search(collection_name, query, limit)\n",
    "    prompt = build_prompt(query, search_results)\n",
    "    answer = llm(openai_client, prompt, llm_model)\n",
    "    return answer"
   ]
  },
  {
   "cell_type": "code",
   "execution_count": 13,
   "id": "41e55de2",
   "metadata": {},
   "outputs": [
    {
     "name": "stdout",
     "output_type": "stream",
     "text": [
      "Yes, there are several recommended fish recipes. Here are the details:\n",
      "\n",
      "1. **Easy Oven-Baked Cod**\n",
      "   - **Description**: Amazingly quick, fresh, and light; can be made with any type of fish fillet.\n",
      "   - **Ratings**: 4.6 stars (60 ratings)\n",
      "   - **Ready in**: 25 minutes\n",
      "   - **Directions**: Preheat oven to 400°F. Line pan with aluminum foil and brush lightly with olive oil. Combine parsley, garlic, lemon zest, and salt; mix with breadcrumbs. Brush fillets with olive oil, press into breadcrumb mixture, and place in baking dish. Bake until firm, about 12-15 minutes. Serve with lemon wedges.\n",
      "   - **Ingredients**: 1½ cups plain breadcrumbs, ½ cup fresh parsley, 2-3 garlic cloves, zest of 1 lemon, ¾ teaspoon coarse salt, 4 (6-8 ounce) cod fillets, olive oil.\n",
      "\n",
      "2. **Lemon Baked Cod**\n",
      "   - **Description**: Great baked cod recipe.\n",
      "   - **Ratings**: 4.35 stars (209 ratings)\n",
      "   - **Ready in**: 35 minutes\n",
      "   - **Directions**: If fillets are large, cut into pieces. Mix butter and lemon juice. In another bowl, combine flour, salt, and white pepper. Dip fish in butter mixture, coat with flour mixture, and place in an ungreased baking dish. Pour remaining butter mixture over fish, sprinkle with paprika, and bake at 350°F until fish flakes easily, about 25-30 minutes. Garnish with parsley and lemon slices if desired.\n",
      "   - **Ingredients**: 1 lb cod fillet, ¼ cup melted butter or margarine, 2 tablespoons lemon juice, ¼ cup all-purpose flour, ½ teaspoon salt, ⅛ teaspoon white pepper, paprika.\n",
      "\n",
      "3. **Baked Salmon**\n",
      "   - **Description**: A great baked salmon recipe for beginners!\n",
      "   - **Ratings**: 4.75 stars (443 ratings)\n",
      "   - **Ready in**: 1 hour\n",
      "   - **Directions**: Prepare marinade by mixing garlic, light olive oil, basil, salt, pepper, lemon juice, and parsley. Marinate salmon fillets in the refrigerator for about 1 hour. Preheat oven to 375°F. Place fillets in aluminum foil, cover with marinade, and seal. Bake for 35 to 45 minutes until easily flaked with a fork.\n",
      "   - **Ingredients**: 2 minced garlic cloves, 6 tablespoons light olive oil, 1 teaspoon dried basil, 1 teaspoon salt, 1 teaspoon ground black pepper, 1 tablespoon lemon juice, 1 tablespoon chopped fresh parsley, 2 (6 ounce) salmon fillets.\n",
      "\n",
      "4. **Sesame Crusted Tuna Steaks**\n",
      "   - **Description**: Adapted from multiple recipes; very tasty!\n",
      "   - **Ratings**: 4.57 stars (7 ratings)\n",
      "   - **Ready in**: 25 minutes\n",
      "   - **Directions**: Heat sesame oil and stir in green onion and garlic. Add remaining ingredients and reduce by half. Season tuna with salt, pepper, and sesame seeds, rubbing into the meat. Cook in heated oil until desired doneness, about 2-3 minutes per side. Drizzle sauce over tuna and serve immediately.\n",
      "   - **Ingredients**: 4 (6 ounce) tuna steaks, ½ teaspoon salt, 1 teaspoon fresh ground pepper, 2 tablespoons roasted sesame seeds, 2 tablespoons cooking oil, 1 teaspoon sesame oil, 1 tablespoon finely chopped green onion, 1 minced garlic clove, ⅔ cup balsamic vinegar, ¼ cup soy sauce, 1 tablespoon honey. \n",
      "\n",
      "These recipes offer a variety of options for preparing fish!\n"
     ]
    }
   ],
   "source": [
    "query = \"Are there any recommended fish recipes? Can you give me the details about the recipes as well?\"\n",
    "answer = rag(\n",
    "    query=query,\n",
    "    openai_client=openai_client,\n",
    "    collection_name=\"recipe-rag\",\n",
    "    llm_model=\"gpt-4o-mini\",\n",
    ")\n",
    "print(answer)"
   ]
  },
  {
   "cell_type": "markdown",
   "id": "c492f91d",
   "metadata": {},
   "source": [
    "## Retrieval evaluation"
   ]
  },
  {
   "cell_type": "code",
   "execution_count": 14,
   "id": "f7de746b",
   "metadata": {},
   "outputs": [],
   "source": [
    "df_question = pd.read_csv(\"../data/ground-truth-retrieval.csv\")"
   ]
  },
  {
   "cell_type": "code",
   "execution_count": 15,
   "id": "17c053ef",
   "metadata": {},
   "outputs": [
    {
     "data": {
      "application/vnd.microsoft.datawrangler.viewer.v0+json": {
       "columns": [
        {
         "name": "index",
         "rawType": "int64",
         "type": "integer"
        },
        {
         "name": "id",
         "rawType": "int64",
         "type": "integer"
        },
        {
         "name": "question",
         "rawType": "object",
         "type": "string"
        }
       ],
       "ref": "8d7fa562-c59f-4328-9142-c69ab04f531b",
       "rows": [
        [
         "0",
         "0",
         "What's the total cook time for the Ground Beef Gyros?"
        ],
        [
         "1",
         "0",
         "What kind of meat is recommended in the Ground Beef Gyros recipe?"
        ],
        [
         "2",
         "0",
         "How is the Ground Beef Gyros served according to the directions?"
        ],
        [
         "3",
         "0",
         "What rating did the Ground Beef Gyros recipe receive?"
        ],
        [
         "4",
         "0",
         "Do the Ground Beef Gyros include a sauce with cucumbers?"
        ],
        [
         "5",
         "1",
         "How long does the Lasagna recipe take from start to finish?"
        ],
        [
         "6",
         "1",
         "What's the main protein in this Lasagna recipe?"
        ],
        [
         "7",
         "1",
         "What kind of cheese does the Lasagna recipe use for layering?"
        ],
        [
         "8",
         "1",
         "Are the lasagna noodles pre-cooked before adding to the Lasagna recipe?"
        ],
        [
         "9",
         "1",
         "What temperature should the Lasagna be baked at?"
        ],
        [
         "10",
         "2",
         "What's the cooking time for The Best Easy Beef & Broccoli Stir-Fry?"
        ],
        [
         "11",
         "2",
         "Which type of steak is recommended for The Best Easy Beef & Broccoli Stir-Fry?"
        ],
        [
         "12",
         "2",
         "How is The Best Easy Beef & Broccoli Stir-Fry rated?"
        ],
        [
         "13",
         "2",
         "What ingredient is optional for garnishing The Best Easy Beef & Broccoli Stir-Fry?"
        ],
        [
         "14",
         "2",
         "What do you serve The Best Easy Beef & Broccoli Stir-Fry with?"
        ],
        [
         "15",
         "3",
         "How long does it take to make The Ultimate Greek Salad?"
        ],
        [
         "16",
         "3",
         "What type of olives are used in The Ultimate Greek Salad?"
        ],
        [
         "17",
         "3",
         "Can lettuce be included in The Ultimate Greek Salad?"
        ],
        [
         "18",
         "3",
         "How is the dressing for The Ultimate Greek Salad prepared?"
        ],
        [
         "19",
         "3",
         "What is the average rating for The Ultimate Greek Salad?"
        ],
        [
         "20",
         "4",
         "How long does it take to cook Easy Stovetop Macaroni 'n' Cheese?"
        ],
        [
         "21",
         "4",
         "What kind of pasta is used in the Easy Stovetop Macaroni 'n' Cheese recipe?"
        ],
        [
         "22",
         "4",
         "Does the Easy Stovetop Macaroni 'n' Cheese require baking?"
        ],
        [
         "23",
         "4",
         "What type of cheese is used in Easy Stovetop Macaroni 'n' Cheese?"
        ],
        [
         "24",
         "4",
         "What is the rating for the Easy Stovetop Macaroni 'n' Cheese recipe?"
        ],
        [
         "25",
         "5",
         "How long does Bev's Spaghetti Sauce need to cook?"
        ],
        [
         "26",
         "5",
         "What meat is used in Bev's Spaghetti Sauce?"
        ],
        [
         "27",
         "5",
         "What rating does Bev's Spaghetti Sauce have from users?"
        ],
        [
         "28",
         "5",
         "Does Bev's Spaghetti Sauce include mushrooms in the ingredients?"
        ],
        [
         "29",
         "5",
         "Is freshly grated Parmesan cheese considered optional in Bev's Spaghetti Sauce?"
        ],
        [
         "30",
         "6",
         "What is the cooking time for Perfect Southern Fried Chicken?"
        ],
        [
         "31",
         "6",
         "How many pieces of chicken are used in the Perfect Southern Fried Chicken recipe?"
        ],
        [
         "32",
         "6",
         "What is the purpose of covering the chicken in the Perfect Southern Fried Chicken recipe?"
        ],
        [
         "33",
         "6",
         "How is the chicken seasoned in the Perfect Southern Fried Chicken recipe before frying?"
        ],
        [
         "34",
         "6",
         "How many ratings does the Perfect Southern Fried Chicken recipe have?"
        ],
        [
         "35",
         "7",
         "What is the cooking time for Chicken Fried Rice?"
        ],
        [
         "36",
         "7",
         "How is the flavor of Chicken Fried Rice described compared to other recipes?"
        ],
        [
         "37",
         "7",
         "What type of oil is suggested to avoid using for cooking in the Chicken Fried Rice recipe?"
        ],
        [
         "38",
         "7",
         "How many green onions are used in Chicken Fried Rice?"
        ],
        [
         "39",
         "7",
         "What should be done with the egg in the Chicken Fried Rice recipe before it's added to the wok?"
        ],
        [
         "40",
         "8",
         "How long does it take to cook the Sloppy Joes?"
        ],
        [
         "41",
         "8",
         "What's the main protein used in the Sloppy Joes?"
        ],
        [
         "42",
         "8",
         "How is the onion prepared for the Sloppy Joes?"
        ],
        [
         "43",
         "8",
         "What is the optional ingredient in the Sloppy Joes recipe?"
        ],
        [
         "44",
         "8",
         "How many stars does the Sloppy Joes recipe have?"
        ],
        [
         "45",
         "9",
         "How long does it take to cook the Chicken Parmesan?"
        ],
        [
         "46",
         "9",
         "What is the main protein in the Chicken Parmesan recipe?"
        ],
        [
         "47",
         "9",
         "What kind of cheese is melted on top of the Chicken Parmesan?"
        ],
        [
         "48",
         "9",
         "Can I serve Chicken Parmesan with spaghetti according to the recipe?"
        ],
        [
         "49",
         "9",
         "What is the star rating given to the Chicken Parmesan recipe?"
        ]
       ],
       "shape": {
        "columns": 2,
        "rows": 440
       }
      },
      "text/html": [
       "<div>\n",
       "<style scoped>\n",
       "    .dataframe tbody tr th:only-of-type {\n",
       "        vertical-align: middle;\n",
       "    }\n",
       "\n",
       "    .dataframe tbody tr th {\n",
       "        vertical-align: top;\n",
       "    }\n",
       "\n",
       "    .dataframe thead th {\n",
       "        text-align: right;\n",
       "    }\n",
       "</style>\n",
       "<table border=\"1\" class=\"dataframe\">\n",
       "  <thead>\n",
       "    <tr style=\"text-align: right;\">\n",
       "      <th></th>\n",
       "      <th>id</th>\n",
       "      <th>question</th>\n",
       "    </tr>\n",
       "  </thead>\n",
       "  <tbody>\n",
       "    <tr>\n",
       "      <th>0</th>\n",
       "      <td>0</td>\n",
       "      <td>What's the total cook time for the Ground Beef...</td>\n",
       "    </tr>\n",
       "    <tr>\n",
       "      <th>1</th>\n",
       "      <td>0</td>\n",
       "      <td>What kind of meat is recommended in the Ground...</td>\n",
       "    </tr>\n",
       "    <tr>\n",
       "      <th>2</th>\n",
       "      <td>0</td>\n",
       "      <td>How is the Ground Beef Gyros served according ...</td>\n",
       "    </tr>\n",
       "    <tr>\n",
       "      <th>3</th>\n",
       "      <td>0</td>\n",
       "      <td>What rating did the Ground Beef Gyros recipe r...</td>\n",
       "    </tr>\n",
       "    <tr>\n",
       "      <th>4</th>\n",
       "      <td>0</td>\n",
       "      <td>Do the Ground Beef Gyros include a sauce with ...</td>\n",
       "    </tr>\n",
       "    <tr>\n",
       "      <th>...</th>\n",
       "      <td>...</td>\n",
       "      <td>...</td>\n",
       "    </tr>\n",
       "    <tr>\n",
       "      <th>435</th>\n",
       "      <td>87</td>\n",
       "      <td>What's the main protein used in the Yakisoba r...</td>\n",
       "    </tr>\n",
       "    <tr>\n",
       "      <th>436</th>\n",
       "      <td>87</td>\n",
       "      <td>How much time does it take to cook the Yakisoba?</td>\n",
       "    </tr>\n",
       "    <tr>\n",
       "      <th>437</th>\n",
       "      <td>87</td>\n",
       "      <td>What are the main vegetables required for the ...</td>\n",
       "    </tr>\n",
       "    <tr>\n",
       "      <th>438</th>\n",
       "      <td>87</td>\n",
       "      <td>How is the Yakisoba dish commonly served accor...</td>\n",
       "    </tr>\n",
       "    <tr>\n",
       "      <th>439</th>\n",
       "      <td>87</td>\n",
       "      <td>What kind of noodles are used in the Yakisoba ...</td>\n",
       "    </tr>\n",
       "  </tbody>\n",
       "</table>\n",
       "<p>440 rows × 2 columns</p>\n",
       "</div>"
      ],
      "text/plain": [
       "     id                                           question\n",
       "0     0  What's the total cook time for the Ground Beef...\n",
       "1     0  What kind of meat is recommended in the Ground...\n",
       "2     0  How is the Ground Beef Gyros served according ...\n",
       "3     0  What rating did the Ground Beef Gyros recipe r...\n",
       "4     0  Do the Ground Beef Gyros include a sauce with ...\n",
       "..   ..                                                ...\n",
       "435  87  What's the main protein used in the Yakisoba r...\n",
       "436  87   How much time does it take to cook the Yakisoba?\n",
       "437  87  What are the main vegetables required for the ...\n",
       "438  87  How is the Yakisoba dish commonly served accor...\n",
       "439  87  What kind of noodles are used in the Yakisoba ...\n",
       "\n",
       "[440 rows x 2 columns]"
      ]
     },
     "execution_count": 15,
     "metadata": {},
     "output_type": "execute_result"
    }
   ],
   "source": [
    "df_question"
   ]
  },
  {
   "cell_type": "code",
   "execution_count": 16,
   "id": "9d1b4275",
   "metadata": {},
   "outputs": [],
   "source": [
    "ground_truth = df_question.to_dict(orient=\"records\")"
   ]
  },
  {
   "cell_type": "markdown",
   "id": "0823f631",
   "metadata": {},
   "source": [
    "### Metric calculation and evaluation"
   ]
  },
  {
   "cell_type": "code",
   "execution_count": 17,
   "id": "d05f76da",
   "metadata": {},
   "outputs": [],
   "source": [
    "# metric calculation\n",
    "def hit_rate(relevance_total):\n",
    "    cnt = 0\n",
    "\n",
    "    for line in relevance_total:\n",
    "        if True in line:\n",
    "            cnt = cnt + 1\n",
    "\n",
    "    return cnt / len(relevance_total)\n",
    "\n",
    "\n",
    "def mrr(relevance_total):\n",
    "    total_score = 0.0\n",
    "\n",
    "    for line in relevance_total:\n",
    "        for rank in range(len(line)):\n",
    "            if line[rank]:\n",
    "                total_score = total_score + 1 / (rank + 1)\n",
    "\n",
    "    return total_score / len(relevance_total)\n",
    "\n",
    "\n",
    "def evaluate(ground_truth, search_function):\n",
    "    relevance_total = []\n",
    "\n",
    "    for q in tqdm(ground_truth):\n",
    "        doc_id = q[\"id\"]\n",
    "        results = search_function(q)\n",
    "        relevance = [d[\"recipe_id\"] == doc_id for d in results]\n",
    "        relevance_total.append(relevance)\n",
    "\n",
    "    return {\n",
    "        \"hit_rate\": hit_rate(relevance_total),\n",
    "        \"mrr\": mrr(relevance_total),\n",
    "    }"
   ]
  },
  {
   "cell_type": "markdown",
   "id": "d2be1d9e",
   "metadata": {},
   "source": [
    "### Qdrant sparse vector search"
   ]
  },
  {
   "cell_type": "code",
   "execution_count": 18,
   "id": "af06c8ae",
   "metadata": {},
   "outputs": [
    {
     "data": {
      "text/plain": [
       "True"
      ]
     },
     "execution_count": 18,
     "metadata": {},
     "output_type": "execute_result"
    }
   ],
   "source": [
    "# qdrant sparse vector search\n",
    "collection_name = \"recipe-rag-sparse\"\n",
    "if qdrant_client.collection_exists(collection_name=collection_name):\n",
    "    qdrant_client.delete_collection(collection_name=collection_name)\n",
    "\n",
    "qdrant_client.create_collection(\n",
    "    collection_name=collection_name,\n",
    "    sparse_vectors_config={\n",
    "        \"bm25\": models.SparseVectorParams(\n",
    "            modifier=models.Modifier.IDF,\n",
    "        )\n",
    "    },\n",
    ")"
   ]
  },
  {
   "cell_type": "code",
   "execution_count": 19,
   "id": "3a8387de",
   "metadata": {},
   "outputs": [
    {
     "data": {
      "application/vnd.jupyter.widget-view+json": {
       "model_id": "be5ce47ce5004e95bb920dc8df659411",
       "version_major": 2,
       "version_minor": 0
      },
      "text/plain": [
       "  0%|          | 0/88 [00:00<?, ?it/s]"
      ]
     },
     "metadata": {},
     "output_type": "display_data"
    },
    {
     "data": {
      "application/vnd.jupyter.widget-view+json": {
       "model_id": "bcd3bd02df5143808b015cf1a399d8d9",
       "version_major": 2,
       "version_minor": 0
      },
      "text/plain": [
       "Fetching 30 files:   0%|          | 0/30 [00:00<?, ?it/s]"
      ]
     },
     "metadata": {},
     "output_type": "display_data"
    },
    {
     "data": {
      "application/vnd.jupyter.widget-view+json": {
       "model_id": "081fc83ea1664900850c89e29aa6f59c",
       "version_major": 2,
       "version_minor": 0
      },
      "text/plain": [
       "bengali.txt: 0.00B [00:00, ?B/s]"
      ]
     },
     "metadata": {},
     "output_type": "display_data"
    },
    {
     "data": {
      "application/vnd.jupyter.widget-view+json": {
       "model_id": "e1e7c95df4f24b1c8cc07a0241a32a88",
       "version_major": 2,
       "version_minor": 0
      },
      "text/plain": [
       "danish.txt:   0%|          | 0.00/424 [00:00<?, ?B/s]"
      ]
     },
     "metadata": {},
     "output_type": "display_data"
    },
    {
     "data": {
      "application/vnd.jupyter.widget-view+json": {
       "model_id": "58903f05c4e2469180ca51ee3b3003a6",
       "version_major": 2,
       "version_minor": 0
      },
      "text/plain": [
       "azerbaijani.txt:   0%|          | 0.00/967 [00:00<?, ?B/s]"
      ]
     },
     "metadata": {},
     "output_type": "display_data"
    },
    {
     "data": {
      "application/vnd.jupyter.widget-view+json": {
       "model_id": "2ccfa928ad0344c9b37aeb9d31cf1764",
       "version_major": 2,
       "version_minor": 0
      },
      "text/plain": [
       "config.json:   0%|          | 0.00/2.00 [00:00<?, ?B/s]"
      ]
     },
     "metadata": {},
     "output_type": "display_data"
    },
    {
     "data": {
      "application/vnd.jupyter.widget-view+json": {
       "model_id": "7b16e78977b94eb8bc2a9afe621ee63d",
       "version_major": 2,
       "version_minor": 0
      },
      "text/plain": [
       "basque.txt: 0.00B [00:00, ?B/s]"
      ]
     },
     "metadata": {},
     "output_type": "display_data"
    },
    {
     "data": {
      "application/vnd.jupyter.widget-view+json": {
       "model_id": "1d4df7bbe5104fb993209f299e1bc0e7",
       "version_major": 2,
       "version_minor": 0
      },
      "text/plain": [
       "catalan.txt: 0.00B [00:00, ?B/s]"
      ]
     },
     "metadata": {},
     "output_type": "display_data"
    },
    {
     "data": {
      "application/vnd.jupyter.widget-view+json": {
       "model_id": "20010ea58aa6477bad1f1ead097793fc",
       "version_major": 2,
       "version_minor": 0
      },
      "text/plain": [
       "arabic.txt: 0.00B [00:00, ?B/s]"
      ]
     },
     "metadata": {},
     "output_type": "display_data"
    },
    {
     "data": {
      "application/vnd.jupyter.widget-view+json": {
       "model_id": "27b7035d3e2943ffa7617519cb8f9f06",
       "version_major": 2,
       "version_minor": 0
      },
      "text/plain": [
       "dutch.txt:   0%|          | 0.00/453 [00:00<?, ?B/s]"
      ]
     },
     "metadata": {},
     "output_type": "display_data"
    },
    {
     "data": {
      "application/vnd.jupyter.widget-view+json": {
       "model_id": "e7fd20795de84d96b322454877a04834",
       "version_major": 2,
       "version_minor": 0
      },
      "text/plain": [
       "english.txt:   0%|          | 0.00/936 [00:00<?, ?B/s]"
      ]
     },
     "metadata": {},
     "output_type": "display_data"
    },
    {
     "data": {
      "application/vnd.jupyter.widget-view+json": {
       "model_id": "94d9ea2499484c58bbb2817fd4f935b8",
       "version_major": 2,
       "version_minor": 0
      },
      "text/plain": [
       "finnish.txt: 0.00B [00:00, ?B/s]"
      ]
     },
     "metadata": {},
     "output_type": "display_data"
    },
    {
     "data": {
      "application/vnd.jupyter.widget-view+json": {
       "model_id": "88ee1e1124844ab8b2286d9a93f251ec",
       "version_major": 2,
       "version_minor": 0
      },
      "text/plain": [
       "chinese.txt: 0.00B [00:00, ?B/s]"
      ]
     },
     "metadata": {},
     "output_type": "display_data"
    },
    {
     "data": {
      "application/vnd.jupyter.widget-view+json": {
       "model_id": "aaf9479e8fa84d0cb79b2d04fdead2f8",
       "version_major": 2,
       "version_minor": 0
      },
      "text/plain": [
       "french.txt:   0%|          | 0.00/813 [00:00<?, ?B/s]"
      ]
     },
     "metadata": {},
     "output_type": "display_data"
    },
    {
     "data": {
      "application/vnd.jupyter.widget-view+json": {
       "model_id": "4784b5e1eee6467792e500502afc976c",
       "version_major": 2,
       "version_minor": 0
      },
      "text/plain": [
       "german.txt: 0.00B [00:00, ?B/s]"
      ]
     },
     "metadata": {},
     "output_type": "display_data"
    },
    {
     "data": {
      "application/vnd.jupyter.widget-view+json": {
       "model_id": "464e591b68ec40899be7530bfe2ef2c7",
       "version_major": 2,
       "version_minor": 0
      },
      "text/plain": [
       "greek.txt: 0.00B [00:00, ?B/s]"
      ]
     },
     "metadata": {},
     "output_type": "display_data"
    },
    {
     "data": {
      "application/vnd.jupyter.widget-view+json": {
       "model_id": "10902137b77d48b596940fa93327cf53",
       "version_major": 2,
       "version_minor": 0
      },
      "text/plain": [
       "hebrew.txt: 0.00B [00:00, ?B/s]"
      ]
     },
     "metadata": {},
     "output_type": "display_data"
    },
    {
     "data": {
      "application/vnd.jupyter.widget-view+json": {
       "model_id": "eb41235b6756400c93c747c2c3387117",
       "version_major": 2,
       "version_minor": 0
      },
      "text/plain": [
       "hinglish.txt: 0.00B [00:00, ?B/s]"
      ]
     },
     "metadata": {},
     "output_type": "display_data"
    },
    {
     "data": {
      "application/vnd.jupyter.widget-view+json": {
       "model_id": "7b19772f7a934047bb1d2ff64a69f697",
       "version_major": 2,
       "version_minor": 0
      },
      "text/plain": [
       "kazakh.txt: 0.00B [00:00, ?B/s]"
      ]
     },
     "metadata": {},
     "output_type": "display_data"
    },
    {
     "data": {
      "application/vnd.jupyter.widget-view+json": {
       "model_id": "8532e54129dc4c8e838ef0a5e9a49809",
       "version_major": 2,
       "version_minor": 0
      },
      "text/plain": [
       "italian.txt: 0.00B [00:00, ?B/s]"
      ]
     },
     "metadata": {},
     "output_type": "display_data"
    },
    {
     "data": {
      "application/vnd.jupyter.widget-view+json": {
       "model_id": "fd3dd6b4896848cea0bb15bb66209343",
       "version_major": 2,
       "version_minor": 0
      },
      "text/plain": [
       "indonesian.txt: 0.00B [00:00, ?B/s]"
      ]
     },
     "metadata": {},
     "output_type": "display_data"
    },
    {
     "data": {
      "application/vnd.jupyter.widget-view+json": {
       "model_id": "959c4e07fcff42fba281204aad83d1d7",
       "version_major": 2,
       "version_minor": 0
      },
      "text/plain": [
       "hungarian.txt: 0.00B [00:00, ?B/s]"
      ]
     },
     "metadata": {},
     "output_type": "display_data"
    },
    {
     "data": {
      "application/vnd.jupyter.widget-view+json": {
       "model_id": "c3edaa44057e4867a2e3dfcb8fd8ac4b",
       "version_major": 2,
       "version_minor": 0
      },
      "text/plain": [
       "nepali.txt: 0.00B [00:00, ?B/s]"
      ]
     },
     "metadata": {},
     "output_type": "display_data"
    },
    {
     "data": {
      "application/vnd.jupyter.widget-view+json": {
       "model_id": "22565dabd4db49f7bcca4991cd2fda5b",
       "version_major": 2,
       "version_minor": 0
      },
      "text/plain": [
       "norwegian.txt:   0%|          | 0.00/851 [00:00<?, ?B/s]"
      ]
     },
     "metadata": {},
     "output_type": "display_data"
    },
    {
     "data": {
      "application/vnd.jupyter.widget-view+json": {
       "model_id": "a1a766e9df074a338efb1d891cb1e1f1",
       "version_major": 2,
       "version_minor": 0
      },
      "text/plain": [
       "portuguese.txt: 0.00B [00:00, ?B/s]"
      ]
     },
     "metadata": {},
     "output_type": "display_data"
    },
    {
     "data": {
      "application/vnd.jupyter.widget-view+json": {
       "model_id": "e23544d20abb48c185601abecb429008",
       "version_major": 2,
       "version_minor": 0
      },
      "text/plain": [
       "russian.txt: 0.00B [00:00, ?B/s]"
      ]
     },
     "metadata": {},
     "output_type": "display_data"
    },
    {
     "data": {
      "application/vnd.jupyter.widget-view+json": {
       "model_id": "3ff5ed0ec41e4b3ca6c49fffb7c0b455",
       "version_major": 2,
       "version_minor": 0
      },
      "text/plain": [
       "swedish.txt:   0%|          | 0.00/559 [00:00<?, ?B/s]"
      ]
     },
     "metadata": {},
     "output_type": "display_data"
    },
    {
     "data": {
      "application/vnd.jupyter.widget-view+json": {
       "model_id": "c563619ebb2d448b8a297e32911df4d2",
       "version_major": 2,
       "version_minor": 0
      },
      "text/plain": [
       "slovene.txt: 0.00B [00:00, ?B/s]"
      ]
     },
     "metadata": {},
     "output_type": "display_data"
    },
    {
     "data": {
      "application/vnd.jupyter.widget-view+json": {
       "model_id": "91de4f743eea41d39ad762b5171c5cfd",
       "version_major": 2,
       "version_minor": 0
      },
      "text/plain": [
       "romanian.txt: 0.00B [00:00, ?B/s]"
      ]
     },
     "metadata": {},
     "output_type": "display_data"
    },
    {
     "data": {
      "application/vnd.jupyter.widget-view+json": {
       "model_id": "7d4527accc244055ae8bf0085acee3eb",
       "version_major": 2,
       "version_minor": 0
      },
      "text/plain": [
       "spanish.txt: 0.00B [00:00, ?B/s]"
      ]
     },
     "metadata": {},
     "output_type": "display_data"
    },
    {
     "data": {
      "application/vnd.jupyter.widget-view+json": {
       "model_id": "ada72b455e2140c6a78a8194b30d1681",
       "version_major": 2,
       "version_minor": 0
      },
      "text/plain": [
       "tajik.txt: 0.00B [00:00, ?B/s]"
      ]
     },
     "metadata": {},
     "output_type": "display_data"
    },
    {
     "data": {
      "application/vnd.jupyter.widget-view+json": {
       "model_id": "7dd97cfb4a374f5484b630ceff665739",
       "version_major": 2,
       "version_minor": 0
      },
      "text/plain": [
       "turkish.txt:   0%|          | 0.00/260 [00:00<?, ?B/s]"
      ]
     },
     "metadata": {},
     "output_type": "display_data"
    },
    {
     "data": {
      "text/plain": [
       "UpdateResult(operation_id=0, status=<UpdateStatus.COMPLETED: 'completed'>)"
      ]
     },
     "execution_count": 19,
     "metadata": {},
     "output_type": "execute_result"
    }
   ],
   "source": [
    "# construct points\n",
    "points = []\n",
    "\n",
    "for recipe in tqdm(recipes_raw):\n",
    "    point = models.PointStruct(\n",
    "        id=recipe[\"recipe_id\"],\n",
    "        vector={\n",
    "            \"bm25\": models.Document(\n",
    "                text=recipe[\"text\"],\n",
    "                model=\"Qdrant/bm25\",\n",
    "            ),\n",
    "        },\n",
    "        payload={\n",
    "            \"recipe_id\": recipe[\"recipe_id\"],\n",
    "            \"text\": recipe[\"text\"],\n",
    "            \"recipe_name\": recipe[\"recipe_name\"],\n",
    "            \"recipe_link\": recipe[\"recipe_link\"],\n",
    "            \"recipe_description\": recipe[\"recipe_description\"],\n",
    "            \"ratings\": recipe[\"ratings\"],\n",
    "            \"ready-in\": recipe[\"ready-in\"],\n",
    "            \"directions\": recipe[\"directions\"],\n",
    "            \"ingredients\": recipe[\"ingredients\"],\n",
    "        },\n",
    "    )\n",
    "    points.append(point)\n",
    "\n",
    "# upsert into DB\n",
    "qdrant_client.upsert(collection_name=collection_name, points=points)"
   ]
  },
  {
   "cell_type": "code",
   "execution_count": 20,
   "id": "d083201c",
   "metadata": {},
   "outputs": [],
   "source": [
    "def qdrant_sparse_search(query, collection_name, limit=5) -> list[models.ScoredPoint]:\n",
    "    query_points = qdrant_client.query_points(\n",
    "        collection_name=collection_name,\n",
    "        query=models.Document(\n",
    "            text=query,\n",
    "            model=\"Qdrant/bm25\",\n",
    "        ),\n",
    "        using=\"bm25\",\n",
    "        limit=limit,\n",
    "        with_payload=True,\n",
    "    )\n",
    "\n",
    "    results = []\n",
    "    for point in query_points.points:\n",
    "        results.append(point.payload)\n",
    "    return results"
   ]
  },
  {
   "cell_type": "code",
   "execution_count": 21,
   "id": "477ce6b8",
   "metadata": {},
   "outputs": [
    {
     "data": {
      "application/vnd.jupyter.widget-view+json": {
       "model_id": "ef5eef8c9c104a9ab4fcb874ceb5b46b",
       "version_major": 2,
       "version_minor": 0
      },
      "text/plain": [
       "  0%|          | 0/440 [00:00<?, ?it/s]"
      ]
     },
     "metadata": {},
     "output_type": "display_data"
    },
    {
     "data": {
      "text/plain": [
       "{'hit_rate': 1.0, 'mrr': 0.9720643939393939}"
      ]
     },
     "execution_count": 21,
     "metadata": {},
     "output_type": "execute_result"
    }
   ],
   "source": [
    "evaluate(\n",
    "    ground_truth,\n",
    "    lambda q: qdrant_sparse_search(\n",
    "        q[\"question\"], collection_name=\"recipe-rag-sparse\", limit=10\n",
    "    ),\n",
    ")"
   ]
  },
  {
   "cell_type": "markdown",
   "id": "f4f72dde",
   "metadata": {},
   "source": [
    "### Qdrant vector search"
   ]
  },
  {
   "cell_type": "code",
   "execution_count": 22,
   "id": "9c746c2a",
   "metadata": {},
   "outputs": [],
   "source": [
    "def qdrant_search(query, collection_name, limit=5):\n",
    "    query_points = qdrant_client.query_points(\n",
    "        collection_name=collection_name,\n",
    "        query=models.Document(  # embed the query text locally with \"jinaai/jina-embeddings-v2-small-en\"\n",
    "            text=query, model=model_handle\n",
    "        ),\n",
    "        limit=limit,  # top closest matches\n",
    "        with_payload=True,  # to get metadata in the results\n",
    "    )\n",
    "\n",
    "    results = []\n",
    "    for point in query_points.points:\n",
    "        results.append(point.payload)\n",
    "    return results"
   ]
  },
  {
   "cell_type": "code",
   "execution_count": 23,
   "id": "0038564a",
   "metadata": {},
   "outputs": [
    {
     "data": {
      "application/vnd.jupyter.widget-view+json": {
       "model_id": "a151dadb4c5e4f11bac3ba05511f4601",
       "version_major": 2,
       "version_minor": 0
      },
      "text/plain": [
       "  0%|          | 0/440 [00:00<?, ?it/s]"
      ]
     },
     "metadata": {},
     "output_type": "display_data"
    },
    {
     "data": {
      "text/plain": [
       "{'hit_rate': 1.0, 'mrr': 0.9898484848484848}"
      ]
     },
     "execution_count": 23,
     "metadata": {},
     "output_type": "execute_result"
    }
   ],
   "source": [
    "evaluate(\n",
    "    ground_truth,\n",
    "    lambda q: qdrant_search(q[\"question\"], collection_name=\"recipe-rag\", limit=10),\n",
    ")"
   ]
  },
  {
   "cell_type": "markdown",
   "id": "cc5402c1",
   "metadata": {},
   "source": [
    "### Qdrant hybrid search"
   ]
  },
  {
   "cell_type": "code",
   "execution_count": 24,
   "id": "e5c3406c",
   "metadata": {},
   "outputs": [
    {
     "data": {
      "text/plain": [
       "True"
      ]
     },
     "execution_count": 24,
     "metadata": {},
     "output_type": "execute_result"
    }
   ],
   "source": [
    "# hybrid search with Qdrant\n",
    "collection_name = \"recipe-rag-hybrid\"\n",
    "if qdrant_client.collection_exists(collection_name):\n",
    "    qdrant_client.delete_collection(collection_name=collection_name)\n",
    "\n",
    "qdrant_client.create_collection(\n",
    "    collection_name=collection_name,\n",
    "    vectors_config={\n",
    "        # Named dense vector for jinaai/jina-embeddings-v2-small-en\n",
    "        \"jina-small\": models.VectorParams(\n",
    "            size=512,\n",
    "            distance=models.Distance.COSINE,\n",
    "        ),\n",
    "    },\n",
    "    sparse_vectors_config={\n",
    "        \"bm25\": models.SparseVectorParams(\n",
    "            modifier=models.Modifier.IDF,\n",
    "        )\n",
    "    },\n",
    ")"
   ]
  },
  {
   "cell_type": "code",
   "execution_count": 25,
   "id": "6d80f398",
   "metadata": {},
   "outputs": [
    {
     "data": {
      "application/vnd.jupyter.widget-view+json": {
       "model_id": "dd605b61ca8444048f5e62bfa7a4b6d5",
       "version_major": 2,
       "version_minor": 0
      },
      "text/plain": [
       "  0%|          | 0/88 [00:00<?, ?it/s]"
      ]
     },
     "metadata": {},
     "output_type": "display_data"
    },
    {
     "data": {
      "text/plain": [
       "UpdateResult(operation_id=0, status=<UpdateStatus.COMPLETED: 'completed'>)"
      ]
     },
     "execution_count": 25,
     "metadata": {},
     "output_type": "execute_result"
    }
   ],
   "source": [
    "# construct points\n",
    "points = []\n",
    "\n",
    "for recipe in tqdm(recipes_raw):\n",
    "    point = models.PointStruct(\n",
    "        id=recipe[\"recipe_id\"],\n",
    "        vector={\n",
    "            \"jina-small\": models.Document(\n",
    "                text=recipe[\"text\"],\n",
    "                model=\"jinaai/jina-embeddings-v2-small-en\",\n",
    "            ),\n",
    "            \"bm25\": models.Document(\n",
    "                text=recipe[\"text\"],\n",
    "                model=\"Qdrant/bm25\",\n",
    "            ),\n",
    "        },\n",
    "        payload={\n",
    "            \"recipe_id\": recipe[\"recipe_id\"],\n",
    "            \"text\": recipe[\"text\"],\n",
    "            \"recipe_name\": recipe[\"recipe_name\"],\n",
    "            \"recipe_link\": recipe[\"recipe_link\"],\n",
    "            \"recipe_description\": recipe[\"recipe_description\"],\n",
    "            \"ratings\": recipe[\"ratings\"],\n",
    "            \"ready-in\": recipe[\"ready-in\"],\n",
    "            \"directions\": recipe[\"directions\"],\n",
    "            \"ingredients\": recipe[\"ingredients\"],\n",
    "        },\n",
    "    )\n",
    "    points.append(point)\n",
    "\n",
    "# upsert into DB\n",
    "qdrant_client.upsert(collection_name=collection_name, points=points)"
   ]
  },
  {
   "cell_type": "code",
   "execution_count": 26,
   "id": "f0a218f3",
   "metadata": {},
   "outputs": [],
   "source": [
    "def qdrant_rrf_search(query, collection_name, limit=5) -> list[models.ScoredPoint]:\n",
    "    query_points = qdrant_client.query_points(\n",
    "        collection_name=collection_name,\n",
    "        prefetch=[\n",
    "            models.Prefetch(\n",
    "                query=models.Document(\n",
    "                    text=query,\n",
    "                    model=\"jinaai/jina-embeddings-v2-small-en\",\n",
    "                ),\n",
    "                using=\"jina-small\",\n",
    "                limit=(5 * limit),\n",
    "            ),\n",
    "            models.Prefetch(\n",
    "                query=models.Document(\n",
    "                    text=query,\n",
    "                    model=\"Qdrant/bm25\",\n",
    "                ),\n",
    "                using=\"bm25\",\n",
    "                limit=(5 * limit),\n",
    "            ),\n",
    "        ],\n",
    "        # Fusion query enables fusion on the prefetched results\n",
    "        query=models.FusionQuery(fusion=models.Fusion.RRF),\n",
    "        with_payload=True,\n",
    "    )\n",
    "\n",
    "    results = []\n",
    "    for point in query_points.points:\n",
    "        results.append(point.payload)\n",
    "    return results"
   ]
  },
  {
   "cell_type": "code",
   "execution_count": 27,
   "id": "1406765d",
   "metadata": {},
   "outputs": [
    {
     "data": {
      "application/vnd.jupyter.widget-view+json": {
       "model_id": "a73b77f009d64472be3c425886194985",
       "version_major": 2,
       "version_minor": 0
      },
      "text/plain": [
       "  0%|          | 0/440 [00:00<?, ?it/s]"
      ]
     },
     "metadata": {},
     "output_type": "display_data"
    },
    {
     "data": {
      "text/plain": [
       "{'hit_rate': 1.0, 'mrr': 0.990909090909091}"
      ]
     },
     "execution_count": 27,
     "metadata": {},
     "output_type": "execute_result"
    }
   ],
   "source": [
    "evaluate(\n",
    "    ground_truth,\n",
    "    lambda q: qdrant_rrf_search(\n",
    "        q[\"question\"], collection_name=\"recipe-rag-hybrid\", limit=10\n",
    "    ),\n",
    ")"
   ]
  },
  {
   "cell_type": "markdown",
   "id": "49330683",
   "metadata": {},
   "source": [
    "rrf search seems to have better results."
   ]
  },
  {
   "cell_type": "markdown",
   "id": "7a26185e",
   "metadata": {},
   "source": [
    "# RAG evaluation"
   ]
  },
  {
   "cell_type": "code",
   "execution_count": 28,
   "id": "f23d511f",
   "metadata": {},
   "outputs": [],
   "source": [
    "prompt_template = \"\"\"\n",
    "You are an expert evaluator for a RAG system.\n",
    "Your task is to analyze the relevance of the generated answer to the given question.\n",
    "Based on the relevance of the generated answer, you will classify it\n",
    "as \"NON_RELEVANT\", \"PARTLY_RELEVANT\", or \"RELEVANT\".\n",
    "\n",
    "Here is the data for evaluation:\n",
    "\n",
    "Question: {question}\n",
    "Generated Answer: {answer_llm}\n",
    "\n",
    "Please analyze the content and context of the generated answer in relation to the question\n",
    "and provide your evaluation in parsable JSON without using code blocks:\n",
    "\n",
    "{{\n",
    "  \"Relevance\": \"NON_RELEVANT\" | \"PARTLY_RELEVANT\" | \"RELEVANT\",\n",
    "  \"Explanation\": \"[Provide a brief explanation for your evaluation]\"\n",
    "}}\n",
    "\"\"\".strip()"
   ]
  },
  {
   "cell_type": "code",
   "execution_count": 29,
   "id": "f9eb9c7a",
   "metadata": {},
   "outputs": [],
   "source": [
    "record = ground_truth[0]\n",
    "question = record[\"question\"]\n",
    "answer_llm = rag(question, openai_client, \"recipe-rag\", \"gpt-4o-mini\")"
   ]
  },
  {
   "cell_type": "code",
   "execution_count": 30,
   "id": "59e15827",
   "metadata": {},
   "outputs": [
    {
     "name": "stdout",
     "output_type": "stream",
     "text": [
      "You are an expert evaluator for a RAG system.\n",
      "Your task is to analyze the relevance of the generated answer to the given question.\n",
      "Based on the relevance of the generated answer, you will classify it\n",
      "as \"NON_RELEVANT\", \"PARTLY_RELEVANT\", or \"RELEVANT\".\n",
      "\n",
      "Here is the data for evaluation:\n",
      "\n",
      "Question: What's the total cook time for the Ground Beef Gyros?\n",
      "Generated Answer: The total cook time for the Ground Beef Gyros is 22 minutes.\n",
      "\n",
      "Please analyze the content and context of the generated answer in relation to the question\n",
      "and provide your evaluation in parsable JSON without using code blocks:\n",
      "\n",
      "{\n",
      "  \"Relevance\": \"NON_RELEVANT\" | \"PARTLY_RELEVANT\" | \"RELEVANT\",\n",
      "  \"Explanation\": \"[Provide a brief explanation for your evaluation]\"\n",
      "}\n"
     ]
    }
   ],
   "source": [
    "prompt = prompt_template.format(question=question, answer_llm=answer_llm)\n",
    "print(prompt)"
   ]
  },
  {
   "cell_type": "code",
   "execution_count": 31,
   "id": "5975539e",
   "metadata": {},
   "outputs": [
    {
     "data": {
      "application/vnd.jupyter.widget-view+json": {
       "model_id": "12b6b975542e426cb8cac6737e466b26",
       "version_major": 2,
       "version_minor": 0
      },
      "text/plain": [
       "  0%|          | 0/440 [00:00<?, ?it/s]"
      ]
     },
     "metadata": {},
     "output_type": "display_data"
    }
   ],
   "source": [
    "import json\n",
    "\n",
    "evaluations = []\n",
    "\n",
    "for record in tqdm(ground_truth):\n",
    "    question = record[\"question\"]\n",
    "    answer_llm = rag(\n",
    "        query=question, openai_client=openai_client, collection_name=\"recipe-rag\"\n",
    "    )\n",
    "\n",
    "    prompt = prompt_template.format(question=question, answer_llm=answer_llm)\n",
    "\n",
    "    evaluation = llm(openai_client, prompt)\n",
    "    evaluation = json.loads(evaluation)\n",
    "\n",
    "    evaluations.append((record, answer_llm, evaluation))"
   ]
  },
  {
   "cell_type": "code",
   "execution_count": 32,
   "id": "ad06a8eb",
   "metadata": {},
   "outputs": [],
   "source": [
    "df_eval = pd.DataFrame(evaluations, columns=[\"record\", \"answer\", \"evaluation\"])\n",
    "\n",
    "df_eval[\"id\"] = df_eval.record.apply(lambda d: d[\"id\"])\n",
    "df_eval[\"question\"] = df_eval.record.apply(lambda d: d[\"question\"])\n",
    "\n",
    "df_eval[\"relevance\"] = df_eval.evaluation.apply(lambda d: d[\"Relevance\"])\n",
    "df_eval[\"explanation\"] = df_eval.evaluation.apply(lambda d: d[\"Explanation\"])\n",
    "\n",
    "del df_eval[\"record\"]\n",
    "del df_eval[\"evaluation\"]"
   ]
  },
  {
   "cell_type": "code",
   "execution_count": 33,
   "id": "2c0836d6",
   "metadata": {},
   "outputs": [
    {
     "data": {
      "application/vnd.microsoft.datawrangler.viewer.v0+json": {
       "columns": [
        {
         "name": "index",
         "rawType": "int64",
         "type": "integer"
        },
        {
         "name": "answer",
         "rawType": "object",
         "type": "string"
        },
        {
         "name": "id",
         "rawType": "int64",
         "type": "integer"
        },
        {
         "name": "question",
         "rawType": "object",
         "type": "string"
        },
        {
         "name": "relevance",
         "rawType": "object",
         "type": "string"
        },
        {
         "name": "explanation",
         "rawType": "object",
         "type": "string"
        }
       ],
       "ref": "0d957ee1-3b53-40bf-a220-c4848a677673",
       "rows": [
        [
         "0",
         "The total cook time for the Ground Beef Gyros is 22 minutes.",
         "0",
         "What's the total cook time for the Ground Beef Gyros?",
         "RELEVANT",
         "The generated answer directly addresses the question by providing the precise total cook time for Ground Beef Gyros, which is exactly what was asked."
        ],
        [
         "1",
         "The recommended meat in the Ground Beef Gyros recipe is 1 lb of lean ground beef.",
         "0",
         "What kind of meat is recommended in the Ground Beef Gyros recipe?",
         "RELEVANT",
         "The generated answer directly addresses the question by specifying that the recommended meat for the Ground Beef Gyros recipe is 1 lb of lean ground beef, which is precisely what was asked."
        ],
        [
         "2",
         "According to the directions, the Ground Beef Gyros are served by cutting the grilled patties into thin slices and stuffing them into pitas. They should then be topped with lettuce, cucumber, tomato, and onion, and served with yogurt sauce.",
         "0",
         "How is the Ground Beef Gyros served according to the directions?",
         "RELEVANT",
         "The generated answer directly addresses the question by providing specific details on how the Ground Beef Gyros are served according to the directions, including cutting the patties, stuffing them into pitas, and what toppings to include."
        ],
        [
         "3",
         "The Ground Beef Gyros recipe received a rating of 4.44 stars.",
         "0",
         "What rating did the Ground Beef Gyros recipe receive?",
         "RELEVANT",
         "The generated answer directly addresses the question by providing the specific rating of the Ground Beef Gyros recipe, which is what was asked for."
        ],
        [
         "4",
         "Yes, the Ground Beef Gyros include a sauce that contains cucumbers, specifically a cucumber sauce made with plain yogurt and chopped seeded cucumber.",
         "0",
         "Do the Ground Beef Gyros include a sauce with cucumbers?",
         "RELEVANT",
         "The generated answer directly addresses the question by confirming that the Ground Beef Gyros include a sauce with cucumbers and provides additional information about the sauce's ingredients, which is relevant to the query."
        ],
        [
         "5",
         "The Lasagna recipe takes 2 hours and 30 minutes from start to finish.",
         "1",
         "How long does the Lasagna recipe take from start to finish?",
         "RELEVANT",
         "The generated answer directly addresses the question by providing a specific duration for the Lasagna recipe, clearly stating it takes 2 hours and 30 minutes from start to finish."
        ],
        [
         "6",
         "The main protein in this Lasagna recipe is ground beef, along with Italian sausage or ground veal.",
         "1",
         "What's the main protein in this Lasagna recipe?",
         "RELEVANT",
         "The generated answer correctly identifies the main protein in the Lasagna recipe as ground beef, and it also mentions other possible proteins, which adds useful context. This directly addresses the question asked."
        ],
        [
         "7",
         "The Lasagna recipe uses cottage cheese for layering, but it also states that you can easily substitute ricotta cheese.",
         "1",
         "What kind of cheese does the Lasagna recipe use for layering?",
         "RELEVANT",
         "The generated answer directly addresses the question by specifying that cottage cheese is used for layering in the lasagna recipe, and it also provides additional information about a possible substitution with ricotta cheese, which is relevant to the context of the recipe."
        ],
        [
         "8",
         "Yes, the lasagna noodles are cooked according to the package directions before being added to the Lasagna recipe.",
         "1",
         "Are the lasagna noodles pre-cooked before adding to the Lasagna recipe?",
         "RELEVANT",
         "The generated answer directly addresses the question by confirming that lasagna noodles are cooked according to package directions before being added to the recipe, which is relevant information regarding their preparation."
        ],
        [
         "9",
         "The Lasagna should be baked at 375°F for 40-60 minutes.",
         "1",
         "What temperature should the Lasagna be baked at?",
         "RELEVANT",
         "The generated answer provides a specific baking temperature (375°F) and a time range (40-60 minutes), which directly addresses the question about the temperature for baking Lasagna."
        ],
        [
         "10",
         "The cooking time for The Best Easy Beef & Broccoli Stir-Fry is 25 minutes.",
         "2",
         "What's the cooking time for The Best Easy Beef & Broccoli Stir-Fry?",
         "RELEVANT",
         "The generated answer provides a direct response to the question by stating the specific cooking time for the dish mentioned, which aligns perfectly with the information being requested."
        ],
        [
         "11",
         "The recommended type of steak for The Best Easy Beef & Broccoli Stir-Fry is charcoal chuck steak, which is noted for being very tender and lean. Alternatively, boneless round steak can also be used.",
         "2",
         "Which type of steak is recommended for The Best Easy Beef & Broccoli Stir-Fry?",
         "RELEVANT",
         "The generated answer correctly identifies a specific type of steak (charcoal chuck steak) recommended for the Beef & Broccoli Stir-Fry, and also provides an alternative (boneless round steak), directly addressing the question."
        ],
        [
         "12",
         "The Best Easy Beef & Broccoli Stir-Fry is rated 4.65 stars based on 855 ratings.",
         "2",
         "How is The Best Easy Beef & Broccoli Stir-Fry rated?",
         "RELEVANT",
         "The generated answer directly addresses the question by providing the specific rating (4.65 stars) of The Best Easy Beef & Broccoli Stir-Fry, along with the context of it being based on 855 ratings. This information is exactly what the question is asking for."
        ],
        [
         "13",
         "The optional ingredient for garnishing The Best Easy Beef & Broccoli Stir-Fry is toasted sesame seeds.",
         "2",
         "What ingredient is optional for garnishing The Best Easy Beef & Broccoli Stir-Fry?",
         "RELEVANT",
         "The generated answer correctly identifies toasted sesame seeds as the optional ingredient for garnishing the specified dish, directly addressing the question asked."
        ],
        [
         "14",
         "You serve The Best Easy Beef & Broccoli Stir-Fry over rice and can garnish it with toasted sesame seeds (optional).",
         "2",
         "What do you serve The Best Easy Beef & Broccoli Stir-Fry with?",
         "RELEVANT",
         "The generated answer directly addresses the question by stating that The Best Easy Beef & Broccoli Stir-Fry is served over rice, which is a common accompaniment, and also offers an optional garnish suggestion. This provides useful information regarding what to serve the dish with."
        ],
        [
         "15",
         "It takes 15 minutes to make The Ultimate Greek Salad.",
         "3",
         "How long does it take to make The Ultimate Greek Salad?",
         "RELEVANT",
         "The generated answer directly addresses the question by providing a specific time frame (15 minutes) for making The Ultimate Greek Salad, which is exactly what the question asks."
        ],
        [
         "16",
         "The type of olives used in The Ultimate Greek Salad are kalamata olives.",
         "3",
         "What type of olives are used in The Ultimate Greek Salad?",
         "RELEVANT",
         "The generated answer directly addresses the question by specifying that kalamata olives are used in The Ultimate Greek Salad, which is precisely what was asked."
        ],
        [
         "17",
         "Yes, lettuce can be included in The Ultimate Greek Salad. The recipe mentions that while it would not be considered \"authentic\" for a Horiatiki (village) salad, the author likes to add it and often includes it in their family's version.",
         "3",
         "Can lettuce be included in The Ultimate Greek Salad?",
         "RELEVANT",
         "The generated answer directly addresses the question by confirming that lettuce can be included in The Ultimate Greek Salad, while also providing context about its authenticity and personal preference, which adds value to the response."
        ],
        [
         "18",
         "The dressing for The Ultimate Greek Salad is prepared by whisking together the following ingredients until blended: 6 tablespoons of olive oil, 1½ tablespoons of fresh lemon juice, 1 tablespoon of red wine vinegar, 2 minced garlic cloves, and 1 teaspoon of dried oregano. After whisking, season to taste.",
         "3",
         "How is the dressing for The Ultimate Greek Salad prepared?",
         "RELEVANT",
         "The generated answer directly addresses the question by providing a clear and detailed method for preparing the dressing specific to The Ultimate Greek Salad, including all necessary ingredients and steps."
        ],
        [
         "19",
         "The average rating for The Ultimate Greek Salad is 4.88 stars based on 132 ratings.",
         "3",
         "What is the average rating for The Ultimate Greek Salad?",
         "RELEVANT",
         "The generated answer directly addresses the question by providing the specific average rating of The Ultimate Greek Salad, along with the number of ratings it is based on."
        ],
        [
         "20",
         "It takes 30 minutes to cook Easy Stovetop Macaroni 'n' Cheese.",
         "4",
         "How long does it take to cook Easy Stovetop Macaroni 'n' Cheese?",
         "RELEVANT",
         "The generated answer directly addresses the question by providing a specific time of 30 minutes, which is the expected duration to cook Easy Stovetop Macaroni 'n' Cheese."
        ],
        [
         "21",
         "The Easy Stovetop Macaroni 'n' Cheese recipe uses elbow macaroni.",
         "4",
         "What kind of pasta is used in the Easy Stovetop Macaroni 'n' Cheese recipe?",
         "RELEVANT",
         "The generated answer directly addresses the question by specifying that elbow macaroni is the type of pasta used in the Easy Stovetop Macaroni 'n' Cheese recipe. This is precisely the information requested."
        ],
        [
         "22",
         "No, the Easy Stovetop Macaroni 'n' Cheese does not require baking.",
         "4",
         "Does the Easy Stovetop Macaroni 'n' Cheese require baking?",
         "RELEVANT",
         "The generated answer directly addresses the question about whether baking is required for Easy Stovetop Macaroni 'n' Cheese by clearly stating that it does not require baking."
        ],
        [
         "23",
         "The type of cheese used in Easy Stovetop Macaroni 'n' Cheese is shredded cheddar cheese or cheddar cheese (8 ounces).",
         "4",
         "What type of cheese is used in Easy Stovetop Macaroni 'n' Cheese?",
         "RELEVANT",
         "The generated answer directly addresses the question by specifying the type of cheese used in Easy Stovetop Macaroni 'n' Cheese, which is shredded cheddar cheese or cheddar cheese."
        ],
        [
         "24",
         "The rating for the Easy Stovetop Macaroni 'n' Cheese recipe is 4.48 stars.",
         "4",
         "What is the rating for the Easy Stovetop Macaroni 'n' Cheese recipe?",
         "RELEVANT",
         "The generated answer directly addresses the question by providing the specific rating of 4.48 stars for the Easy Stovetop Macaroni 'n' Cheese recipe, making it completely relevant."
        ],
        [
         "25",
         "Bev's Spaghetti Sauce needs to cook for 1 1/2 hours.",
         "5",
         "How long does Bev's Spaghetti Sauce need to cook?",
         "RELEVANT",
         "The generated answer directly addresses the question by providing the specific cooking time required for Bev's Spaghetti Sauce, which is 1 1/2 hours."
        ],
        [
         "26",
         "The meat used in Bev's Spaghetti Sauce is ground beef.",
         "5",
         "What meat is used in Bev's Spaghetti Sauce?",
         "RELEVANT",
         "The generated answer directly addresses the question by specifying that ground beef is the meat used in Bev's Spaghetti Sauce, providing clear and relevant information."
        ],
        [
         "27",
         "Bev's Spaghetti Sauce has a rating of 4.77 stars from 374 ratings.",
         "5",
         "What rating does Bev's Spaghetti Sauce have from users?",
         "RELEVANT",
         "The generated answer explicitly provides the rating of Bev's Spaghetti Sauce as 4.77 stars, along with the number of ratings, which directly answers the question regarding user rating."
        ],
        [
         "28",
         "Yes, Bev's Spaghetti Sauce includes mushrooms in the ingredients, specifically 8 ounces of fresh mushrooms that are sliced and sauteed in butter (optional).",
         "5",
         "Does Bev's Spaghetti Sauce include mushrooms in the ingredients?",
         "RELEVANT",
         "The generated answer directly addresses the question by confirming that Bev's Spaghetti Sauce includes mushrooms and provides specific details about the ingredients, fulfilling the information requested."
        ],
        [
         "29",
         "Yes, freshly grated Parmesan cheese is considered optional in Bev's Spaghetti Sauce.",
         "5",
         "Is freshly grated Parmesan cheese considered optional in Bev's Spaghetti Sauce?",
         "RELEVANT",
         "The generated answer directly addresses the question by confirming that freshly grated Parmesan cheese is indeed considered optional in Bev's Spaghetti Sauce. It provides a clear and accurate response to the inquiry."
        ],
        [
         "30",
         "The cooking time for Perfect Southern Fried Chicken is a total of 40 minutes: 5 minutes covered initially, followed by another 5 minutes covered, and then an additional 20 minutes uncovered, turning occasionally.",
         "6",
         "What is the cooking time for Perfect Southern Fried Chicken?",
         "RELEVANT",
         "The generated answer directly addresses the question about the cooking time for Perfect Southern Fried Chicken, providing a specific time breakdown that includes covered and uncovered cooking periods."
        ],
        [
         "31",
         "The Perfect Southern Fried Chicken recipe uses 1 whole chicken, cut into 10 pieces (2 legs, 2 thighs, 2 wings, and 4 breasts).",
         "6",
         "How many pieces of chicken are used in the Perfect Southern Fried Chicken recipe?",
         "RELEVANT",
         "The generated answer directly addresses the question by specifying that the recipe uses 1 whole chicken cut into 10 pieces, which clearly answers how many pieces of chicken are used in the recipe."
        ],
        [
         "32",
         "The purpose of covering the chicken in the Perfect Southern Fried Chicken recipe is to start the cooking process inside the chicken. This helps ensure that the meat cooks thoroughly. The chicken is then uncovered during the last part of the cooking time to allow the outside to become nice and crispy and golden brown.",
         "6",
         "What is the purpose of covering the chicken in the Perfect Southern Fried Chicken recipe?",
         "RELEVANT",
         "The generated answer directly addresses the question about the purpose of covering the chicken in the recipe, explaining that it helps initiate the cooking process for thorough doneness. It also mentions the subsequent uncovering of the chicken for achieving a crispy exterior, adding depth to the explanation."
        ],
        [
         "33",
         "In the Perfect Southern Fried Chicken recipe, the chicken is seasoned by first soaking it in a mixture of water and salt for at least 2 hours in the refrigerator. After soaking, the chicken pieces are dipped into a mixture of buttermilk, eggs, and Season All before being coated in a mixture of flour, cornmeal, dried oregano, and additional Season All.",
         "6",
         "How is the chicken seasoned in the Perfect Southern Fried Chicken recipe before frying?",
         "RELEVANT",
         "The generated answer provides a detailed description of how the chicken is seasoned in the Perfect Southern Fried Chicken recipe, including the soaking in salt water and the use of buttermilk, eggs, and various seasonings, which directly addresses the question."
        ],
        [
         "34",
         "The Perfect Southern Fried Chicken recipe has 137 ratings.",
         "6",
         "How many ratings does the Perfect Southern Fried Chicken recipe have?",
         "RELEVANT",
         "The generated answer directly addresses the question by providing the specific number of ratings (137) for the Perfect Southern Fried Chicken recipe, which is exactly what was asked."
        ],
        [
         "35",
         "The cooking time for Chicken Fried Rice is 28 minutes.",
         "7",
         "What is the cooking time for Chicken Fried Rice?",
         "RELEVANT",
         "The generated answer directly addresses the question by providing a specific cooking time for Chicken Fried Rice, which is the information being asked for."
        ],
        [
         "36",
         "The flavor of Chicken Fried Rice is described as having \"the flavor those other recipes are missing\" and is noted to \"taste like takeout.\" This suggests that it offers a more authentic and satisfying flavor compared to other recipes. In contrast, the flavor descriptions of the other recipes do not emphasize missing elements or comparisons to takeout, with Curry Chicken being described as \"rather sweet\" and General Tso's Chicken praised for being \"even better than the BEST\" from a favorite restaurant, but without mentioning a distinct or missing flavor characteristic.",
         "7",
         "How is the flavor of Chicken Fried Rice described compared to other recipes?",
         "RELEVANT",
         "The generated answer directly addresses the flavor of Chicken Fried Rice in comparison to other recipes. It highlights specific elements that make Chicken Fried Rice stand out, such as its authentic taste and the absence of certain flavor characteristics in other recipes. This directly responds to the question regarding the flavor comparison."
        ],
        [
         "37",
         "The recipe for Chicken Fried Rice suggests avoiding the use of sesame oil as a cooking oil because it easily burns.",
         "7",
         "What type of oil is suggested to avoid using for cooking in the Chicken Fried Rice recipe?",
         "RELEVANT",
         "The generated answer directly addresses the question by specifying that sesame oil is the type of oil suggested to be avoided for cooking in the Chicken Fried Rice recipe. It also provides a reason for this recommendation, which is relevant to the context of cooking."
        ],
        [
         "38",
         "In the Chicken Fried Rice recipe, 4 green onions are used, chopped.",
         "7",
         "How many green onions are used in Chicken Fried Rice?",
         "RELEVANT",
         "The generated answer directly addresses the question by specifying that 4 green onions are used in Chicken Fried Rice, which is exactly what was asked."
        ],
        [
         "39",
         "In the Chicken Fried Rice recipe, the egg should be mixed with 3 drops of soy sauce and 3 drops of sesame oil before it is added to the wok.",
         "7",
         "What should be done with the egg in the Chicken Fried Rice recipe before it's added to the wok?",
         "RELEVANT",
         "The generated answer directly addresses the question by specifying that the egg should be mixed with soy sauce and sesame oil before being added to the wok, which is relevant information for the Chicken Fried Rice recipe."
        ],
        [
         "40",
         "It takes a total of 35 minutes to cook the Sloppy Joes, including the preparation and simmering time.",
         "8",
         "How long does it take to cook the Sloppy Joes?",
         "RELEVANT",
         "The generated answer directly addresses the question by providing a specific time frame of 35 minutes to cook Sloppy Joes, including details about preparation and simmering. This makes it pertinent to the inquiry."
        ],
        [
         "41",
         "The main protein used in the Sloppy Joes is hamburger.",
         "8",
         "What's the main protein used in the Sloppy Joes?",
         "RELEVANT",
         "The generated answer directly addresses the question by identifying hamburger as the main protein used in Sloppy Joes, which is accurate and relevant information."
        ],
        [
         "42",
         "The onion is prepared by dicing it for the Sloppy Joes.",
         "8",
         "How is the onion prepared for the Sloppy Joes?",
         "RELEVANT",
         "The generated answer directly addresses the question by specifying that the onion is prepared by dicing it, which is a key step in the preparation of Sloppy Joes."
        ],
        [
         "43",
         "The optional ingredient in the Sloppy Joes recipe is 1/2 teaspoon mustard.",
         "8",
         "What is the optional ingredient in the Sloppy Joes recipe?",
         "RELEVANT",
         "The generated answer directly addresses the question by identifying an optional ingredient in the Sloppy Joes recipe as 1/2 teaspoon of mustard. This information is pertinent and accurately answers the query."
        ],
        [
         "44",
         "The Sloppy Joes recipe has a rating of 4.77 stars.",
         "8",
         "How many stars does the Sloppy Joes recipe have?",
         "RELEVANT",
         "The generated answer directly addresses the question by providing the specific number of stars (4.77) associated with the Sloppy Joes recipe, which satisfies the inquiry about its rating."
        ],
        [
         "45",
         "It takes 23 minutes to cook the Chicken Parmesan.",
         "9",
         "How long does it take to cook the Chicken Parmesan?",
         "RELEVANT",
         "The generated answer directly addresses the question about the cooking time for Chicken Parmesan by providing a specific time of 23 minutes, which is relevant and useful information."
        ],
        [
         "46",
         "The main protein in the Chicken Parmesan recipe is chicken.",
         "9",
         "What is the main protein in the Chicken Parmesan recipe?",
         "RELEVANT",
         "The generated answer directly addresses the question by correctly identifying chicken as the main protein in the Chicken Parmesan recipe."
        ],
        [
         "47",
         "The cheese melted on top of the Chicken Parmesan is mozzarella cheese.",
         "9",
         "What kind of cheese is melted on top of the Chicken Parmesan?",
         "RELEVANT",
         "The generated answer correctly identifies mozzarella cheese as the type of cheese melted on top of Chicken Parmesan, directly addressing the question asked."
        ],
        [
         "48",
         "Yes, you can serve Chicken Parmesan with spaghetti according to the recipe. The directions specifically mention serving it with a side of spaghetti, making it an optional accompaniment.",
         "9",
         "Can I serve Chicken Parmesan with spaghetti according to the recipe?",
         "RELEVANT",
         "The generated answer directly addresses the question by confirming that Chicken Parmesan can be served with spaghetti according to the recipe and provides supporting information about the recipe's directions."
        ],
        [
         "49",
         "The star rating given to the Chicken Parmesan recipe is 4.87 stars.",
         "9",
         "What is the star rating given to the Chicken Parmesan recipe?",
         "RELEVANT",
         "The generated answer directly addresses the question by providing the specific star rating of the Chicken Parmesan recipe, which is the information being asked for."
        ]
       ],
       "shape": {
        "columns": 5,
        "rows": 440
       }
      },
      "text/html": [
       "<div>\n",
       "<style scoped>\n",
       "    .dataframe tbody tr th:only-of-type {\n",
       "        vertical-align: middle;\n",
       "    }\n",
       "\n",
       "    .dataframe tbody tr th {\n",
       "        vertical-align: top;\n",
       "    }\n",
       "\n",
       "    .dataframe thead th {\n",
       "        text-align: right;\n",
       "    }\n",
       "</style>\n",
       "<table border=\"1\" class=\"dataframe\">\n",
       "  <thead>\n",
       "    <tr style=\"text-align: right;\">\n",
       "      <th></th>\n",
       "      <th>answer</th>\n",
       "      <th>id</th>\n",
       "      <th>question</th>\n",
       "      <th>relevance</th>\n",
       "      <th>explanation</th>\n",
       "    </tr>\n",
       "  </thead>\n",
       "  <tbody>\n",
       "    <tr>\n",
       "      <th>0</th>\n",
       "      <td>The total cook time for the Ground Beef Gyros ...</td>\n",
       "      <td>0</td>\n",
       "      <td>What's the total cook time for the Ground Beef...</td>\n",
       "      <td>RELEVANT</td>\n",
       "      <td>The generated answer directly addresses the qu...</td>\n",
       "    </tr>\n",
       "    <tr>\n",
       "      <th>1</th>\n",
       "      <td>The recommended meat in the Ground Beef Gyros ...</td>\n",
       "      <td>0</td>\n",
       "      <td>What kind of meat is recommended in the Ground...</td>\n",
       "      <td>RELEVANT</td>\n",
       "      <td>The generated answer directly addresses the qu...</td>\n",
       "    </tr>\n",
       "    <tr>\n",
       "      <th>2</th>\n",
       "      <td>According to the directions, the Ground Beef G...</td>\n",
       "      <td>0</td>\n",
       "      <td>How is the Ground Beef Gyros served according ...</td>\n",
       "      <td>RELEVANT</td>\n",
       "      <td>The generated answer directly addresses the qu...</td>\n",
       "    </tr>\n",
       "    <tr>\n",
       "      <th>3</th>\n",
       "      <td>The Ground Beef Gyros recipe received a rating...</td>\n",
       "      <td>0</td>\n",
       "      <td>What rating did the Ground Beef Gyros recipe r...</td>\n",
       "      <td>RELEVANT</td>\n",
       "      <td>The generated answer directly addresses the qu...</td>\n",
       "    </tr>\n",
       "    <tr>\n",
       "      <th>4</th>\n",
       "      <td>Yes, the Ground Beef Gyros include a sauce tha...</td>\n",
       "      <td>0</td>\n",
       "      <td>Do the Ground Beef Gyros include a sauce with ...</td>\n",
       "      <td>RELEVANT</td>\n",
       "      <td>The generated answer directly addresses the qu...</td>\n",
       "    </tr>\n",
       "    <tr>\n",
       "      <th>...</th>\n",
       "      <td>...</td>\n",
       "      <td>...</td>\n",
       "      <td>...</td>\n",
       "      <td>...</td>\n",
       "      <td>...</td>\n",
       "    </tr>\n",
       "    <tr>\n",
       "      <th>435</th>\n",
       "      <td>The main protein used in the Yakisoba recipe i...</td>\n",
       "      <td>87</td>\n",
       "      <td>What's the main protein used in the Yakisoba r...</td>\n",
       "      <td>RELEVANT</td>\n",
       "      <td>The generated answer directly addresses the qu...</td>\n",
       "    </tr>\n",
       "    <tr>\n",
       "      <th>436</th>\n",
       "      <td>It takes 50 minutes to cook Yakisoba.</td>\n",
       "      <td>87</td>\n",
       "      <td>How much time does it take to cook the Yakisoba?</td>\n",
       "      <td>RELEVANT</td>\n",
       "      <td>The generated answer directly addresses the qu...</td>\n",
       "    </tr>\n",
       "    <tr>\n",
       "      <th>437</th>\n",
       "      <td>The main vegetables required for the Yakisoba ...</td>\n",
       "      <td>87</td>\n",
       "      <td>What are the main vegetables required for the ...</td>\n",
       "      <td>RELEVANT</td>\n",
       "      <td>The generated answer directly addresses the qu...</td>\n",
       "    </tr>\n",
       "    <tr>\n",
       "      <th>438</th>\n",
       "      <td>The Yakisoba dish is commonly served on a serv...</td>\n",
       "      <td>87</td>\n",
       "      <td>How is the Yakisoba dish commonly served accor...</td>\n",
       "      <td>RELEVANT</td>\n",
       "      <td>The generated answer directly addresses the qu...</td>\n",
       "    </tr>\n",
       "    <tr>\n",
       "      <th>439</th>\n",
       "      <td>The Yakisoba recipe uses Chinese wheat noodles.</td>\n",
       "      <td>87</td>\n",
       "      <td>What kind of noodles are used in the Yakisoba ...</td>\n",
       "      <td>RELEVANT</td>\n",
       "      <td>The generated answer directly addresses the qu...</td>\n",
       "    </tr>\n",
       "  </tbody>\n",
       "</table>\n",
       "<p>440 rows × 5 columns</p>\n",
       "</div>"
      ],
      "text/plain": [
       "                                                answer  id  \\\n",
       "0    The total cook time for the Ground Beef Gyros ...   0   \n",
       "1    The recommended meat in the Ground Beef Gyros ...   0   \n",
       "2    According to the directions, the Ground Beef G...   0   \n",
       "3    The Ground Beef Gyros recipe received a rating...   0   \n",
       "4    Yes, the Ground Beef Gyros include a sauce tha...   0   \n",
       "..                                                 ...  ..   \n",
       "435  The main protein used in the Yakisoba recipe i...  87   \n",
       "436              It takes 50 minutes to cook Yakisoba.  87   \n",
       "437  The main vegetables required for the Yakisoba ...  87   \n",
       "438  The Yakisoba dish is commonly served on a serv...  87   \n",
       "439    The Yakisoba recipe uses Chinese wheat noodles.  87   \n",
       "\n",
       "                                              question relevance  \\\n",
       "0    What's the total cook time for the Ground Beef...  RELEVANT   \n",
       "1    What kind of meat is recommended in the Ground...  RELEVANT   \n",
       "2    How is the Ground Beef Gyros served according ...  RELEVANT   \n",
       "3    What rating did the Ground Beef Gyros recipe r...  RELEVANT   \n",
       "4    Do the Ground Beef Gyros include a sauce with ...  RELEVANT   \n",
       "..                                                 ...       ...   \n",
       "435  What's the main protein used in the Yakisoba r...  RELEVANT   \n",
       "436   How much time does it take to cook the Yakisoba?  RELEVANT   \n",
       "437  What are the main vegetables required for the ...  RELEVANT   \n",
       "438  How is the Yakisoba dish commonly served accor...  RELEVANT   \n",
       "439  What kind of noodles are used in the Yakisoba ...  RELEVANT   \n",
       "\n",
       "                                           explanation  \n",
       "0    The generated answer directly addresses the qu...  \n",
       "1    The generated answer directly addresses the qu...  \n",
       "2    The generated answer directly addresses the qu...  \n",
       "3    The generated answer directly addresses the qu...  \n",
       "4    The generated answer directly addresses the qu...  \n",
       "..                                                 ...  \n",
       "435  The generated answer directly addresses the qu...  \n",
       "436  The generated answer directly addresses the qu...  \n",
       "437  The generated answer directly addresses the qu...  \n",
       "438  The generated answer directly addresses the qu...  \n",
       "439  The generated answer directly addresses the qu...  \n",
       "\n",
       "[440 rows x 5 columns]"
      ]
     },
     "execution_count": 33,
     "metadata": {},
     "output_type": "execute_result"
    }
   ],
   "source": [
    "df_eval"
   ]
  },
  {
   "cell_type": "code",
   "execution_count": 34,
   "id": "44cebd10",
   "metadata": {},
   "outputs": [
    {
     "data": {
      "application/vnd.microsoft.datawrangler.viewer.v0+json": {
       "columns": [
        {
         "name": "relevance",
         "rawType": "object",
         "type": "string"
        },
        {
         "name": "count",
         "rawType": "int64",
         "type": "integer"
        }
       ],
       "ref": "e933a629-8181-4603-a6f2-5fc97dda993b",
       "rows": [
        [
         "RELEVANT",
         "424"
        ],
        [
         "PARTLY_RELEVANT",
         "12"
        ],
        [
         "NON_RELEVANT",
         "4"
        ]
       ],
       "shape": {
        "columns": 1,
        "rows": 3
       }
      },
      "text/plain": [
       "relevance\n",
       "RELEVANT           424\n",
       "PARTLY_RELEVANT     12\n",
       "NON_RELEVANT         4\n",
       "Name: count, dtype: int64"
      ]
     },
     "execution_count": 34,
     "metadata": {},
     "output_type": "execute_result"
    }
   ],
   "source": [
    "df_eval.relevance.value_counts()"
   ]
  },
  {
   "cell_type": "code",
   "execution_count": 35,
   "id": "444b2909",
   "metadata": {},
   "outputs": [
    {
     "data": {
      "application/vnd.microsoft.datawrangler.viewer.v0+json": {
       "columns": [
        {
         "name": "relevance",
         "rawType": "object",
         "type": "string"
        },
        {
         "name": "proportion",
         "rawType": "float64",
         "type": "float"
        }
       ],
       "ref": "5fcb094f-e9c2-45c5-a45c-9a1b25d53679",
       "rows": [
        [
         "RELEVANT",
         "0.9636363636363636"
        ],
        [
         "PARTLY_RELEVANT",
         "0.02727272727272727"
        ],
        [
         "NON_RELEVANT",
         "0.00909090909090909"
        ]
       ],
       "shape": {
        "columns": 1,
        "rows": 3
       }
      },
      "text/plain": [
       "relevance\n",
       "RELEVANT           0.963636\n",
       "PARTLY_RELEVANT    0.027273\n",
       "NON_RELEVANT       0.009091\n",
       "Name: proportion, dtype: float64"
      ]
     },
     "execution_count": 35,
     "metadata": {},
     "output_type": "execute_result"
    }
   ],
   "source": [
    "df_eval.relevance.value_counts(normalize=True)"
   ]
  },
  {
   "cell_type": "code",
   "execution_count": 36,
   "id": "3352f262",
   "metadata": {},
   "outputs": [],
   "source": [
    "df_eval.to_csv(\"../data/rag-eval-gpt-4o-mini.csv\", index=False)"
   ]
  },
  {
   "cell_type": "code",
   "execution_count": 38,
   "id": "22275e4c",
   "metadata": {},
   "outputs": [
    {
     "data": {
      "application/vnd.jupyter.widget-view+json": {
       "model_id": "fbbda40c61a7458c81c57990b3f47eef",
       "version_major": 2,
       "version_minor": 0
      },
      "text/plain": [
       "  0%|          | 0/440 [00:00<?, ?it/s]"
      ]
     },
     "metadata": {},
     "output_type": "display_data"
    }
   ],
   "source": [
    "import json\n",
    "\n",
    "evaluations_gpt_4o = {}\n",
    "\n",
    "for record_id, record in enumerate(tqdm(ground_truth)):\n",
    "    if record_id in evaluations_gpt_4o:\n",
    "        continue\n",
    "    question = record[\"question\"]\n",
    "    answer_llm = rag(\n",
    "        query=question,\n",
    "        openai_client=openai_client,\n",
    "        collection_name=\"recipe-rag\",\n",
    "        llm_model=\"gpt-4o\",\n",
    "    )\n",
    "\n",
    "    prompt = prompt_template.format(question=question, answer_llm=answer_llm)\n",
    "\n",
    "    evaluation = llm(openai_client, prompt)\n",
    "    evaluation = json.loads(evaluation)\n",
    "\n",
    "    evaluations_gpt_4o[record_id] = (record, answer_llm, evaluation)"
   ]
  },
  {
   "cell_type": "code",
   "execution_count": 39,
   "id": "5b68a12c",
   "metadata": {},
   "outputs": [],
   "source": [
    "evaluations = list(evaluations_gpt_4o.values())\n",
    "\n",
    "df_eval = pd.DataFrame(evaluations, columns=[\"record\", \"answer\", \"evaluation\"])\n",
    "\n",
    "df_eval[\"id\"] = df_eval.record.apply(lambda d: d[\"id\"])\n",
    "df_eval[\"question\"] = df_eval.record.apply(lambda d: d[\"question\"])\n",
    "\n",
    "df_eval[\"relevance\"] = df_eval.evaluation.apply(lambda d: d[\"Relevance\"])\n",
    "df_eval[\"explanation\"] = df_eval.evaluation.apply(lambda d: d[\"Explanation\"])\n",
    "\n",
    "del df_eval[\"record\"]\n",
    "del df_eval[\"evaluation\"]"
   ]
  },
  {
   "cell_type": "code",
   "execution_count": 40,
   "id": "942835e2",
   "metadata": {},
   "outputs": [
    {
     "data": {
      "application/vnd.microsoft.datawrangler.viewer.v0+json": {
       "columns": [
        {
         "name": "index",
         "rawType": "int64",
         "type": "integer"
        },
        {
         "name": "answer",
         "rawType": "object",
         "type": "string"
        },
        {
         "name": "id",
         "rawType": "int64",
         "type": "integer"
        },
        {
         "name": "question",
         "rawType": "object",
         "type": "string"
        },
        {
         "name": "relevance",
         "rawType": "object",
         "type": "string"
        },
        {
         "name": "explanation",
         "rawType": "object",
         "type": "string"
        }
       ],
       "ref": "bef262c8-eaf8-4890-8fe0-166e638a10ac",
       "rows": [
        [
         "0",
         "The total cook time for the Ground Beef Gyros is 22 minutes.",
         "0",
         "What's the total cook time for the Ground Beef Gyros?",
         "RELEVANT",
         "The generated answer directly responds to the question by providing the specific total cook time for the Ground Beef Gyros, which is exactly what was asked."
        ],
        [
         "1",
         "The recommended meat in the Ground Beef Gyros recipe is lean ground beef.",
         "0",
         "What kind of meat is recommended in the Ground Beef Gyros recipe?",
         "RELEVANT",
         "The generated answer directly addresses the question by stating that lean ground beef is the recommended meat for the Ground Beef Gyros recipe, thus providing the specific information requested."
        ],
        [
         "2",
         "The Ground Beef Gyros are served stuffed into pitas with thinly sliced patties of grilled meat. They are accompanied by lettuce, cucumber, tomato, and onion, and are served with a yogurt sauce.",
         "0",
         "How is the Ground Beef Gyros served according to the directions?",
         "RELEVANT",
         "The generated answer directly addresses the question by providing a detailed description of how the Ground Beef Gyros is served, including the method of serving in pitas and the accompaniments like vegetables and yogurt sauce. This aligns well with the inquiry about serving directions."
        ],
        [
         "3",
         "The Ground Beef Gyros recipe received a rating of 4.44 stars.",
         "0",
         "What rating did the Ground Beef Gyros recipe receive?",
         "RELEVANT",
         "The generated answer directly responds to the question by providing the specific rating of the Ground Beef Gyros recipe, which is what the question asked for."
        ],
        [
         "4",
         "Yes, the Ground Beef Gyros include a sauce with cucumbers. The recipe mentions a yogurt sauce made with plain yogurt and chopped seeded cucumber, among other ingredients.",
         "0",
         "Do the Ground Beef Gyros include a sauce with cucumbers?",
         "RELEVANT",
         "The generated answer directly answers the question by confirming that the Ground Beef Gyros include a sauce with cucumbers, specifically mentioning a yogurt sauce that contains cucumbers. This addresses the inquiry effectively."
        ],
        [
         "5",
         "The Lasagna recipe takes a total of 2 hours and 30 minutes from start to finish.",
         "1",
         "How long does the Lasagna recipe take from start to finish?",
         "RELEVANT",
         "The generated answer directly addresses the question by providing the specific time duration it takes to prepare the Lasagna recipe, which is exactly what was asked."
        ],
        [
         "6",
         "The main protein in this Lasagna recipe is 1½ lbs of lean ground beef, with an option to include ½ lb of Italian sausage or ground veal.",
         "1",
         "What's the main protein in this Lasagna recipe?",
         "RELEVANT",
         "The generated answer directly addresses the question by specifying that the main protein in the Lasagna recipe is lean ground beef, and also provides additional context by mentioning optional proteins, which further enhances the understanding of the recipe."
        ],
        [
         "7",
         "The lasagna recipe uses ricotta cheese as the main cheese for layering, with a mixture that includes ricotta cheese, eggs, pepper, parsley, Parmesan cheese, and mozzarella cheese.",
         "1",
         "What kind of cheese does the Lasagna recipe use for layering?",
         "RELEVANT",
         "The generated answer directly addresses the question by stating that ricotta cheese is used for layering in the lasagna recipe. It also provides additional relevant information about the mixture of cheeses involved, which enhances the answer's completeness."
        ],
        [
         "8",
         "No, the lasagna noodles are not pre-cooked before adding to the lasagna recipe. The noodles are cooked according to the package directions, drained, and then set aside before being layered in the lasagna.",
         "1",
         "Are the lasagna noodles pre-cooked before adding to the Lasagna recipe?",
         "RELEVANT",
         "The generated answer directly addresses the question about whether lasagna noodles are pre-cooked, clearly stating that they are not and providing additional information about how the noodles are prepared before being added to the lasagna."
        ],
        [
         "9",
         "The Lasagna should be baked at 375°F for 40-60 minutes.",
         "1",
         "What temperature should the Lasagna be baked at?",
         "RELEVANT",
         "The generated answer directly responds to the question by providing the specific temperature (375°F) at which the lasagna should be baked, along with a time range (40-60 minutes), which is pertinent information for baking lasagna."
        ],
        [
         "10",
         "The cooking time for The Best Easy Beef & Broccoli Stir-Fry is 25 minutes.",
         "2",
         "What's the cooking time for The Best Easy Beef & Broccoli Stir-Fry?",
         "RELEVANT",
         "The generated answer directly provides the requested information about the cooking time for The Best Easy Beef & Broccoli Stir-Fry, which is 25 minutes."
        ],
        [
         "11",
         "The recommended type of steak for The Best Easy Beef & Broccoli Stir-Fry is charcoal chuck steak.",
         "2",
         "Which type of steak is recommended for The Best Easy Beef & Broccoli Stir-Fry?",
         "PARTLY_RELEVANT",
         "The generated answer mentions a type of steak, which is relevant to the question about the recommended steak for the dish. However, 'charcoal chuck steak' may not be the commonly recommended type for stir-fry, typically suggesting flank or sirloin steak. Therefore, while there is some relevance, it may not completely align with typical recommendations for this recipe."
        ],
        [
         "12",
         "The Best Easy Beef & Broccoli Stir-Fry is rated 4.65 stars based on 855 ratings.",
         "2",
         "How is The Best Easy Beef & Broccoli Stir-Fry rated?",
         "RELEVANT",
         "The generated answer directly addresses the question by providing a specific rating (4.65 stars) along with the number of ratings (855), which is precisely what was asked about the rating of The Best Easy Beef & Broccoli Stir-Fry."
        ],
        [
         "13",
         "The optional ingredient for garnishing The Best Easy Beef & Broccoli Stir-Fry is toasted sesame seeds.",
         "2",
         "What ingredient is optional for garnishing The Best Easy Beef & Broccoli Stir-Fry?",
         "RELEVANT",
         "The generated answer correctly identifies an optional ingredient for garnishing the specified dish, directly addressing the question asked."
        ],
        [
         "14",
         "The Best Easy Beef & Broccoli Stir-Fry is served over rice and can be garnished with toasted sesame seeds as an optional addition.",
         "2",
         "What do you serve The Best Easy Beef & Broccoli Stir-Fry with?",
         "RELEVANT",
         "The generated answer directly addresses the question by specifying what The Best Easy Beef & Broccoli Stir-Fry is served with, mentioning rice and optional garnishes, which is relevant information for the inquiry."
        ],
        [
         "15",
         "It takes 15 minutes to make The Ultimate Greek Salad.",
         "3",
         "How long does it take to make The Ultimate Greek Salad?",
         "RELEVANT",
         "The generated answer directly addresses the question by stating that it takes 15 minutes to make The Ultimate Greek Salad, providing a clear and precise response."
        ],
        [
         "16",
         "The type of olives used in The Ultimate Greek Salad are kalamata olives.",
         "3",
         "What type of olives are used in The Ultimate Greek Salad?",
         "RELEVANT",
         "The generated answer directly addresses the question by specifically stating that kalamata olives are used in The Ultimate Greek Salad, which is exactly what the question asks for."
        ],
        [
         "17",
         "Yes, lettuce can be included in The Ultimate Greek Salad. The recipe mentions that lettuce can very much be a part of any Greek salad if you want it to be. The specific recipe includes 1 head of lettuce, with Romaine being suggested, torn into bite-size pieces as part of the salad ingredients.",
         "3",
         "Can lettuce be included in The Ultimate Greek Salad?",
         "RELEVANT",
         "The generated answer directly addresses the question by confirming that lettuce can be included in The Ultimate Greek Salad and providing specific details about its inclusion in the recipe, which is pertinent to the question asked."
        ],
        [
         "18",
         "The dressing for The Ultimate Greek Salad is prepared by whisking together the following ingredients until blended: 6 tablespoons of olive oil, 1½ tablespoons of fresh lemon juice, 1 tablespoon of red wine vinegar, 2 minced garlic cloves, and 1 teaspoon of dried oregano. The dressing is then seasoned to taste.",
         "3",
         "How is the dressing for The Ultimate Greek Salad prepared?",
         "RELEVANT",
         "The generated answer directly addresses the question by providing a clear and detailed description of how to prepare the dressing for The Ultimate Greek Salad, including specific ingredients and instructions."
        ],
        [
         "19",
         "The average rating for The Ultimate Greek Salad is 4.88 stars.",
         "3",
         "What is the average rating for The Ultimate Greek Salad?",
         "RELEVANT",
         "The generated answer directly addresses the question by providing the average rating for The Ultimate Greek Salad, which is exactly what was asked."
        ],
        [
         "20",
         "The Easy Stovetop Macaroni 'n' Cheese takes 30 minutes to cook.",
         "4",
         "How long does it take to cook Easy Stovetop Macaroni 'n' Cheese?",
         "RELEVANT",
         "The generated answer directly addresses the question by providing the specific cooking time of 30 minutes for the Easy Stovetop Macaroni 'n' Cheese."
        ],
        [
         "21",
         "The Easy Stovetop Macaroni 'n' Cheese recipe uses elbow macaroni.",
         "4",
         "What kind of pasta is used in the Easy Stovetop Macaroni 'n' Cheese recipe?",
         "RELEVANT",
         "The generated answer directly addresses the question by specifying that elbow macaroni is the type of pasta used in the Easy Stovetop Macaroni 'n' Cheese recipe, which is exactly what the question is asking for."
        ],
        [
         "22",
         "No, the Easy Stovetop Macaroni 'n' Cheese does not require baking.",
         "4",
         "Does the Easy Stovetop Macaroni 'n' Cheese require baking?",
         "RELEVANT",
         "The generated answer directly addresses the question by clearly stating that baking is not required for the Easy Stovetop Macaroni 'n' Cheese, providing a concise and accurate response."
        ],
        [
         "23",
         "The type of cheese used in Easy Stovetop Macaroni 'n' Cheese is cheddar cheese, which can be either shredded or in an 8-ounce block.",
         "4",
         "What type of cheese is used in Easy Stovetop Macaroni 'n' Cheese?",
         "RELEVANT",
         "The generated answer directly addresses the question by stating that cheddar cheese is the type of cheese used in Easy Stovetop Macaroni 'n' Cheese, which is the desired information."
        ],
        [
         "24",
         "The rating for the Easy Stovetop Macaroni 'n' Cheese recipe is 4.48 stars.",
         "4",
         "What is the rating for the Easy Stovetop Macaroni 'n' Cheese recipe?",
         "RELEVANT",
         "The generated answer directly addresses the question by providing the specific rating (4.48 stars) for the Easy Stovetop Macaroni 'n' Cheese recipe, which is exactly what was asked."
        ],
        [
         "25",
         "Bev's Spaghetti Sauce needs to cook for 1 1/2 hours.",
         "5",
         "How long does Bev's Spaghetti Sauce need to cook?",
         "RELEVANT",
         "The generated answer directly addresses the question by providing the specific cooking time for Bev's Spaghetti Sauce, making it fully pertinent to the inquiry."
        ],
        [
         "26",
         "The meat used in Bev's Spaghetti Sauce is ground beef.",
         "5",
         "What meat is used in Bev's Spaghetti Sauce?",
         "RELEVANT",
         "The generated answer directly addresses the question by specifying that ground beef is the meat used in Bev's Spaghetti Sauce, providing a clear and accurate response."
        ],
        [
         "27",
         "Bev's Spaghetti Sauce has a user rating of 4.77 stars.",
         "5",
         "What rating does Bev's Spaghetti Sauce have from users?",
         "RELEVANT",
         "The generated answer directly addresses the question by providing the specific user rating of Bev's Spaghetti Sauce, which is what was asked."
        ],
        [
         "28",
         "Yes, Bev's Spaghetti Sauce includes mushrooms in the ingredients, specifically \"8 ounces fresh mushrooms, sliced and sauteed in butter,\" though they are listed as optional.",
         "5",
         "Does Bev's Spaghetti Sauce include mushrooms in the ingredients?",
         "RELEVANT",
         "The generated answer directly addresses the question by confirming that Bev's Spaghetti Sauce includes mushrooms in the ingredients, providing specific details about the amount and preparation, while also noting that they are optional. This makes it clear and relevant to the inquiry."
        ],
        [
         "29",
         "Yes, freshly grated Parmesan cheese is considered optional in Bev's Spaghetti Sauce.",
         "5",
         "Is freshly grated Parmesan cheese considered optional in Bev's Spaghetti Sauce?",
         "RELEVANT",
         "The generated answer directly addresses the question by confirming that freshly grated Parmesan cheese is indeed considered optional in Bev's Spaghetti Sauce, providing a clear and accurate response."
        ],
        [
         "30",
         "The cooking time for Perfect Southern Fried Chicken is approximately 30 minutes. The recipe specifies covering the chicken for the first five minutes, turning and covering it for another five minutes, and then cooking uncovered, turning occasionally, for an additional 20 minutes or until cooked through.",
         "6",
         "What is the cooking time for Perfect Southern Fried Chicken?",
         "RELEVANT",
         "The generated answer provides a specific cooking time of approximately 30 minutes for Perfect Southern Fried Chicken and includes detailed instructions on how to achieve this within that time frame. This directly answers the question asked."
        ],
        [
         "31",
         "The Perfect Southern Fried Chicken recipe uses one whole chicken, which is cut into 10 pieces.",
         "6",
         "How many pieces of chicken are used in the Perfect Southern Fried Chicken recipe?",
         "RELEVANT",
         "The generated answer directly addresses the question by stating that the recipe uses one whole chicken, which is cut into 10 pieces, thus providing precise information about the number of pieces of chicken used."
        ],
        [
         "32",
         "In the Perfect Southern Fried Chicken recipe, the purpose of covering the chicken for the first five minutes is to start the cooking process inside the chicken. This initial covering helps ensure that the chicken is cooked through. The cover is then removed during the last part of the cooking time to allow the outside to become nice and crispy and golden brown.",
         "6",
         "What is the purpose of covering the chicken in the Perfect Southern Fried Chicken recipe?",
         "RELEVANT",
         "The generated answer directly addresses the purpose of covering the chicken in the recipe by explaining how it starts the cooking process inside the chicken and ensures it is cooked through, while also mentioning the subsequent removal of the cover to achieve a crispy exterior."
        ],
        [
         "33",
         "In the Perfect Southern Fried Chicken recipe, the chicken is seasoned by soaking it in a solution of water and salt for at least 2 hours in the refrigerator. After soaking, the chicken pieces are dipped in a mixture of buttermilk, eggs, and Season-All salt. Finally, these pieces are coated in a mixture containing flour, cornmeal, dried oregano, and additional Season-All salt before frying.",
         "6",
         "How is the chicken seasoned in the Perfect Southern Fried Chicken recipe before frying?",
         "RELEVANT",
         "The generated answer provides a detailed description of how the chicken is seasoned in the Perfect Southern Fried Chicken recipe, including the soaking process, the use of buttermilk and eggs, as well as the coating mixture, which all directly relates to the question asked."
        ],
        [
         "34",
         "The Perfect Southern Fried Chicken recipe has 137 ratings.",
         "6",
         "How many ratings does the Perfect Southern Fried Chicken recipe have?",
         "RELEVANT",
         "The generated answer directly addresses the question by providing the specific number of ratings for the Perfect Southern Fried Chicken recipe, which is exactly what was asked."
        ],
        [
         "35",
         "The cooking time for Chicken Fried Rice is approximately 13-14 minutes. This includes 8-10 minutes to stir-fry the onions until they turn a nice brown color, about 1 minute to cook the egg, 2 minutes to stir-fry the meat with vegetables, 3 minutes to stir-fry with rice and other ingredients, and 1 additional minute to stir-fry everything together with soy sauce and egg. The \"Ready in\" time for the entire recipe is listed as 28 minutes, which includes preparation and cooking time.",
         "7",
         "What is the cooking time for Chicken Fried Rice?",
         "RELEVANT",
         "The generated answer provides a specific cooking time for Chicken Fried Rice (approximately 13-14 minutes) and details the breakdown of the cooking process, while also mentioning the total 'Ready in' time for the recipe, which is useful for understanding the overall timing."
        ],
        [
         "36",
         "The flavor of Chicken Fried Rice is described as having the flavor that \"those other recipes are missing\" and is said to taste \"like takeout.\" The description suggests that it stands out for its distinctive flavor, especially when compared to other recipes in the database, indicating that it captures an authentic takeout quality that others may lack.",
         "7",
         "How is the flavor of Chicken Fried Rice described compared to other recipes?",
         "RELEVANT",
         "The generated answer directly addresses the question by describing the flavor of Chicken Fried Rice in comparison to other recipes. It highlights what makes it distinctive and suggests why it stands out, which aligns with the request for a flavor comparison."
        ],
        [
         "37",
         "In the Chicken Fried Rice recipe, it is suggested to avoid using sesame oil as a cooking oil because it easily burns.",
         "7",
         "What type of oil is suggested to avoid using for cooking in the Chicken Fried Rice recipe?",
         "RELEVANT",
         "The generated answer directly addresses the question by specifying the type of oil (sesame oil) that is suggested to avoid for cooking in the Chicken Fried Rice recipe. It provides a clear rationale for this suggestion, indicating that sesame oil easily burns, which is relevant to the context of cooking."
        ],
        [
         "38",
         "The Chicken Fried Rice recipe uses 4 green onions, chopped.",
         "7",
         "How many green onions are used in Chicken Fried Rice?",
         "RELEVANT",
         "The generated answer directly addresses the question by specifying that 4 green onions are used in Chicken Fried Rice, which is the information being asked for."
        ],
        [
         "39",
         "In the Chicken Fried Rice recipe, the egg should be mixed with 3 drops of soy sauce and 3 drops of sesame oil before it's added to the wok. Then, when added to the wok, the egg mixture is quickly swirled until it sets against the wok and puffs. Once it puffs, it should be flipped and cooked briefly on the other side before removing it from the wok and chopping it into small pieces.",
         "7",
         "What should be done with the egg in the Chicken Fried Rice recipe before it's added to the wok?",
         "RELEVANT",
         "The generated answer directly addresses the question by explaining what to do with the egg in the Chicken Fried Rice recipe before it is added to the wok. It provides specific instructions on mixing the egg with soy sauce and sesame oil, along with details about the cooking process, which aligns well with the question asked."
        ],
        [
         "40",
         "The Sloppy Joes take 15-20 minutes to cook, as instructed to simmer with the lid during this time.",
         "8",
         "How long does it take to cook the Sloppy Joes?",
         "RELEVANT",
         "The generated answer directly addresses the question by providing a specific time frame for cooking Sloppy Joes, which is what was asked."
        ],
        [
         "41",
         "The main protein used in the Sloppy Joes is hamburger.",
         "8",
         "What's the main protein used in the Sloppy Joes?",
         "RELEVANT",
         "The generated answer directly addresses the question by correctly identifying hamburger as the main protein used in Sloppy Joes, providing a clear and accurate response."
        ],
        [
         "42",
         "The onion for the Sloppy Joes is prepared by dicing it.",
         "8",
         "How is the onion prepared for the Sloppy Joes?",
         "RELEVANT",
         "The generated answer directly addresses the question by specifying that the onion is prepared by dicing, which is a relevant method of preparation for Sloppy Joes."
        ],
        [
         "43",
         "The optional ingredient in the Sloppy Joes recipe is 1/2 teaspoon mustard.",
         "8",
         "What is the optional ingredient in the Sloppy Joes recipe?",
         "RELEVANT",
         "The generated answer directly responds to the question by specifying an optional ingredient in the Sloppy Joes recipe, which is mustard. It provides the exact information asked for."
        ],
        [
         "44",
         "The Sloppy Joes recipe has a rating of 4.77 stars.",
         "8",
         "How many stars does the Sloppy Joes recipe have?",
         "RELEVANT",
         "The generated answer directly addresses the question by providing the specific rating of the Sloppy Joes recipe in terms of stars, which is exactly what was asked."
        ],
        [
         "45",
         "The Chicken Parmesan takes 23 minutes to cook.",
         "9",
         "How long does it take to cook the Chicken Parmesan?",
         "RELEVANT",
         "The generated answer directly addresses the question by providing a specific cooking time for Chicken Parmesan, which is the information being sought."
        ],
        [
         "46",
         "The main protein in the Chicken Parmesan recipe is chicken, specifically 4 boneless skinless chicken breast halves.",
         "9",
         "What is the main protein in the Chicken Parmesan recipe?",
         "RELEVANT",
         "The generated answer correctly identifies chicken as the main protein in the Chicken Parmesan recipe and provides specific details about the type of chicken used, directly addressing the question asked."
        ],
        [
         "47",
         "The kind of cheese melted on top of the Chicken Parmesan is mozzarella.",
         "9",
         "What kind of cheese is melted on top of the Chicken Parmesan?",
         "RELEVANT",
         "The generated answer directly addresses the question by identifying mozzarella as the cheese melted on top of Chicken Parmesan. It is a correct and complete response."
        ],
        [
         "48",
         "Yes, according to the Chicken Parmesan recipe, you can serve Chicken Parmesan with spaghetti. It is mentioned in the directions to serve the Chicken Parmesan with a side of spaghetti, and spaghetti is listed as an optional ingredient for serving.",
         "9",
         "Can I serve Chicken Parmesan with spaghetti according to the recipe?",
         "RELEVANT",
         "The generated answer directly addresses the question about serving Chicken Parmesan with spaghetti, confirming that it is acceptable and that it is mentioned in the recipe as a serving option."
        ],
        [
         "49",
         "The star rating given to the Chicken Parmesan recipe is 4.87 stars.",
         "9",
         "What is the star rating given to the Chicken Parmesan recipe?",
         "RELEVANT",
         "The generated answer directly addresses the question by providing the specific star rating of 4.87 stars for the Chicken Parmesan recipe, which is precisely what was asked."
        ]
       ],
       "shape": {
        "columns": 5,
        "rows": 440
       }
      },
      "text/html": [
       "<div>\n",
       "<style scoped>\n",
       "    .dataframe tbody tr th:only-of-type {\n",
       "        vertical-align: middle;\n",
       "    }\n",
       "\n",
       "    .dataframe tbody tr th {\n",
       "        vertical-align: top;\n",
       "    }\n",
       "\n",
       "    .dataframe thead th {\n",
       "        text-align: right;\n",
       "    }\n",
       "</style>\n",
       "<table border=\"1\" class=\"dataframe\">\n",
       "  <thead>\n",
       "    <tr style=\"text-align: right;\">\n",
       "      <th></th>\n",
       "      <th>answer</th>\n",
       "      <th>id</th>\n",
       "      <th>question</th>\n",
       "      <th>relevance</th>\n",
       "      <th>explanation</th>\n",
       "    </tr>\n",
       "  </thead>\n",
       "  <tbody>\n",
       "    <tr>\n",
       "      <th>0</th>\n",
       "      <td>The total cook time for the Ground Beef Gyros ...</td>\n",
       "      <td>0</td>\n",
       "      <td>What's the total cook time for the Ground Beef...</td>\n",
       "      <td>RELEVANT</td>\n",
       "      <td>The generated answer directly responds to the ...</td>\n",
       "    </tr>\n",
       "    <tr>\n",
       "      <th>1</th>\n",
       "      <td>The recommended meat in the Ground Beef Gyros ...</td>\n",
       "      <td>0</td>\n",
       "      <td>What kind of meat is recommended in the Ground...</td>\n",
       "      <td>RELEVANT</td>\n",
       "      <td>The generated answer directly addresses the qu...</td>\n",
       "    </tr>\n",
       "    <tr>\n",
       "      <th>2</th>\n",
       "      <td>The Ground Beef Gyros are served stuffed into ...</td>\n",
       "      <td>0</td>\n",
       "      <td>How is the Ground Beef Gyros served according ...</td>\n",
       "      <td>RELEVANT</td>\n",
       "      <td>The generated answer directly addresses the qu...</td>\n",
       "    </tr>\n",
       "    <tr>\n",
       "      <th>3</th>\n",
       "      <td>The Ground Beef Gyros recipe received a rating...</td>\n",
       "      <td>0</td>\n",
       "      <td>What rating did the Ground Beef Gyros recipe r...</td>\n",
       "      <td>RELEVANT</td>\n",
       "      <td>The generated answer directly responds to the ...</td>\n",
       "    </tr>\n",
       "    <tr>\n",
       "      <th>4</th>\n",
       "      <td>Yes, the Ground Beef Gyros include a sauce wit...</td>\n",
       "      <td>0</td>\n",
       "      <td>Do the Ground Beef Gyros include a sauce with ...</td>\n",
       "      <td>RELEVANT</td>\n",
       "      <td>The generated answer directly answers the ques...</td>\n",
       "    </tr>\n",
       "    <tr>\n",
       "      <th>...</th>\n",
       "      <td>...</td>\n",
       "      <td>...</td>\n",
       "      <td>...</td>\n",
       "      <td>...</td>\n",
       "      <td>...</td>\n",
       "    </tr>\n",
       "    <tr>\n",
       "      <th>435</th>\n",
       "      <td>The main protein used in the Yakisoba recipe i...</td>\n",
       "      <td>87</td>\n",
       "      <td>What's the main protein used in the Yakisoba r...</td>\n",
       "      <td>RELEVANT</td>\n",
       "      <td>The generated answer correctly identifies pork...</td>\n",
       "    </tr>\n",
       "    <tr>\n",
       "      <th>436</th>\n",
       "      <td>The Yakisoba takes 50 minutes to be ready.</td>\n",
       "      <td>87</td>\n",
       "      <td>How much time does it take to cook the Yakisoba?</td>\n",
       "      <td>RELEVANT</td>\n",
       "      <td>The generated answer directly responds to the ...</td>\n",
       "    </tr>\n",
       "    <tr>\n",
       "      <th>437</th>\n",
       "      <td>The main vegetables required for the Yakisoba ...</td>\n",
       "      <td>87</td>\n",
       "      <td>What are the main vegetables required for the ...</td>\n",
       "      <td>RELEVANT</td>\n",
       "      <td>The generated answer accurately lists the main...</td>\n",
       "    </tr>\n",
       "    <tr>\n",
       "      <th>438</th>\n",
       "      <td>The Yakisoba dish is commonly served on a serv...</td>\n",
       "      <td>87</td>\n",
       "      <td>How is the Yakisoba dish commonly served accor...</td>\n",
       "      <td>RELEVANT</td>\n",
       "      <td>The generated answer directly addresses the qu...</td>\n",
       "    </tr>\n",
       "    <tr>\n",
       "      <th>439</th>\n",
       "      <td>The Yakisoba recipe uses Chinese wheat noodles...</td>\n",
       "      <td>87</td>\n",
       "      <td>What kind of noodles are used in the Yakisoba ...</td>\n",
       "      <td>RELEVANT</td>\n",
       "      <td>The generated answer directly addresses the qu...</td>\n",
       "    </tr>\n",
       "  </tbody>\n",
       "</table>\n",
       "<p>440 rows × 5 columns</p>\n",
       "</div>"
      ],
      "text/plain": [
       "                                                answer  id  \\\n",
       "0    The total cook time for the Ground Beef Gyros ...   0   \n",
       "1    The recommended meat in the Ground Beef Gyros ...   0   \n",
       "2    The Ground Beef Gyros are served stuffed into ...   0   \n",
       "3    The Ground Beef Gyros recipe received a rating...   0   \n",
       "4    Yes, the Ground Beef Gyros include a sauce wit...   0   \n",
       "..                                                 ...  ..   \n",
       "435  The main protein used in the Yakisoba recipe i...  87   \n",
       "436         The Yakisoba takes 50 minutes to be ready.  87   \n",
       "437  The main vegetables required for the Yakisoba ...  87   \n",
       "438  The Yakisoba dish is commonly served on a serv...  87   \n",
       "439  The Yakisoba recipe uses Chinese wheat noodles...  87   \n",
       "\n",
       "                                              question relevance  \\\n",
       "0    What's the total cook time for the Ground Beef...  RELEVANT   \n",
       "1    What kind of meat is recommended in the Ground...  RELEVANT   \n",
       "2    How is the Ground Beef Gyros served according ...  RELEVANT   \n",
       "3    What rating did the Ground Beef Gyros recipe r...  RELEVANT   \n",
       "4    Do the Ground Beef Gyros include a sauce with ...  RELEVANT   \n",
       "..                                                 ...       ...   \n",
       "435  What's the main protein used in the Yakisoba r...  RELEVANT   \n",
       "436   How much time does it take to cook the Yakisoba?  RELEVANT   \n",
       "437  What are the main vegetables required for the ...  RELEVANT   \n",
       "438  How is the Yakisoba dish commonly served accor...  RELEVANT   \n",
       "439  What kind of noodles are used in the Yakisoba ...  RELEVANT   \n",
       "\n",
       "                                           explanation  \n",
       "0    The generated answer directly responds to the ...  \n",
       "1    The generated answer directly addresses the qu...  \n",
       "2    The generated answer directly addresses the qu...  \n",
       "3    The generated answer directly responds to the ...  \n",
       "4    The generated answer directly answers the ques...  \n",
       "..                                                 ...  \n",
       "435  The generated answer correctly identifies pork...  \n",
       "436  The generated answer directly responds to the ...  \n",
       "437  The generated answer accurately lists the main...  \n",
       "438  The generated answer directly addresses the qu...  \n",
       "439  The generated answer directly addresses the qu...  \n",
       "\n",
       "[440 rows x 5 columns]"
      ]
     },
     "execution_count": 40,
     "metadata": {},
     "output_type": "execute_result"
    }
   ],
   "source": [
    "df_eval"
   ]
  },
  {
   "cell_type": "code",
   "execution_count": 41,
   "id": "13f54edd",
   "metadata": {},
   "outputs": [
    {
     "data": {
      "application/vnd.microsoft.datawrangler.viewer.v0+json": {
       "columns": [
        {
         "name": "relevance",
         "rawType": "object",
         "type": "string"
        },
        {
         "name": "count",
         "rawType": "int64",
         "type": "integer"
        }
       ],
       "ref": "667398d8-2f90-4a55-a119-2225d2de6f68",
       "rows": [
        [
         "RELEVANT",
         "418"
        ],
        [
         "PARTLY_RELEVANT",
         "18"
        ],
        [
         "NON_RELEVANT",
         "4"
        ]
       ],
       "shape": {
        "columns": 1,
        "rows": 3
       }
      },
      "text/plain": [
       "relevance\n",
       "RELEVANT           418\n",
       "PARTLY_RELEVANT     18\n",
       "NON_RELEVANT         4\n",
       "Name: count, dtype: int64"
      ]
     },
     "execution_count": 41,
     "metadata": {},
     "output_type": "execute_result"
    }
   ],
   "source": [
    "df_eval.relevance.value_counts()"
   ]
  },
  {
   "cell_type": "code",
   "execution_count": 42,
   "id": "84840f43",
   "metadata": {},
   "outputs": [
    {
     "data": {
      "application/vnd.microsoft.datawrangler.viewer.v0+json": {
       "columns": [
        {
         "name": "relevance",
         "rawType": "object",
         "type": "string"
        },
        {
         "name": "proportion",
         "rawType": "float64",
         "type": "float"
        }
       ],
       "ref": "06be3add-1ae4-466b-8053-e30002e955d3",
       "rows": [
        [
         "RELEVANT",
         "0.95"
        ],
        [
         "PARTLY_RELEVANT",
         "0.04090909090909091"
        ],
        [
         "NON_RELEVANT",
         "0.00909090909090909"
        ]
       ],
       "shape": {
        "columns": 1,
        "rows": 3
       }
      },
      "text/plain": [
       "relevance\n",
       "RELEVANT           0.950000\n",
       "PARTLY_RELEVANT    0.040909\n",
       "NON_RELEVANT       0.009091\n",
       "Name: proportion, dtype: float64"
      ]
     },
     "execution_count": 42,
     "metadata": {},
     "output_type": "execute_result"
    }
   ],
   "source": [
    "df_eval.relevance.value_counts(normalize=True)"
   ]
  },
  {
   "cell_type": "code",
   "execution_count": 43,
   "id": "93ba5ad0",
   "metadata": {},
   "outputs": [],
   "source": [
    "df_eval.to_csv(\"../data/rag-eval-gpt-4o.csv\", index=False)"
   ]
  },
  {
   "cell_type": "code",
   "execution_count": null,
   "id": "7512bdfc",
   "metadata": {},
   "outputs": [],
   "source": []
  }
 ],
 "metadata": {
  "kernelspec": {
   "display_name": "LLMZoomcamp",
   "language": "python",
   "name": "python3"
  },
  "language_info": {
   "codemirror_mode": {
    "name": "ipython",
    "version": 3
   },
   "file_extension": ".py",
   "mimetype": "text/x-python",
   "name": "python",
   "nbconvert_exporter": "python",
   "pygments_lexer": "ipython3",
   "version": "3.10.17"
  }
 },
 "nbformat": 4,
 "nbformat_minor": 5
}
