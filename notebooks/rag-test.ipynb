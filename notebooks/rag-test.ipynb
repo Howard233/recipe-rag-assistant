{
 "cells": [
  {
   "cell_type": "code",
   "execution_count": null,
   "id": "4ca2ff47",
   "metadata": {},
   "outputs": [],
   "source": [
    "import pandas as pd\n",
    "from tqdm.auto import tqdm"
   ]
  },
  {
   "cell_type": "markdown",
   "id": "04e02c35",
   "metadata": {},
   "source": [
    "## Data ingestion"
   ]
  },
  {
   "cell_type": "code",
   "execution_count": null,
   "id": "ab1f3f7b",
   "metadata": {},
   "outputs": [],
   "source": [
    "df_recipes = pd.read_csv(\"../data/recipes.csv\")  # source data"
   ]
  },
  {
   "cell_type": "code",
   "execution_count": null,
   "id": "9551b5a5",
   "metadata": {},
   "outputs": [
    {
     "data": {
      "application/vnd.jupyter.widget-view+json": {
       "model_id": "9c4455028c3849399cae24ed5e5ee693",
       "version_major": 2,
       "version_minor": 0
      },
      "text/plain": [
       "  0%|          | 0/88 [00:00<?, ?it/s]"
      ]
     },
     "metadata": {},
     "output_type": "display_data"
    }
   ],
   "source": [
    "# format documents for Qdrant vector DB\n",
    "recipes_raw = df_recipes.to_dict(orient=\"records\")\n",
    "for recipe in tqdm(recipes_raw):\n",
    "    description_stripped = recipe[\"recipe_description\"].strip()\n",
    "    directions_joined = \" \".join(eval(recipe[\"directions\"]))\n",
    "    ingredients_joined = \"; \".join(eval(recipe[\"ingredients\"]))\n",
    "\n",
    "    text = f\"Recipe: {recipe['recipe_name'].strip()} | Description: {description_stripped} | Ratings: {recipe['ratings'].strip()} | Ready in: {recipe['ready-in'].strip()} | Directions: {directions_joined.strip()} | Ingredients: {ingredients_joined.strip()}\"\n",
    "\n",
    "    recipe[\"text\"] = text"
   ]
  },
  {
   "cell_type": "code",
   "execution_count": null,
   "id": "9e4bf39e",
   "metadata": {},
   "outputs": [],
   "source": [
    "# Qdrant\n",
    "from qdrant_client import QdrantClient, models\n",
    "\n",
    "qdrant_client = QdrantClient(\"http://localhost:6333\")\n",
    "\n",
    "EMBEDDING_DIMENSIONALITY = 512\n",
    "model_handle = \"jinaai/jina-embeddings-v2-small-en\""
   ]
  },
  {
   "cell_type": "code",
   "execution_count": null,
   "id": "2e08fa99",
   "metadata": {},
   "outputs": [
    {
     "data": {
      "text/plain": [
       "True"
      ]
     },
     "execution_count": 5,
     "metadata": {},
     "output_type": "execute_result"
    }
   ],
   "source": [
    "collection_name = \"recipe-rag\"\n",
    "\n",
    "if qdrant_client.collection_exists(collection_name=collection_name):\n",
    "    qdrant_client.delete_collection(collection_name=collection_name)\n",
    "\n",
    "qdrant_client.create_collection(\n",
    "    collection_name=collection_name,\n",
    "    vectors_config=models.VectorParams(\n",
    "        size=EMBEDDING_DIMENSIONALITY, distance=models.Distance.COSINE\n",
    "    ),\n",
    ")"
   ]
  },
  {
   "cell_type": "code",
   "execution_count": null,
   "id": "802113b0",
   "metadata": {},
   "outputs": [
    {
     "data": {
      "application/vnd.jupyter.widget-view+json": {
       "model_id": "aa8a3a8b16c24cb0854218e23d538439",
       "version_major": 2,
       "version_minor": 0
      },
      "text/plain": [
       "  0%|          | 0/88 [00:00<?, ?it/s]"
      ]
     },
     "metadata": {},
     "output_type": "display_data"
    },
    {
     "data": {
      "text/plain": [
       "UpdateResult(operation_id=0, status=<UpdateStatus.COMPLETED: 'completed'>)"
      ]
     },
     "execution_count": 6,
     "metadata": {},
     "output_type": "execute_result"
    }
   ],
   "source": [
    "# construct points\n",
    "points = []\n",
    "\n",
    "for recipe in tqdm(recipes_raw):\n",
    "    point = models.PointStruct(\n",
    "        id=recipe[\"recipe_id\"],\n",
    "        vector=models.Document(\n",
    "            text=recipe[\"text\"], model=model_handle\n",
    "        ),  # embedding the text\n",
    "        payload={\n",
    "            \"recipe_id\": recipe[\"recipe_id\"],\n",
    "            \"text\": recipe[\"text\"],\n",
    "            \"recipe_name\": recipe[\"recipe_name\"],\n",
    "            \"recipe_link\": recipe[\"recipe_link\"],\n",
    "            \"recipe_description\": recipe[\"recipe_description\"],\n",
    "            \"ratings\": recipe[\"ratings\"],\n",
    "            \"ready-in\": recipe[\"ready-in\"],\n",
    "            \"directions\": recipe[\"directions\"],\n",
    "            \"ingredients\": recipe[\"ingredients\"],\n",
    "        },\n",
    "    )\n",
    "    points.append(point)\n",
    "\n",
    "# upsert into DB\n",
    "qdrant_client.upsert(collection_name=collection_name, points=points)"
   ]
  },
  {
   "cell_type": "markdown",
   "id": "9af48ca0",
   "metadata": {},
   "source": [
    "## RAG pipeline"
   ]
  },
  {
   "cell_type": "code",
   "execution_count": null,
   "id": "4cd0587a",
   "metadata": {},
   "outputs": [
    {
     "data": {
      "text/plain": [
       "True"
      ]
     },
     "execution_count": 7,
     "metadata": {},
     "output_type": "execute_result"
    }
   ],
   "source": [
    "from dotenv import load_dotenv\n",
    "\n",
    "load_dotenv()"
   ]
  },
  {
   "cell_type": "code",
   "execution_count": null,
   "id": "54d4816f",
   "metadata": {},
   "outputs": [],
   "source": [
    "from openai import OpenAI\n",
    "\n",
    "openai_client = OpenAI()"
   ]
  },
  {
   "cell_type": "code",
   "execution_count": null,
   "id": "8cd43061",
   "metadata": {},
   "outputs": [],
   "source": [
    "# search\n",
    "def vector_search(collection_name, query, limit=1):\n",
    "    query_points = qdrant_client.query_points(\n",
    "        collection_name=collection_name,\n",
    "        query=models.Document(  # embed the query text locally with \"jinaai/jina-embeddings-v2-small-en\"\n",
    "            text=query, model=model_handle\n",
    "        ),\n",
    "        limit=limit,  # top closest matches\n",
    "        with_payload=True,  # to get metadata in the results\n",
    "    )\n",
    "\n",
    "    results = []\n",
    "\n",
    "    for point in query_points.points:\n",
    "        results.append(point.payload)\n",
    "    return results"
   ]
  },
  {
   "cell_type": "code",
   "execution_count": null,
   "id": "b2824b6c",
   "metadata": {},
   "outputs": [],
   "source": [
    "def build_prompt(query, search_results):\n",
    "    prompt_template = \"\"\"\n",
    "You're a cooking assistant. Answer the QUESTION based on the CONTEXT from the recipe database.\n",
    "Use only the facts from the CONTEXT when answering the QUESTION.\n",
    "\n",
    "QUESTION: {question}\n",
    "\n",
    "CONTEXT: \n",
    "{context}\n",
    "\"\"\".strip()\n",
    "\n",
    "    context = \"\"\n",
    "\n",
    "    for doc in search_results:\n",
    "        context = (\n",
    "            context + f\"{doc['text']}\\n\\n\"\n",
    "        )  # doc['text'] should contain all the recipe information\n",
    "\n",
    "    prompt = prompt_template.format(question=query, context=context).strip()\n",
    "    return prompt"
   ]
  },
  {
   "cell_type": "code",
   "execution_count": null,
   "id": "7b00a19b",
   "metadata": {},
   "outputs": [],
   "source": [
    "def llm(openai_client, llm_model, prompt):\n",
    "    response = openai_client.chat.completions.create(\n",
    "        model=llm_model, messages=[{\"role\": \"user\", \"content\": prompt}]\n",
    "    )\n",
    "\n",
    "    return response.choices[0].message.content"
   ]
  },
  {
   "cell_type": "code",
   "execution_count": 12,
   "id": "e42508aa",
   "metadata": {},
   "outputs": [],
   "source": [
    "def rag(query, openai_client, collection_name, llm_model, limit=5):\n",
    "    search_results = vector_search(collection_name, query, limit)\n",
    "    prompt = build_prompt(query, search_results)\n",
    "    answer = llm(openai_client, llm_model, prompt)\n",
    "    return answer"
   ]
  },
  {
   "cell_type": "code",
   "execution_count": null,
   "id": "41e55de2",
   "metadata": {},
   "outputs": [
    {
     "name": "stdout",
     "output_type": "stream",
     "text": [
      "Yes, there are several recommended fish recipes. Here are the details about each recipe:\n",
      "\n",
      "1. **Easy Oven-Baked Cod**\n",
      "   - **Description:** Amazingly quick, fresh, and light, this recipe can be made with any type of fish fillet.\n",
      "   - **Ratings:** 4.6 stars (60 ratings)\n",
      "   - **Ready in:** 25 minutes\n",
      "   - **Directions:** Preheat oven to 400°F. Line your pan with aluminum foil and lightly brush with olive oil. Combine parsley, garlic, lemon zest, and coarse salt; chop finely and mix with breadcrumbs. Brush cod fillets with olive oil, press into breadcrumb mixture, and place crust-side up in a baking dish. Bake for 12-15 minutes. Serve with lemon wedges.\n",
      "   - **Ingredients:** 11⁄2 cups plain breadcrumbs, 1⁄2 cup fresh parsley, 2-3 garlic cloves, 1 lemon (zest), 3⁄4 teaspoon coarse salt, 4 (6-8 ounce) cod fillets, olive oil.\n",
      "\n",
      "2. **Lemon Baked Cod**\n",
      "   - **Description:** A great baked cod recipe.\n",
      "   - **Ratings:** 4.35 stars (209 ratings)\n",
      "   - **Ready in:** 35 minutes\n",
      "   - **Directions:** If large, cut fish fillets into pieces. Mix melted butter and lemon juice. In another bowl, mix flour, salt, and white pepper. Dip fish in butter mixture and coat with flour. Place in an ungreased 8x8x2 inch baking dish, pour remaining butter mixture on top, and sprinkle with paprika. Cook uncovered at 350°F for 25-30 minutes until fish flakes easily.\n",
      "   - **Ingredients:** 1 lb cod fish fillet, 1/4 cup melted butter or margarine, 2 tablespoons lemon juice, 1/4 cup all-purpose flour, 1/2 teaspoon salt, 1/8 teaspoon white pepper, paprika.\n",
      "\n",
      "3. **Baked Salmon**\n",
      "   - **Description:** A great baked salmon recipe for beginners.\n",
      "   - **Ratings:** 4.75 stars (443 ratings)\n",
      "   - **Ready in:** 1 hour\n",
      "   - **Directions:** Prepare marinade (garlic, light olive oil, basil, salt, pepper, lemon juice, parsley) and marinate salmon fillets for about 1 hour. Preheat oven to 375°F. Place salmon in aluminum foil, cover with marinade, seal, and bake for 35-45 minutes until easily flaked.\n",
      "   - **Ingredients:** 2 garlic cloves (minced), 6 tablespoons light olive oil, 1 teaspoon dried basil, 1 teaspoon salt, 1 teaspoon ground black pepper, 1 tablespoon lemon juice, 1 tablespoon fresh parsley (chopped), 2 (6 ounce) salmon fillets.\n",
      "\n",
      "4. **Sesame Crusted Tuna Steaks**\n",
      "   - **Description:** An adapted recipe that combines elements from several others to create a tasty dish.\n",
      "   - **Ratings:** 4.57 stars (7 ratings)\n",
      "   - **Ready in:** 25 minutes\n",
      "   - **Directions:** Heat sesame oil and cook green onion and garlic. Add remaining ingredients and reduce. Season tuna steaks with salt, pepper, and sesame seeds. Cook in a skillet over medium high heat until desired doneness, about 2-3 minutes per side. Drizzle sauce over tuna and serve.\n",
      "   - **Ingredients:** 4 (6 ounce) tuna steaks (room temperature), 1/2 teaspoon salt, 1 teaspoon fresh ground pepper, 2 tablespoons roasted sesame seeds, 2 tablespoons cooking oil, 1 teaspoon sesame oil, 1 tablespoon green onion (finely chopped), 1 clove garlic (minced), 2/3 cup balsamic vinegar, 1/4 cup soy sauce, 1 tablespoon honey.\n",
      "\n",
      "These recipes offer a variety of options for cooking fish in different styles!\n"
     ]
    }
   ],
   "source": [
    "query = \"Are there any recommended fish recipes? Can you give me the details about the recipes as well?\"\n",
    "answer = rag(\n",
    "    query=query,\n",
    "    openai_client=openai_client,\n",
    "    collection_name=collection_name,\n",
    "    llm_model=\"gpt-4o-mini\",\n",
    ")\n",
    "print(answer)"
   ]
  },
  {
   "cell_type": "markdown",
   "id": "c492f91d",
   "metadata": {},
   "source": [
    "## Retrieval evaluation"
   ]
  },
  {
   "cell_type": "code",
   "execution_count": null,
   "id": "f7de746b",
   "metadata": {},
   "outputs": [],
   "source": [
    "df_question = pd.read_csv(\"../data/ground-truth-retrievel.csv\")"
   ]
  },
  {
   "cell_type": "code",
   "execution_count": 15,
   "id": "17c053ef",
   "metadata": {},
   "outputs": [
    {
     "data": {
      "application/vnd.microsoft.datawrangler.viewer.v0+json": {
       "columns": [
        {
         "name": "index",
         "rawType": "int64",
         "type": "integer"
        },
        {
         "name": "id",
         "rawType": "int64",
         "type": "integer"
        },
        {
         "name": "question",
         "rawType": "object",
         "type": "string"
        }
       ],
       "ref": "c3a5f0c8-b386-47e7-bbf9-c73b9ae132af",
       "rows": [
        [
         "0",
         "0",
         "What are the main ingredients for the Ground Beef Gyros?"
        ],
        [
         "1",
         "0",
         "How long does it take to cook the Ground Beef Gyros?"
        ],
        [
         "2",
         "0",
         "What kind of sauce is recommended with the Ground Beef Gyros?"
        ],
        [
         "3",
         "0",
         "Can turkey be used instead of beef in Ground Beef Gyros?"
        ],
        [
         "4",
         "0",
         "How is the Ground Beef Gyros rated by those who have tried it?"
        ],
        [
         "5",
         "1",
         "How long does the Lasagna take to cook?"
        ],
        [
         "6",
         "1",
         "What type of cheese does the Lasagna recipe suggest using?"
        ],
        [
         "7",
         "1",
         "Can you use ricotta instead of cottage cheese in this Lasagna?"
        ],
        [
         "8",
         "1",
         "How do you prepare the baking pan for the Lasagna?"
        ],
        [
         "9",
         "1",
         "What is the oven temperature for baking the Lasagna?"
        ],
        [
         "10",
         "2",
         "What is the name of the recipe that claims to be easy to make?"
        ],
        [
         "11",
         "2",
         "How long does it take to cook The Best Easy Beef & Broccoli Stir-Fry?"
        ],
        [
         "12",
         "2",
         "What garnish is optionally suggested for The Best Easy Beef & Broccoli Stir-Fry?"
        ],
        [
         "13",
         "2",
         "What type of steak is recommended for The Best Easy Beef & Broccoli Stir-Fry?"
        ],
        [
         "14",
         "2",
         "How many stars has The Best Easy Beef & Broccoli Stir-Fry been rated?"
        ],
        [
         "15",
         "3",
         "How long does it take to make The Ultimate Greek Salad?"
        ],
        [
         "16",
         "3",
         "What type of olives does The Ultimate Greek Salad recipe use?"
        ],
        [
         "17",
         "3",
         "Can lettuce be included in The Ultimate Greek Salad according to the description?"
        ],
        [
         "18",
         "3",
         "What is the rating for The Ultimate Greek Salad?"
        ],
        [
         "19",
         "3",
         "What kind of cheese is used in The Ultimate Greek Salad?"
        ],
        [
         "20",
         "4",
         "How long does it take to make the Easy Stovetop Macaroni 'n' Cheese?"
        ],
        [
         "21",
         "4",
         "What kind of cheese is used in the Easy Stovetop Macaroni 'n' Cheese?"
        ],
        [
         "22",
         "4",
         "How is the Easy Stovetop Macaroni 'n' Cheese cooked?"
        ],
        [
         "23",
         "4",
         "What is the user rating for the Easy Stovetop Macaroni 'n' Cheese?"
        ],
        [
         "24",
         "4",
         "Do you need to bake the Easy Stovetop Macaroni 'n' Cheese?"
        ],
        [
         "25",
         "5",
         "How long do you need to cook Bev's Spaghetti Sauce?"
        ],
        [
         "26",
         "5",
         "What meat should you use in Bev's Spaghetti Sauce?"
        ],
        [
         "27",
         "5",
         "What type of cheese is suggested for topping Bev's Spaghetti Sauce?"
        ],
        [
         "28",
         "5",
         "How is the flavor of Bev's Spaghetti Sauce described by the creator?"
        ],
        [
         "29",
         "5",
         "What overall rating does Bev's Spaghetti Sauce have?"
        ],
        [
         "30",
         "6",
         "How much oil or shortening is recommended for the Perfect Southern Fried Chicken?"
        ],
        [
         "31",
         "6",
         "What is the total cooking time for the Perfect Southern Fried Chicken?"
        ],
        [
         "32",
         "6",
         "How many pieces is the chicken cut into for the Perfect Southern Fried Chicken?"
        ],
        [
         "33",
         "6",
         "What is the rating for the Perfect Southern Fried Chicken recipe?"
        ],
        [
         "34",
         "6",
         "What is the purpose of covering the chicken at the beginning of the cooking process in the Perfect Southern Fried Chicken?"
        ],
        [
         "35",
         "7",
         "How long does it take to cook Chicken Fried Rice?"
        ],
        [
         "36",
         "7",
         "What kind of meat can be used in Chicken Fried Rice?"
        ],
        [
         "37",
         "7",
         "When should sesame oil be added in the Chicken Fried Rice recipe?"
        ],
        [
         "38",
         "7",
         "What is the rating of the Chicken Fried Rice recipe?"
        ],
        [
         "39",
         "7",
         "What vegetables are included in the Chicken Fried Rice ingredients?"
        ],
        [
         "40",
         "8",
         "How long does it take to cook the Sloppy Joes?"
        ],
        [
         "41",
         "8",
         "What is the main protein ingredient in the Sloppy Joes?"
        ],
        [
         "42",
         "8",
         "What star rating does the Sloppy Joes recipe have?"
        ],
        [
         "43",
         "8",
         "Is mustard necessary in the Sloppy Joes recipe?"
        ],
        [
         "44",
         "8",
         "How are the onions prepared in the Sloppy Joes recipe?"
        ],
        [
         "45",
         "9",
         "How long does it take to cook the Chicken Parmesan?"
        ],
        [
         "46",
         "9",
         "What's the main protein ingredient in the Chicken Parmesan recipe?"
        ],
        [
         "47",
         "9",
         "How is the chicken seasoned in the Chicken Parmesan recipe?"
        ],
        [
         "48",
         "9",
         "What type of cheese is placed on top of the Chicken Parmesan?"
        ],
        [
         "49",
         "9",
         "Is serving spaghetti with the Chicken Parmesan mandatory according to the recipe?"
        ]
       ],
       "shape": {
        "columns": 2,
        "rows": 440
       }
      },
      "text/html": [
       "<div>\n",
       "<style scoped>\n",
       "    .dataframe tbody tr th:only-of-type {\n",
       "        vertical-align: middle;\n",
       "    }\n",
       "\n",
       "    .dataframe tbody tr th {\n",
       "        vertical-align: top;\n",
       "    }\n",
       "\n",
       "    .dataframe thead th {\n",
       "        text-align: right;\n",
       "    }\n",
       "</style>\n",
       "<table border=\"1\" class=\"dataframe\">\n",
       "  <thead>\n",
       "    <tr style=\"text-align: right;\">\n",
       "      <th></th>\n",
       "      <th>id</th>\n",
       "      <th>question</th>\n",
       "    </tr>\n",
       "  </thead>\n",
       "  <tbody>\n",
       "    <tr>\n",
       "      <th>0</th>\n",
       "      <td>0</td>\n",
       "      <td>What are the main ingredients for the Ground B...</td>\n",
       "    </tr>\n",
       "    <tr>\n",
       "      <th>1</th>\n",
       "      <td>0</td>\n",
       "      <td>How long does it take to cook the Ground Beef ...</td>\n",
       "    </tr>\n",
       "    <tr>\n",
       "      <th>2</th>\n",
       "      <td>0</td>\n",
       "      <td>What kind of sauce is recommended with the Gro...</td>\n",
       "    </tr>\n",
       "    <tr>\n",
       "      <th>3</th>\n",
       "      <td>0</td>\n",
       "      <td>Can turkey be used instead of beef in Ground B...</td>\n",
       "    </tr>\n",
       "    <tr>\n",
       "      <th>4</th>\n",
       "      <td>0</td>\n",
       "      <td>How is the Ground Beef Gyros rated by those wh...</td>\n",
       "    </tr>\n",
       "    <tr>\n",
       "      <th>...</th>\n",
       "      <td>...</td>\n",
       "      <td>...</td>\n",
       "    </tr>\n",
       "    <tr>\n",
       "      <th>435</th>\n",
       "      <td>87</td>\n",
       "      <td>What is the rating for the Yakisoba recipe?</td>\n",
       "    </tr>\n",
       "    <tr>\n",
       "      <th>436</th>\n",
       "      <td>87</td>\n",
       "      <td>How long does it take to cook Yakisoba?</td>\n",
       "    </tr>\n",
       "    <tr>\n",
       "      <th>437</th>\n",
       "      <td>87</td>\n",
       "      <td>What type of meat is used in the Yakisoba recipe?</td>\n",
       "    </tr>\n",
       "    <tr>\n",
       "      <th>438</th>\n",
       "      <td>87</td>\n",
       "      <td>Does the Yakisoba recipe include soy sauce?</td>\n",
       "    </tr>\n",
       "    <tr>\n",
       "      <th>439</th>\n",
       "      <td>87</td>\n",
       "      <td>Are scallions optional in the Yakisoba recipe?</td>\n",
       "    </tr>\n",
       "  </tbody>\n",
       "</table>\n",
       "<p>440 rows × 2 columns</p>\n",
       "</div>"
      ],
      "text/plain": [
       "     id                                           question\n",
       "0     0  What are the main ingredients for the Ground B...\n",
       "1     0  How long does it take to cook the Ground Beef ...\n",
       "2     0  What kind of sauce is recommended with the Gro...\n",
       "3     0  Can turkey be used instead of beef in Ground B...\n",
       "4     0  How is the Ground Beef Gyros rated by those wh...\n",
       "..   ..                                                ...\n",
       "435  87        What is the rating for the Yakisoba recipe?\n",
       "436  87            How long does it take to cook Yakisoba?\n",
       "437  87  What type of meat is used in the Yakisoba recipe?\n",
       "438  87        Does the Yakisoba recipe include soy sauce?\n",
       "439  87     Are scallions optional in the Yakisoba recipe?\n",
       "\n",
       "[440 rows x 2 columns]"
      ]
     },
     "execution_count": 15,
     "metadata": {},
     "output_type": "execute_result"
    }
   ],
   "source": [
    "df_question"
   ]
  },
  {
   "cell_type": "code",
   "execution_count": null,
   "id": "9d1b4275",
   "metadata": {},
   "outputs": [],
   "source": [
    "ground_truth = df_question.to_dict(orient=\"records\")"
   ]
  },
  {
   "cell_type": "markdown",
   "id": "0823f631",
   "metadata": {},
   "source": [
    "### Metric calculation and evaluation"
   ]
  },
  {
   "cell_type": "code",
   "execution_count": null,
   "id": "d05f76da",
   "metadata": {},
   "outputs": [],
   "source": [
    "# metric calculation\n",
    "def hit_rate(relevance_total):\n",
    "    cnt = 0\n",
    "\n",
    "    for line in relevance_total:\n",
    "        if True in line:\n",
    "            cnt = cnt + 1\n",
    "\n",
    "    return cnt / len(relevance_total)\n",
    "\n",
    "\n",
    "def mrr(relevance_total):\n",
    "    total_score = 0.0\n",
    "\n",
    "    for line in relevance_total:\n",
    "        for rank in range(len(line)):\n",
    "            if line[rank]:\n",
    "                total_score = total_score + 1 / (rank + 1)\n",
    "\n",
    "    return total_score / len(relevance_total)\n",
    "\n",
    "\n",
    "def evaluate(ground_truth, search_function):\n",
    "    relevance_total = []\n",
    "\n",
    "    for q in tqdm(ground_truth):\n",
    "        doc_id = q[\"id\"]\n",
    "        results = search_function(q)\n",
    "        relevance = [d[\"recipe_id\"] == doc_id for d in results]\n",
    "        relevance_total.append(relevance)\n",
    "\n",
    "    return {\n",
    "        \"hit_rate\": hit_rate(relevance_total),\n",
    "        \"mrr\": mrr(relevance_total),\n",
    "    }"
   ]
  },
  {
   "cell_type": "markdown",
   "id": "d2be1d9e",
   "metadata": {},
   "source": [
    "### Qdrant sparse vector search"
   ]
  },
  {
   "cell_type": "code",
   "execution_count": null,
   "id": "af06c8ae",
   "metadata": {},
   "outputs": [
    {
     "data": {
      "text/plain": [
       "True"
      ]
     },
     "execution_count": 49,
     "metadata": {},
     "output_type": "execute_result"
    }
   ],
   "source": [
    "# qdrant sparse vector search\n",
    "collection_name = \"recipe-rag-sparse\"\n",
    "if qdrant_client.collection_exists(collection_name=collection_name):\n",
    "    qdrant_client.delete_collection(collection_name=collection_name)\n",
    "\n",
    "qdrant_client.create_collection(\n",
    "    collection_name=collection_name,\n",
    "    sparse_vectors_config={\n",
    "        \"bm25\": models.SparseVectorParams(\n",
    "            modifier=models.Modifier.IDF,\n",
    "        )\n",
    "    },\n",
    ")"
   ]
  },
  {
   "cell_type": "code",
   "execution_count": null,
   "id": "3a8387de",
   "metadata": {},
   "outputs": [
    {
     "data": {
      "application/vnd.jupyter.widget-view+json": {
       "model_id": "717a95958bf94cc79292a86fbf3439b8",
       "version_major": 2,
       "version_minor": 0
      },
      "text/plain": [
       "  0%|          | 0/88 [00:00<?, ?it/s]"
      ]
     },
     "metadata": {},
     "output_type": "display_data"
    },
    {
     "data": {
      "text/plain": [
       "UpdateResult(operation_id=0, status=<UpdateStatus.COMPLETED: 'completed'>)"
      ]
     },
     "execution_count": 50,
     "metadata": {},
     "output_type": "execute_result"
    }
   ],
   "source": [
    "# construct points\n",
    "points = []\n",
    "\n",
    "for recipe in tqdm(recipes_raw):\n",
    "    point = models.PointStruct(\n",
    "        id=recipe[\"recipe_id\"],\n",
    "        vector={\n",
    "            \"bm25\": models.Document(\n",
    "                text=recipe[\"text\"],\n",
    "                model=\"Qdrant/bm25\",\n",
    "            ),\n",
    "        },\n",
    "        payload={\n",
    "            \"recipe_id\": recipe[\"recipe_id\"],\n",
    "            \"text\": recipe[\"text\"],\n",
    "            \"recipe_name\": recipe[\"recipe_name\"],\n",
    "            \"recipe_link\": recipe[\"recipe_link\"],\n",
    "            \"recipe_description\": recipe[\"recipe_description\"],\n",
    "            \"ratings\": recipe[\"ratings\"],\n",
    "            \"ready-in\": recipe[\"ready-in\"],\n",
    "            \"directions\": recipe[\"directions\"],\n",
    "            \"ingredients\": recipe[\"ingredients\"],\n",
    "        },\n",
    "    )\n",
    "    points.append(point)\n",
    "\n",
    "# upsert into DB\n",
    "qdrant_client.upsert(collection_name=collection_name, points=points)"
   ]
  },
  {
   "cell_type": "code",
   "execution_count": null,
   "id": "d083201c",
   "metadata": {},
   "outputs": [],
   "source": [
    "def qdrant_sparse_search(query, collection_name, limit=5) -> list[models.ScoredPoint]:\n",
    "    query_points = qdrant_client.query_points(\n",
    "        collection_name=collection_name,\n",
    "        query=models.Document(\n",
    "            text=query,\n",
    "            model=\"Qdrant/bm25\",\n",
    "        ),\n",
    "        using=\"bm25\",\n",
    "        limit=limit,\n",
    "        with_payload=True,\n",
    "    )\n",
    "\n",
    "    results = []\n",
    "    for point in query_points.points:\n",
    "        results.append(point.payload)\n",
    "    return results"
   ]
  },
  {
   "cell_type": "code",
   "execution_count": null,
   "id": "477ce6b8",
   "metadata": {},
   "outputs": [
    {
     "data": {
      "application/vnd.jupyter.widget-view+json": {
       "model_id": "e760226a6464445282de686a91d5464d",
       "version_major": 2,
       "version_minor": 0
      },
      "text/plain": [
       "  0%|          | 0/440 [00:00<?, ?it/s]"
      ]
     },
     "metadata": {},
     "output_type": "display_data"
    },
    {
     "data": {
      "text/plain": [
       "{'hit_rate': 0.9954545454545455, 'mrr': 0.9595129870129869}"
      ]
     },
     "execution_count": 52,
     "metadata": {},
     "output_type": "execute_result"
    }
   ],
   "source": [
    "evaluate(\n",
    "    ground_truth,\n",
    "    lambda q: qdrant_sparse_search(\n",
    "        q[\"question\"], collection_name=\"recipe-rag-sparse\", limit=10\n",
    "    ),\n",
    ")"
   ]
  },
  {
   "cell_type": "markdown",
   "id": "f4f72dde",
   "metadata": {},
   "source": [
    "### Qdrant vector search"
   ]
  },
  {
   "cell_type": "code",
   "execution_count": null,
   "id": "9c746c2a",
   "metadata": {},
   "outputs": [],
   "source": [
    "def qdrant_search(query, collection_name, limit=5):\n",
    "    query_points = qdrant_client.query_points(\n",
    "        collection_name=collection_name,\n",
    "        query=models.Document(  # embed the query text locally with \"jinaai/jina-embeddings-v2-small-en\"\n",
    "            text=query, model=model_handle\n",
    "        ),\n",
    "        limit=limit,  # top closest matches\n",
    "        with_payload=True,  # to get metadata in the results\n",
    "    )\n",
    "\n",
    "    results = []\n",
    "    for point in query_points.points:\n",
    "        results.append(point.payload)\n",
    "    return results"
   ]
  },
  {
   "cell_type": "code",
   "execution_count": null,
   "id": "0038564a",
   "metadata": {},
   "outputs": [
    {
     "data": {
      "application/vnd.jupyter.widget-view+json": {
       "model_id": "7235b195db81432c839c63c5de8ce975",
       "version_major": 2,
       "version_minor": 0
      },
      "text/plain": [
       "  0%|          | 0/440 [00:00<?, ?it/s]"
      ]
     },
     "metadata": {},
     "output_type": "display_data"
    },
    {
     "data": {
      "text/plain": [
       "{'hit_rate': 0.9886363636363636, 'mrr': 0.9756439393939393}"
      ]
     },
     "execution_count": 47,
     "metadata": {},
     "output_type": "execute_result"
    }
   ],
   "source": [
    "evaluate(\n",
    "    ground_truth,\n",
    "    lambda q: qdrant_search(q[\"question\"], collection_name=\"recipe-rag\", limit=10),\n",
    ")"
   ]
  },
  {
   "cell_type": "markdown",
   "id": "cc5402c1",
   "metadata": {},
   "source": [
    "### Qdrant hybrid search"
   ]
  },
  {
   "cell_type": "code",
   "execution_count": null,
   "id": "e5c3406c",
   "metadata": {},
   "outputs": [
    {
     "data": {
      "text/plain": [
       "True"
      ]
     },
     "execution_count": 53,
     "metadata": {},
     "output_type": "execute_result"
    }
   ],
   "source": [
    "# hybrid search with Qdrant\n",
    "collection_name = \"recipe-rag-hybrid\"\n",
    "if qdrant_client.collection_exists(collection_name):\n",
    "    qdrant_client.delete_collection(collection_name=collection_name)\n",
    "\n",
    "qdrant_client.create_collection(\n",
    "    collection_name=collection_name,\n",
    "    vectors_config={\n",
    "        # Named dense vector for jinaai/jina-embeddings-v2-small-en\n",
    "        \"jina-small\": models.VectorParams(\n",
    "            size=512,\n",
    "            distance=models.Distance.COSINE,\n",
    "        ),\n",
    "    },\n",
    "    sparse_vectors_config={\n",
    "        \"bm25\": models.SparseVectorParams(\n",
    "            modifier=models.Modifier.IDF,\n",
    "        )\n",
    "    },\n",
    ")"
   ]
  },
  {
   "cell_type": "code",
   "execution_count": null,
   "id": "6d80f398",
   "metadata": {},
   "outputs": [
    {
     "data": {
      "application/vnd.jupyter.widget-view+json": {
       "model_id": "ba64fd140082484980c3afb83972cddd",
       "version_major": 2,
       "version_minor": 0
      },
      "text/plain": [
       "  0%|          | 0/88 [00:00<?, ?it/s]"
      ]
     },
     "metadata": {},
     "output_type": "display_data"
    },
    {
     "data": {
      "text/plain": [
       "UpdateResult(operation_id=0, status=<UpdateStatus.COMPLETED: 'completed'>)"
      ]
     },
     "execution_count": 54,
     "metadata": {},
     "output_type": "execute_result"
    }
   ],
   "source": [
    "# construct points\n",
    "points = []\n",
    "\n",
    "for recipe in tqdm(recipes_raw):\n",
    "    point = models.PointStruct(\n",
    "        id=recipe[\"recipe_id\"],\n",
    "        vector={\n",
    "            \"jina-small\": models.Document(\n",
    "                text=recipe[\"text\"],\n",
    "                model=\"jinaai/jina-embeddings-v2-small-en\",\n",
    "            ),\n",
    "            \"bm25\": models.Document(\n",
    "                text=recipe[\"text\"],\n",
    "                model=\"Qdrant/bm25\",\n",
    "            ),\n",
    "        },\n",
    "        payload={\n",
    "            \"recipe_id\": recipe[\"recipe_id\"],\n",
    "            \"text\": recipe[\"text\"],\n",
    "            \"recipe_name\": recipe[\"recipe_name\"],\n",
    "            \"recipe_link\": recipe[\"recipe_link\"],\n",
    "            \"recipe_description\": recipe[\"recipe_description\"],\n",
    "            \"ratings\": recipe[\"ratings\"],\n",
    "            \"ready-in\": recipe[\"ready-in\"],\n",
    "            \"directions\": recipe[\"directions\"],\n",
    "            \"ingredients\": recipe[\"ingredients\"],\n",
    "        },\n",
    "    )\n",
    "    points.append(point)\n",
    "\n",
    "# upsert into DB\n",
    "qdrant_client.upsert(collection_name=collection_name, points=points)"
   ]
  },
  {
   "cell_type": "code",
   "execution_count": 57,
   "id": "f0a218f3",
   "metadata": {},
   "outputs": [],
   "source": [
    "def qdrant_rrf_search(query, collection_name, limit=5) -> list[models.ScoredPoint]:\n",
    "    query_points = qdrant_client.query_points(\n",
    "        collection_name=collection_name,\n",
    "        prefetch=[\n",
    "            models.Prefetch(\n",
    "                query=models.Document(\n",
    "                    text=query,\n",
    "                    model=\"jinaai/jina-embeddings-v2-small-en\",\n",
    "                ),\n",
    "                using=\"jina-small\",\n",
    "                limit=(5 * limit),\n",
    "            ),\n",
    "            models.Prefetch(\n",
    "                query=models.Document(\n",
    "                    text=query,\n",
    "                    model=\"Qdrant/bm25\",\n",
    "                ),\n",
    "                using=\"bm25\",\n",
    "                limit=(5 * limit),\n",
    "            ),\n",
    "        ],\n",
    "        # Fusion query enables fusion on the prefetched results\n",
    "        query=models.FusionQuery(fusion=models.Fusion.RRF),\n",
    "        with_payload=True,\n",
    "    )\n",
    "\n",
    "    results = []\n",
    "    for point in query_points.points:\n",
    "        results.append(point.payload)\n",
    "    return results"
   ]
  },
  {
   "cell_type": "code",
   "execution_count": null,
   "id": "1406765d",
   "metadata": {},
   "outputs": [
    {
     "data": {
      "application/vnd.jupyter.widget-view+json": {
       "model_id": "ca57c4b16d77482ebf9b15dc63845875",
       "version_major": 2,
       "version_minor": 0
      },
      "text/plain": [
       "  0%|          | 0/440 [00:00<?, ?it/s]"
      ]
     },
     "metadata": {},
     "output_type": "display_data"
    },
    {
     "data": {
      "text/plain": [
       "{'hit_rate': 0.9931818181818182, 'mrr': 0.9742514430014431}"
      ]
     },
     "execution_count": 58,
     "metadata": {},
     "output_type": "execute_result"
    }
   ],
   "source": [
    "evaluate(\n",
    "    ground_truth,\n",
    "    lambda q: qdrant_rrf_search(\n",
    "        q[\"question\"], collection_name=\"recipe-rag-hybrid\", limit=10\n",
    "    ),\n",
    ")"
   ]
  },
  {
   "cell_type": "code",
   "execution_count": null,
   "id": "f23d511f",
   "metadata": {},
   "outputs": [],
   "source": []
  }
 ],
 "metadata": {
  "kernelspec": {
   "display_name": "LLMZoomcamp",
   "language": "python",
   "name": "python3"
  },
  "language_info": {
   "codemirror_mode": {
    "name": "ipython",
    "version": 3
   },
   "file_extension": ".py",
   "mimetype": "text/x-python",
   "name": "python",
   "nbconvert_exporter": "python",
   "pygments_lexer": "ipython3",
   "version": "3.10.17"
  }
 },
 "nbformat": 4,
 "nbformat_minor": 5
}
