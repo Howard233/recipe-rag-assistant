{
 "cells": [
  {
   "cell_type": "code",
   "execution_count": null,
   "id": "4ca2ff47",
   "metadata": {},
   "outputs": [],
   "source": [
    "import pandas as pd\n",
    "from tqdm.auto import tqdm"
   ]
  },
  {
   "cell_type": "markdown",
   "id": "04e02c35",
   "metadata": {},
   "source": [
    "## Data ingestion"
   ]
  },
  {
   "cell_type": "code",
   "execution_count": null,
   "id": "ab1f3f7b",
   "metadata": {},
   "outputs": [],
   "source": [
    "df_recipes = pd.read_csv(\"../data/recipes.csv\")  # source data"
   ]
  },
  {
   "cell_type": "code",
   "execution_count": null,
   "id": "9551b5a5",
   "metadata": {},
   "outputs": [
    {
     "data": {
      "application/vnd.jupyter.widget-view+json": {
       "model_id": "9c4455028c3849399cae24ed5e5ee693",
       "version_major": 2,
       "version_minor": 0
      },
      "text/plain": [
       "  0%|          | 0/88 [00:00<?, ?it/s]"
      ]
     },
     "metadata": {},
     "output_type": "display_data"
    }
   ],
   "source": [
    "# format documents for Qdrant vector DB\n",
    "recipes_raw = df_recipes.to_dict(orient=\"records\")\n",
    "for recipe in tqdm(recipes_raw):\n",
    "    description_stripped = recipe[\"recipe_description\"].strip()\n",
    "    directions_joined = \" \".join(eval(recipe[\"directions\"]))\n",
    "    ingredients_joined = \"; \".join(eval(recipe[\"ingredients\"]))\n",
    "\n",
    "    text = f\"Recipe: {recipe['recipe_name'].strip()} | Description: {description_stripped} | Ratings: {recipe['ratings'].strip()} | Ready in: {recipe['ready-in'].strip()} | Directions: {directions_joined.strip()} | Ingredients: {ingredients_joined.strip()}\"\n",
    "\n",
    "    recipe[\"text\"] = text"
   ]
  },
  {
   "cell_type": "code",
   "execution_count": null,
   "id": "9e4bf39e",
   "metadata": {},
   "outputs": [],
   "source": [
    "# Qdrant\n",
    "from qdrant_client import QdrantClient, models\n",
    "\n",
    "qdrant_client = QdrantClient(\"http://localhost:6333\")\n",
    "\n",
    "EMBEDDING_DIMENSIONALITY = 512\n",
    "model_handle = \"jinaai/jina-embeddings-v2-small-en\""
   ]
  },
  {
   "cell_type": "code",
   "execution_count": null,
   "id": "2e08fa99",
   "metadata": {},
   "outputs": [
    {
     "data": {
      "text/plain": [
       "True"
      ]
     },
     "execution_count": 5,
     "metadata": {},
     "output_type": "execute_result"
    }
   ],
   "source": [
    "collection_name = \"recipe-rag\"\n",
    "\n",
    "if qdrant_client.collection_exists(collection_name=collection_name):\n",
    "    qdrant_client.delete_collection(collection_name=collection_name)\n",
    "\n",
    "qdrant_client.create_collection(\n",
    "    collection_name=collection_name,\n",
    "    vectors_config=models.VectorParams(\n",
    "        size=EMBEDDING_DIMENSIONALITY, distance=models.Distance.COSINE\n",
    "    ),\n",
    ")"
   ]
  },
  {
   "cell_type": "code",
   "execution_count": null,
   "id": "802113b0",
   "metadata": {},
   "outputs": [
    {
     "data": {
      "application/vnd.jupyter.widget-view+json": {
       "model_id": "aa8a3a8b16c24cb0854218e23d538439",
       "version_major": 2,
       "version_minor": 0
      },
      "text/plain": [
       "  0%|          | 0/88 [00:00<?, ?it/s]"
      ]
     },
     "metadata": {},
     "output_type": "display_data"
    },
    {
     "data": {
      "text/plain": [
       "UpdateResult(operation_id=0, status=<UpdateStatus.COMPLETED: 'completed'>)"
      ]
     },
     "execution_count": 6,
     "metadata": {},
     "output_type": "execute_result"
    }
   ],
   "source": [
    "# construct points\n",
    "points = []\n",
    "\n",
    "for recipe in tqdm(recipes_raw):\n",
    "    point = models.PointStruct(\n",
    "        id=recipe[\"recipe_id\"],\n",
    "        vector=models.Document(\n",
    "            text=recipe[\"text\"], model=model_handle\n",
    "        ),  # embedding the text\n",
    "        payload={\n",
    "            \"recipe_id\": recipe[\"recipe_id\"],\n",
    "            \"text\": recipe[\"text\"],\n",
    "            \"recipe_name\": recipe[\"recipe_name\"],\n",
    "            \"recipe_link\": recipe[\"recipe_link\"],\n",
    "            \"recipe_description\": recipe[\"recipe_description\"],\n",
    "            \"ratings\": recipe[\"ratings\"],\n",
    "            \"ready-in\": recipe[\"ready-in\"],\n",
    "            \"directions\": recipe[\"directions\"],\n",
    "            \"ingredients\": recipe[\"ingredients\"],\n",
    "        },\n",
    "    )\n",
    "    points.append(point)\n",
    "\n",
    "# upsert into DB\n",
    "qdrant_client.upsert(collection_name=collection_name, points=points)"
   ]
  },
  {
   "cell_type": "markdown",
   "id": "9af48ca0",
   "metadata": {},
   "source": [
    "## RAG pipeline"
   ]
  },
  {
   "cell_type": "code",
   "execution_count": null,
   "id": "4cd0587a",
   "metadata": {},
   "outputs": [
    {
     "data": {
      "text/plain": [
       "True"
      ]
     },
     "execution_count": 7,
     "metadata": {},
     "output_type": "execute_result"
    }
   ],
   "source": [
    "from dotenv import load_dotenv\n",
    "\n",
    "load_dotenv()"
   ]
  },
  {
   "cell_type": "code",
   "execution_count": null,
   "id": "54d4816f",
   "metadata": {},
   "outputs": [],
   "source": [
    "from openai import OpenAI\n",
    "\n",
    "openai_client = OpenAI()"
   ]
  },
  {
   "cell_type": "code",
   "execution_count": 72,
   "id": "8cd43061",
   "metadata": {},
   "outputs": [],
   "source": [
    "# search\n",
    "def vector_search(collection_name, query, limit=1):\n",
    "    query_points = qdrant_client.query_points(\n",
    "        collection_name=collection_name,\n",
    "        query=models.Document(  # embed the query text locally with \"jinaai/jina-embeddings-v2-small-en\"\n",
    "            text=query, model=model_handle\n",
    "        ),\n",
    "        limit=limit,  # top closest matches\n",
    "        with_payload=True,  # to get metadata in the results\n",
    "    )\n",
    "\n",
    "    results = []\n",
    "\n",
    "    for point in query_points.points:\n",
    "        results.append(point.payload)\n",
    "    return results"
   ]
  },
  {
   "cell_type": "code",
   "execution_count": 73,
   "id": "b2824b6c",
   "metadata": {},
   "outputs": [],
   "source": [
    "def build_prompt(query, search_results):\n",
    "    prompt_template = \"\"\"\n",
    "You're a cooking assistant. Answer the QUESTION based on the CONTEXT from the recipe database.\n",
    "Use only the facts from the CONTEXT when answering the QUESTION.\n",
    "\n",
    "QUESTION: {question}\n",
    "\n",
    "CONTEXT: \n",
    "{context}\n",
    "\"\"\".strip()\n",
    "\n",
    "    context = \"\"\n",
    "\n",
    "    for doc in search_results:\n",
    "        context = (\n",
    "            context + f\"{doc['text']}\\n\\n\"\n",
    "        )  # doc['text'] should contain all the recipe information\n",
    "\n",
    "    prompt = prompt_template.format(question=query, context=context).strip()\n",
    "    return prompt"
   ]
  },
  {
   "cell_type": "code",
   "execution_count": null,
   "id": "7b00a19b",
   "metadata": {},
   "outputs": [],
   "source": [
    "def llm(openai_client, prompt, llm_model=\"gpt-4o-mini\"):\n",
    "    response = openai_client.chat.completions.create(\n",
    "        model=llm_model, messages=[{\"role\": \"user\", \"content\": prompt}]\n",
    "    )\n",
    "\n",
    "    return response.choices[0].message.content"
   ]
  },
  {
   "cell_type": "code",
   "execution_count": null,
   "id": "e42508aa",
   "metadata": {},
   "outputs": [],
   "source": [
    "def rag(query, openai_client, collection_name, llm_model=\"gpt-4o-mini\", limit=5):\n",
    "    search_results = vector_search(collection_name, query, limit)\n",
    "    prompt = build_prompt(query, search_results)\n",
    "    answer = llm(openai_client, prompt, llm_model)\n",
    "    return answer"
   ]
  },
  {
   "cell_type": "code",
   "execution_count": 77,
   "id": "41e55de2",
   "metadata": {},
   "outputs": [
    {
     "name": "stdout",
     "output_type": "stream",
     "text": [
      "Yes, there are several recommended fish recipes. Here are the details:\n",
      "\n",
      "1. **Easy Oven-Baked Cod**\n",
      "   - **Description:** Amazingly quick, fresh, and light - can be made with any type of fish fillet.\n",
      "   - **Ratings:** 4.6 stars (60 ratings)\n",
      "   - **Ready in:** 25 minutes\n",
      "   - **Directions:** Preheat oven to 400°F. Line your pan with aluminum foil and lightly brush with olive oil. Combine parsley, garlic, lemon zest, and coarse salt; chop and combine with breadcrumbs. Brush fillets with olive oil, press into crumb mixture, and place in baking dish crust-side up. Bake for 12-15 minutes, depending on thickness. Serve with lemon wedges.\n",
      "   - **Ingredients:** 1½ cups plain breadcrumbs, ½ cup fresh parsley, 2-3 garlic cloves, zest of 1 lemon, ¾ teaspoon coarse salt, 4 (6-8 ounce) cod fillets, olive oil.\n",
      "\n",
      "2. **Lemon Baked Cod**\n",
      "   - **Description:** Great baked cod recipe.\n",
      "   - **Ratings:** 4.35 stars (209 ratings)\n",
      "   - **Ready in:** 35 minutes\n",
      "   - **Directions:** If fillets are large, cut into pieces. Mix butter and lemon juice. Mix flour, salt, and white pepper in another bowl. Dip fish into butter mixture, coat with flour mixture, and place in an ungreased baking dish. Pour remaining butter mixture over fish, sprinkle with paprika, and bake uncovered at 350°F for 25-30 minutes.\n",
      "   - **Ingredients:** 1 lb cod fish fillet, ¼ cup melted butter or margarine, 2 tablespoons lemon juice, ¼ cup all-purpose flour, ½ teaspoon salt, ⅛ teaspoon white pepper, paprika.\n",
      "\n",
      "3. **Baked Salmon**\n",
      "   - **Description:** This is a great baked salmon recipe for beginners.\n",
      "   - **Ratings:** 4.75 stars (443 ratings)\n",
      "   - **Ready in:** 1 hour\n",
      "   - **Directions:** Prepare marinade by mixing garlic, olive oil, basil, salt, pepper, lemon juice, and parsley. Marinate salmon fillets for about 1 hour. Preheat oven to 375°F, place fillets in aluminum foil with marinade, and bake for 35-45 minutes until flaky.\n",
      "   - **Ingredients:** 2 minced garlic cloves, 6 tablespoons light olive oil, 1 teaspoon dried basil, 1 teaspoon salt, 1 teaspoon ground black pepper, 1 tablespoon lemon juice, 1 tablespoon chopped fresh parsley, 2 (6-ounce) salmon fillets.\n",
      "\n",
      "4. **Sesame Crusted Tuna Steaks**\n",
      "   - **Description:** A flavorful recipe adapted from several others.\n",
      "   - **Ratings:** 4.57 stars (7 ratings)\n",
      "   - **Ready in:** 25 minutes\n",
      "   - **Directions:** Heat sesame oil and stir in green onion and garlic. Add remaining ingredients and reduce by half. Season tuna with salt, pepper, and sesame seeds, sear in a skillet for 2-3 minutes on each side, and serve with sauce.\n",
      "   - **Ingredients:** 4 (6-ounce) tuna steaks, ½ teaspoon salt, 1 teaspoon fresh ground pepper, 2 tablespoons roasted sesame seeds, 2 tablespoons cooking oil, 1 teaspoon sesame oil, 1 tablespoon finely chopped green onion, 1 minced garlic clove, ⅔ cup balsamic vinegar, ¼ cup soy sauce, 1 tablespoon honey. \n",
      "\n",
      "These recipes offer a variety of fish options to try!\n"
     ]
    }
   ],
   "source": [
    "query = \"Are there any recommended fish recipes? Can you give me the details about the recipes as well?\"\n",
    "answer = rag(\n",
    "    query=query,\n",
    "    openai_client=openai_client,\n",
    "    collection_name=\"recipe-rag\",\n",
    "    llm_model=\"gpt-4o-mini\",\n",
    ")\n",
    "print(answer)"
   ]
  },
  {
   "cell_type": "markdown",
   "id": "c492f91d",
   "metadata": {},
   "source": [
    "## Retrieval evaluation"
   ]
  },
  {
   "cell_type": "code",
   "execution_count": null,
   "id": "f7de746b",
   "metadata": {},
   "outputs": [],
   "source": [
    "df_question = pd.read_csv(\"../data/ground-truth-retrievel.csv\")"
   ]
  },
  {
   "cell_type": "code",
   "execution_count": 15,
   "id": "17c053ef",
   "metadata": {},
   "outputs": [
    {
     "data": {
      "application/vnd.microsoft.datawrangler.viewer.v0+json": {
       "columns": [
        {
         "name": "index",
         "rawType": "int64",
         "type": "integer"
        },
        {
         "name": "id",
         "rawType": "int64",
         "type": "integer"
        },
        {
         "name": "question",
         "rawType": "object",
         "type": "string"
        }
       ],
       "ref": "c3a5f0c8-b386-47e7-bbf9-c73b9ae132af",
       "rows": [
        [
         "0",
         "0",
         "What are the main ingredients for the Ground Beef Gyros?"
        ],
        [
         "1",
         "0",
         "How long does it take to cook the Ground Beef Gyros?"
        ],
        [
         "2",
         "0",
         "What kind of sauce is recommended with the Ground Beef Gyros?"
        ],
        [
         "3",
         "0",
         "Can turkey be used instead of beef in Ground Beef Gyros?"
        ],
        [
         "4",
         "0",
         "How is the Ground Beef Gyros rated by those who have tried it?"
        ],
        [
         "5",
         "1",
         "How long does the Lasagna take to cook?"
        ],
        [
         "6",
         "1",
         "What type of cheese does the Lasagna recipe suggest using?"
        ],
        [
         "7",
         "1",
         "Can you use ricotta instead of cottage cheese in this Lasagna?"
        ],
        [
         "8",
         "1",
         "How do you prepare the baking pan for the Lasagna?"
        ],
        [
         "9",
         "1",
         "What is the oven temperature for baking the Lasagna?"
        ],
        [
         "10",
         "2",
         "What is the name of the recipe that claims to be easy to make?"
        ],
        [
         "11",
         "2",
         "How long does it take to cook The Best Easy Beef & Broccoli Stir-Fry?"
        ],
        [
         "12",
         "2",
         "What garnish is optionally suggested for The Best Easy Beef & Broccoli Stir-Fry?"
        ],
        [
         "13",
         "2",
         "What type of steak is recommended for The Best Easy Beef & Broccoli Stir-Fry?"
        ],
        [
         "14",
         "2",
         "How many stars has The Best Easy Beef & Broccoli Stir-Fry been rated?"
        ],
        [
         "15",
         "3",
         "How long does it take to make The Ultimate Greek Salad?"
        ],
        [
         "16",
         "3",
         "What type of olives does The Ultimate Greek Salad recipe use?"
        ],
        [
         "17",
         "3",
         "Can lettuce be included in The Ultimate Greek Salad according to the description?"
        ],
        [
         "18",
         "3",
         "What is the rating for The Ultimate Greek Salad?"
        ],
        [
         "19",
         "3",
         "What kind of cheese is used in The Ultimate Greek Salad?"
        ],
        [
         "20",
         "4",
         "How long does it take to make the Easy Stovetop Macaroni 'n' Cheese?"
        ],
        [
         "21",
         "4",
         "What kind of cheese is used in the Easy Stovetop Macaroni 'n' Cheese?"
        ],
        [
         "22",
         "4",
         "How is the Easy Stovetop Macaroni 'n' Cheese cooked?"
        ],
        [
         "23",
         "4",
         "What is the user rating for the Easy Stovetop Macaroni 'n' Cheese?"
        ],
        [
         "24",
         "4",
         "Do you need to bake the Easy Stovetop Macaroni 'n' Cheese?"
        ],
        [
         "25",
         "5",
         "How long do you need to cook Bev's Spaghetti Sauce?"
        ],
        [
         "26",
         "5",
         "What meat should you use in Bev's Spaghetti Sauce?"
        ],
        [
         "27",
         "5",
         "What type of cheese is suggested for topping Bev's Spaghetti Sauce?"
        ],
        [
         "28",
         "5",
         "How is the flavor of Bev's Spaghetti Sauce described by the creator?"
        ],
        [
         "29",
         "5",
         "What overall rating does Bev's Spaghetti Sauce have?"
        ],
        [
         "30",
         "6",
         "How much oil or shortening is recommended for the Perfect Southern Fried Chicken?"
        ],
        [
         "31",
         "6",
         "What is the total cooking time for the Perfect Southern Fried Chicken?"
        ],
        [
         "32",
         "6",
         "How many pieces is the chicken cut into for the Perfect Southern Fried Chicken?"
        ],
        [
         "33",
         "6",
         "What is the rating for the Perfect Southern Fried Chicken recipe?"
        ],
        [
         "34",
         "6",
         "What is the purpose of covering the chicken at the beginning of the cooking process in the Perfect Southern Fried Chicken?"
        ],
        [
         "35",
         "7",
         "How long does it take to cook Chicken Fried Rice?"
        ],
        [
         "36",
         "7",
         "What kind of meat can be used in Chicken Fried Rice?"
        ],
        [
         "37",
         "7",
         "When should sesame oil be added in the Chicken Fried Rice recipe?"
        ],
        [
         "38",
         "7",
         "What is the rating of the Chicken Fried Rice recipe?"
        ],
        [
         "39",
         "7",
         "What vegetables are included in the Chicken Fried Rice ingredients?"
        ],
        [
         "40",
         "8",
         "How long does it take to cook the Sloppy Joes?"
        ],
        [
         "41",
         "8",
         "What is the main protein ingredient in the Sloppy Joes?"
        ],
        [
         "42",
         "8",
         "What star rating does the Sloppy Joes recipe have?"
        ],
        [
         "43",
         "8",
         "Is mustard necessary in the Sloppy Joes recipe?"
        ],
        [
         "44",
         "8",
         "How are the onions prepared in the Sloppy Joes recipe?"
        ],
        [
         "45",
         "9",
         "How long does it take to cook the Chicken Parmesan?"
        ],
        [
         "46",
         "9",
         "What's the main protein ingredient in the Chicken Parmesan recipe?"
        ],
        [
         "47",
         "9",
         "How is the chicken seasoned in the Chicken Parmesan recipe?"
        ],
        [
         "48",
         "9",
         "What type of cheese is placed on top of the Chicken Parmesan?"
        ],
        [
         "49",
         "9",
         "Is serving spaghetti with the Chicken Parmesan mandatory according to the recipe?"
        ]
       ],
       "shape": {
        "columns": 2,
        "rows": 440
       }
      },
      "text/html": [
       "<div>\n",
       "<style scoped>\n",
       "    .dataframe tbody tr th:only-of-type {\n",
       "        vertical-align: middle;\n",
       "    }\n",
       "\n",
       "    .dataframe tbody tr th {\n",
       "        vertical-align: top;\n",
       "    }\n",
       "\n",
       "    .dataframe thead th {\n",
       "        text-align: right;\n",
       "    }\n",
       "</style>\n",
       "<table border=\"1\" class=\"dataframe\">\n",
       "  <thead>\n",
       "    <tr style=\"text-align: right;\">\n",
       "      <th></th>\n",
       "      <th>id</th>\n",
       "      <th>question</th>\n",
       "    </tr>\n",
       "  </thead>\n",
       "  <tbody>\n",
       "    <tr>\n",
       "      <th>0</th>\n",
       "      <td>0</td>\n",
       "      <td>What are the main ingredients for the Ground B...</td>\n",
       "    </tr>\n",
       "    <tr>\n",
       "      <th>1</th>\n",
       "      <td>0</td>\n",
       "      <td>How long does it take to cook the Ground Beef ...</td>\n",
       "    </tr>\n",
       "    <tr>\n",
       "      <th>2</th>\n",
       "      <td>0</td>\n",
       "      <td>What kind of sauce is recommended with the Gro...</td>\n",
       "    </tr>\n",
       "    <tr>\n",
       "      <th>3</th>\n",
       "      <td>0</td>\n",
       "      <td>Can turkey be used instead of beef in Ground B...</td>\n",
       "    </tr>\n",
       "    <tr>\n",
       "      <th>4</th>\n",
       "      <td>0</td>\n",
       "      <td>How is the Ground Beef Gyros rated by those wh...</td>\n",
       "    </tr>\n",
       "    <tr>\n",
       "      <th>...</th>\n",
       "      <td>...</td>\n",
       "      <td>...</td>\n",
       "    </tr>\n",
       "    <tr>\n",
       "      <th>435</th>\n",
       "      <td>87</td>\n",
       "      <td>What is the rating for the Yakisoba recipe?</td>\n",
       "    </tr>\n",
       "    <tr>\n",
       "      <th>436</th>\n",
       "      <td>87</td>\n",
       "      <td>How long does it take to cook Yakisoba?</td>\n",
       "    </tr>\n",
       "    <tr>\n",
       "      <th>437</th>\n",
       "      <td>87</td>\n",
       "      <td>What type of meat is used in the Yakisoba recipe?</td>\n",
       "    </tr>\n",
       "    <tr>\n",
       "      <th>438</th>\n",
       "      <td>87</td>\n",
       "      <td>Does the Yakisoba recipe include soy sauce?</td>\n",
       "    </tr>\n",
       "    <tr>\n",
       "      <th>439</th>\n",
       "      <td>87</td>\n",
       "      <td>Are scallions optional in the Yakisoba recipe?</td>\n",
       "    </tr>\n",
       "  </tbody>\n",
       "</table>\n",
       "<p>440 rows × 2 columns</p>\n",
       "</div>"
      ],
      "text/plain": [
       "     id                                           question\n",
       "0     0  What are the main ingredients for the Ground B...\n",
       "1     0  How long does it take to cook the Ground Beef ...\n",
       "2     0  What kind of sauce is recommended with the Gro...\n",
       "3     0  Can turkey be used instead of beef in Ground B...\n",
       "4     0  How is the Ground Beef Gyros rated by those wh...\n",
       "..   ..                                                ...\n",
       "435  87        What is the rating for the Yakisoba recipe?\n",
       "436  87            How long does it take to cook Yakisoba?\n",
       "437  87  What type of meat is used in the Yakisoba recipe?\n",
       "438  87        Does the Yakisoba recipe include soy sauce?\n",
       "439  87     Are scallions optional in the Yakisoba recipe?\n",
       "\n",
       "[440 rows x 2 columns]"
      ]
     },
     "execution_count": 15,
     "metadata": {},
     "output_type": "execute_result"
    }
   ],
   "source": [
    "df_question"
   ]
  },
  {
   "cell_type": "code",
   "execution_count": null,
   "id": "9d1b4275",
   "metadata": {},
   "outputs": [],
   "source": [
    "ground_truth = df_question.to_dict(orient=\"records\")"
   ]
  },
  {
   "cell_type": "markdown",
   "id": "0823f631",
   "metadata": {},
   "source": [
    "### Metric calculation and evaluation"
   ]
  },
  {
   "cell_type": "code",
   "execution_count": null,
   "id": "d05f76da",
   "metadata": {},
   "outputs": [],
   "source": [
    "# metric calculation\n",
    "def hit_rate(relevance_total):\n",
    "    cnt = 0\n",
    "\n",
    "    for line in relevance_total:\n",
    "        if True in line:\n",
    "            cnt = cnt + 1\n",
    "\n",
    "    return cnt / len(relevance_total)\n",
    "\n",
    "\n",
    "def mrr(relevance_total):\n",
    "    total_score = 0.0\n",
    "\n",
    "    for line in relevance_total:\n",
    "        for rank in range(len(line)):\n",
    "            if line[rank]:\n",
    "                total_score = total_score + 1 / (rank + 1)\n",
    "\n",
    "    return total_score / len(relevance_total)\n",
    "\n",
    "\n",
    "def evaluate(ground_truth, search_function):\n",
    "    relevance_total = []\n",
    "\n",
    "    for q in tqdm(ground_truth):\n",
    "        doc_id = q[\"id\"]\n",
    "        results = search_function(q)\n",
    "        relevance = [d[\"recipe_id\"] == doc_id for d in results]\n",
    "        relevance_total.append(relevance)\n",
    "\n",
    "    return {\n",
    "        \"hit_rate\": hit_rate(relevance_total),\n",
    "        \"mrr\": mrr(relevance_total),\n",
    "    }"
   ]
  },
  {
   "cell_type": "markdown",
   "id": "d2be1d9e",
   "metadata": {},
   "source": [
    "### Qdrant sparse vector search"
   ]
  },
  {
   "cell_type": "code",
   "execution_count": null,
   "id": "af06c8ae",
   "metadata": {},
   "outputs": [
    {
     "data": {
      "text/plain": [
       "True"
      ]
     },
     "execution_count": 49,
     "metadata": {},
     "output_type": "execute_result"
    }
   ],
   "source": [
    "# qdrant sparse vector search\n",
    "collection_name = \"recipe-rag-sparse\"\n",
    "if qdrant_client.collection_exists(collection_name=collection_name):\n",
    "    qdrant_client.delete_collection(collection_name=collection_name)\n",
    "\n",
    "qdrant_client.create_collection(\n",
    "    collection_name=collection_name,\n",
    "    sparse_vectors_config={\n",
    "        \"bm25\": models.SparseVectorParams(\n",
    "            modifier=models.Modifier.IDF,\n",
    "        )\n",
    "    },\n",
    ")"
   ]
  },
  {
   "cell_type": "code",
   "execution_count": null,
   "id": "3a8387de",
   "metadata": {},
   "outputs": [
    {
     "data": {
      "application/vnd.jupyter.widget-view+json": {
       "model_id": "717a95958bf94cc79292a86fbf3439b8",
       "version_major": 2,
       "version_minor": 0
      },
      "text/plain": [
       "  0%|          | 0/88 [00:00<?, ?it/s]"
      ]
     },
     "metadata": {},
     "output_type": "display_data"
    },
    {
     "data": {
      "text/plain": [
       "UpdateResult(operation_id=0, status=<UpdateStatus.COMPLETED: 'completed'>)"
      ]
     },
     "execution_count": 50,
     "metadata": {},
     "output_type": "execute_result"
    }
   ],
   "source": [
    "# construct points\n",
    "points = []\n",
    "\n",
    "for recipe in tqdm(recipes_raw):\n",
    "    point = models.PointStruct(\n",
    "        id=recipe[\"recipe_id\"],\n",
    "        vector={\n",
    "            \"bm25\": models.Document(\n",
    "                text=recipe[\"text\"],\n",
    "                model=\"Qdrant/bm25\",\n",
    "            ),\n",
    "        },\n",
    "        payload={\n",
    "            \"recipe_id\": recipe[\"recipe_id\"],\n",
    "            \"text\": recipe[\"text\"],\n",
    "            \"recipe_name\": recipe[\"recipe_name\"],\n",
    "            \"recipe_link\": recipe[\"recipe_link\"],\n",
    "            \"recipe_description\": recipe[\"recipe_description\"],\n",
    "            \"ratings\": recipe[\"ratings\"],\n",
    "            \"ready-in\": recipe[\"ready-in\"],\n",
    "            \"directions\": recipe[\"directions\"],\n",
    "            \"ingredients\": recipe[\"ingredients\"],\n",
    "        },\n",
    "    )\n",
    "    points.append(point)\n",
    "\n",
    "# upsert into DB\n",
    "qdrant_client.upsert(collection_name=collection_name, points=points)"
   ]
  },
  {
   "cell_type": "code",
   "execution_count": null,
   "id": "d083201c",
   "metadata": {},
   "outputs": [],
   "source": [
    "def qdrant_sparse_search(query, collection_name, limit=5) -> list[models.ScoredPoint]:\n",
    "    query_points = qdrant_client.query_points(\n",
    "        collection_name=collection_name,\n",
    "        query=models.Document(\n",
    "            text=query,\n",
    "            model=\"Qdrant/bm25\",\n",
    "        ),\n",
    "        using=\"bm25\",\n",
    "        limit=limit,\n",
    "        with_payload=True,\n",
    "    )\n",
    "\n",
    "    results = []\n",
    "    for point in query_points.points:\n",
    "        results.append(point.payload)\n",
    "    return results"
   ]
  },
  {
   "cell_type": "code",
   "execution_count": null,
   "id": "477ce6b8",
   "metadata": {},
   "outputs": [
    {
     "data": {
      "application/vnd.jupyter.widget-view+json": {
       "model_id": "e760226a6464445282de686a91d5464d",
       "version_major": 2,
       "version_minor": 0
      },
      "text/plain": [
       "  0%|          | 0/440 [00:00<?, ?it/s]"
      ]
     },
     "metadata": {},
     "output_type": "display_data"
    },
    {
     "data": {
      "text/plain": [
       "{'hit_rate': 0.9954545454545455, 'mrr': 0.9595129870129869}"
      ]
     },
     "execution_count": 52,
     "metadata": {},
     "output_type": "execute_result"
    }
   ],
   "source": [
    "evaluate(\n",
    "    ground_truth,\n",
    "    lambda q: qdrant_sparse_search(\n",
    "        q[\"question\"], collection_name=\"recipe-rag-sparse\", limit=10\n",
    "    ),\n",
    ")"
   ]
  },
  {
   "cell_type": "markdown",
   "id": "f4f72dde",
   "metadata": {},
   "source": [
    "### Qdrant vector search"
   ]
  },
  {
   "cell_type": "code",
   "execution_count": null,
   "id": "9c746c2a",
   "metadata": {},
   "outputs": [],
   "source": [
    "def qdrant_search(query, collection_name, limit=5):\n",
    "    query_points = qdrant_client.query_points(\n",
    "        collection_name=collection_name,\n",
    "        query=models.Document(  # embed the query text locally with \"jinaai/jina-embeddings-v2-small-en\"\n",
    "            text=query, model=model_handle\n",
    "        ),\n",
    "        limit=limit,  # top closest matches\n",
    "        with_payload=True,  # to get metadata in the results\n",
    "    )\n",
    "\n",
    "    results = []\n",
    "    for point in query_points.points:\n",
    "        results.append(point.payload)\n",
    "    return results"
   ]
  },
  {
   "cell_type": "code",
   "execution_count": null,
   "id": "0038564a",
   "metadata": {},
   "outputs": [
    {
     "data": {
      "application/vnd.jupyter.widget-view+json": {
       "model_id": "7235b195db81432c839c63c5de8ce975",
       "version_major": 2,
       "version_minor": 0
      },
      "text/plain": [
       "  0%|          | 0/440 [00:00<?, ?it/s]"
      ]
     },
     "metadata": {},
     "output_type": "display_data"
    },
    {
     "data": {
      "text/plain": [
       "{'hit_rate': 0.9886363636363636, 'mrr': 0.9756439393939393}"
      ]
     },
     "execution_count": 47,
     "metadata": {},
     "output_type": "execute_result"
    }
   ],
   "source": [
    "evaluate(\n",
    "    ground_truth,\n",
    "    lambda q: qdrant_search(q[\"question\"], collection_name=\"recipe-rag\", limit=10),\n",
    ")"
   ]
  },
  {
   "cell_type": "markdown",
   "id": "cc5402c1",
   "metadata": {},
   "source": [
    "### Qdrant hybrid search"
   ]
  },
  {
   "cell_type": "code",
   "execution_count": null,
   "id": "e5c3406c",
   "metadata": {},
   "outputs": [
    {
     "data": {
      "text/plain": [
       "True"
      ]
     },
     "execution_count": 53,
     "metadata": {},
     "output_type": "execute_result"
    }
   ],
   "source": [
    "# hybrid search with Qdrant\n",
    "collection_name = \"recipe-rag-hybrid\"\n",
    "if qdrant_client.collection_exists(collection_name):\n",
    "    qdrant_client.delete_collection(collection_name=collection_name)\n",
    "\n",
    "qdrant_client.create_collection(\n",
    "    collection_name=collection_name,\n",
    "    vectors_config={\n",
    "        # Named dense vector for jinaai/jina-embeddings-v2-small-en\n",
    "        \"jina-small\": models.VectorParams(\n",
    "            size=512,\n",
    "            distance=models.Distance.COSINE,\n",
    "        ),\n",
    "    },\n",
    "    sparse_vectors_config={\n",
    "        \"bm25\": models.SparseVectorParams(\n",
    "            modifier=models.Modifier.IDF,\n",
    "        )\n",
    "    },\n",
    ")"
   ]
  },
  {
   "cell_type": "code",
   "execution_count": null,
   "id": "6d80f398",
   "metadata": {},
   "outputs": [
    {
     "data": {
      "application/vnd.jupyter.widget-view+json": {
       "model_id": "ba64fd140082484980c3afb83972cddd",
       "version_major": 2,
       "version_minor": 0
      },
      "text/plain": [
       "  0%|          | 0/88 [00:00<?, ?it/s]"
      ]
     },
     "metadata": {},
     "output_type": "display_data"
    },
    {
     "data": {
      "text/plain": [
       "UpdateResult(operation_id=0, status=<UpdateStatus.COMPLETED: 'completed'>)"
      ]
     },
     "execution_count": 54,
     "metadata": {},
     "output_type": "execute_result"
    }
   ],
   "source": [
    "# construct points\n",
    "points = []\n",
    "\n",
    "for recipe in tqdm(recipes_raw):\n",
    "    point = models.PointStruct(\n",
    "        id=recipe[\"recipe_id\"],\n",
    "        vector={\n",
    "            \"jina-small\": models.Document(\n",
    "                text=recipe[\"text\"],\n",
    "                model=\"jinaai/jina-embeddings-v2-small-en\",\n",
    "            ),\n",
    "            \"bm25\": models.Document(\n",
    "                text=recipe[\"text\"],\n",
    "                model=\"Qdrant/bm25\",\n",
    "            ),\n",
    "        },\n",
    "        payload={\n",
    "            \"recipe_id\": recipe[\"recipe_id\"],\n",
    "            \"text\": recipe[\"text\"],\n",
    "            \"recipe_name\": recipe[\"recipe_name\"],\n",
    "            \"recipe_link\": recipe[\"recipe_link\"],\n",
    "            \"recipe_description\": recipe[\"recipe_description\"],\n",
    "            \"ratings\": recipe[\"ratings\"],\n",
    "            \"ready-in\": recipe[\"ready-in\"],\n",
    "            \"directions\": recipe[\"directions\"],\n",
    "            \"ingredients\": recipe[\"ingredients\"],\n",
    "        },\n",
    "    )\n",
    "    points.append(point)\n",
    "\n",
    "# upsert into DB\n",
    "qdrant_client.upsert(collection_name=collection_name, points=points)"
   ]
  },
  {
   "cell_type": "code",
   "execution_count": 57,
   "id": "f0a218f3",
   "metadata": {},
   "outputs": [],
   "source": [
    "def qdrant_rrf_search(query, collection_name, limit=5) -> list[models.ScoredPoint]:\n",
    "    query_points = qdrant_client.query_points(\n",
    "        collection_name=collection_name,\n",
    "        prefetch=[\n",
    "            models.Prefetch(\n",
    "                query=models.Document(\n",
    "                    text=query,\n",
    "                    model=\"jinaai/jina-embeddings-v2-small-en\",\n",
    "                ),\n",
    "                using=\"jina-small\",\n",
    "                limit=(5 * limit),\n",
    "            ),\n",
    "            models.Prefetch(\n",
    "                query=models.Document(\n",
    "                    text=query,\n",
    "                    model=\"Qdrant/bm25\",\n",
    "                ),\n",
    "                using=\"bm25\",\n",
    "                limit=(5 * limit),\n",
    "            ),\n",
    "        ],\n",
    "        # Fusion query enables fusion on the prefetched results\n",
    "        query=models.FusionQuery(fusion=models.Fusion.RRF),\n",
    "        with_payload=True,\n",
    "    )\n",
    "\n",
    "    results = []\n",
    "    for point in query_points.points:\n",
    "        results.append(point.payload)\n",
    "    return results"
   ]
  },
  {
   "cell_type": "code",
   "execution_count": null,
   "id": "1406765d",
   "metadata": {},
   "outputs": [
    {
     "data": {
      "application/vnd.jupyter.widget-view+json": {
       "model_id": "ca57c4b16d77482ebf9b15dc63845875",
       "version_major": 2,
       "version_minor": 0
      },
      "text/plain": [
       "  0%|          | 0/440 [00:00<?, ?it/s]"
      ]
     },
     "metadata": {},
     "output_type": "display_data"
    },
    {
     "data": {
      "text/plain": [
       "{'hit_rate': 0.9931818181818182, 'mrr': 0.9742514430014431}"
      ]
     },
     "execution_count": 58,
     "metadata": {},
     "output_type": "execute_result"
    }
   ],
   "source": [
    "evaluate(\n",
    "    ground_truth,\n",
    "    lambda q: qdrant_rrf_search(\n",
    "        q[\"question\"], collection_name=\"recipe-rag-hybrid\", limit=10\n",
    "    ),\n",
    ")"
   ]
  },
  {
   "cell_type": "markdown",
   "id": "49330683",
   "metadata": {},
   "source": [
    "rrf search seems to have better results."
   ]
  },
  {
   "cell_type": "markdown",
   "id": "7a26185e",
   "metadata": {},
   "source": [
    "# RAG evaluation"
   ]
  },
  {
   "cell_type": "code",
   "execution_count": 59,
   "id": "f23d511f",
   "metadata": {},
   "outputs": [],
   "source": [
    "prompt_template = \"\"\"\n",
    "You are an expert evaluator for a RAG system.\n",
    "Your task is to analyze the relevance of the generated answer to the given question.\n",
    "Based on the relevance of the generated answer, you will classify it\n",
    "as \"NON_RELEVANT\", \"PARTLY_RELEVANT\", or \"RELEVANT\".\n",
    "\n",
    "Here is the data for evaluation:\n",
    "\n",
    "Question: {question}\n",
    "Generated Answer: {answer_llm}\n",
    "\n",
    "Please analyze the content and context of the generated answer in relation to the question\n",
    "and provide your evaluation in parsable JSON without using code blocks:\n",
    "\n",
    "{{\n",
    "  \"Relevance\": \"NON_RELEVANT\" | \"PARTLY_RELEVANT\" | \"RELEVANT\",\n",
    "  \"Explanation\": \"[Provide a brief explanation for your evaluation]\"\n",
    "}}\n",
    "\"\"\".strip()"
   ]
  },
  {
   "cell_type": "code",
   "execution_count": null,
   "id": "f9eb9c7a",
   "metadata": {},
   "outputs": [],
   "source": [
    "record = ground_truth[0]\n",
    "question = record[\"question\"]\n",
    "answer_llm = rag(question, openai_client, \"recipe-rag\", \"gpt-4o-mini\")"
   ]
  },
  {
   "cell_type": "code",
   "execution_count": 64,
   "id": "59e15827",
   "metadata": {},
   "outputs": [
    {
     "name": "stdout",
     "output_type": "stream",
     "text": [
      "You are an expert evaluator for a RAG system.\n",
      "Your task is to analyze the relevance of the generated answer to the given question.\n",
      "Based on the relevance of the generated answer, you will classify it\n",
      "as \"NON_RELEVANT\", \"PARTLY_RELEVANT\", or \"RELEVANT\".\n",
      "\n",
      "Here is the data for evaluation:\n",
      "\n",
      "Question: What are the main ingredients for the Ground Beef Gyros?\n",
      "Generated Answer: The main ingredients for the Ground Beef Gyros are:\n",
      "\n",
      "- 1 lb lean ground beef\n",
      "- 1 (8 ounce) container plain yogurt\n",
      "- 1/3 cup chopped seeded cucumber\n",
      "- 2 tablespoons finely chopped onions\n",
      "- 1 garlic clove, minced\n",
      "- 1 teaspoon sugar\n",
      "- 1 1/2 teaspoons dried oregano\n",
      "- 1 teaspoon garlic powder\n",
      "- 1 teaspoon onion powder\n",
      "- 1 teaspoon salt (optional)\n",
      "- 3/4 teaspoon pepper\n",
      "- 4 pita breads\n",
      "- 3 cups shredded lettuce\n",
      "- 1 large tomato, chopped\n",
      "- 1 small onion, chopped\n",
      "\n",
      "Please analyze the content and context of the generated answer in relation to the question\n",
      "and provide your evaluation in parsable JSON without using code blocks:\n",
      "\n",
      "{\n",
      "  \"Relevance\": \"NON_RELEVANT\" | \"PARTLY_RELEVANT\" | \"RELEVANT\",\n",
      "  \"Explanation\": \"[Provide a brief explanation for your evaluation]\"\n",
      "}\n"
     ]
    }
   ],
   "source": [
    "prompt = prompt_template.format(question=question, answer_llm=answer_llm)\n",
    "print(prompt)"
   ]
  },
  {
   "cell_type": "code",
   "execution_count": null,
   "id": "5975539e",
   "metadata": {},
   "outputs": [
    {
     "data": {
      "application/vnd.jupyter.widget-view+json": {
       "model_id": "c11a1b185ad7499da8c4d1df4e8b538e",
       "version_major": 2,
       "version_minor": 0
      },
      "text/plain": [
       "  0%|          | 0/440 [00:00<?, ?it/s]"
      ]
     },
     "metadata": {},
     "output_type": "display_data"
    }
   ],
   "source": [
    "import json\n",
    "\n",
    "evaluations = []\n",
    "\n",
    "for record in tqdm(ground_truth):\n",
    "    question = record[\"question\"]\n",
    "    answer_llm = rag(\n",
    "        query=question, openai_client=openai_client, collection_name=\"recipe-rag\"\n",
    "    )\n",
    "\n",
    "    prompt = prompt_template.format(question=question, answer_llm=answer_llm)\n",
    "\n",
    "    evaluation = llm(openai_client, prompt)\n",
    "    evaluation = json.loads(evaluation)\n",
    "\n",
    "    evaluations.append((record, answer_llm, evaluation))\n"
   ]
  },
  {
   "cell_type": "code",
   "execution_count": null,
   "id": "ad06a8eb",
   "metadata": {},
   "outputs": [],
   "source": [
    "df_eval = pd.DataFrame(evaluations, columns=[\"record\", \"answer\", \"evaluation\"])\n",
    "\n",
    "df_eval[\"id\"] = df_eval.record.apply(lambda d: d[\"id\"])\n",
    "df_eval[\"question\"] = df_eval.record.apply(lambda d: d[\"question\"])\n",
    "\n",
    "df_eval[\"relevance\"] = df_eval.evaluation.apply(lambda d: d[\"Relevance\"])\n",
    "df_eval[\"explanation\"] = df_eval.evaluation.apply(lambda d: d[\"Explanation\"])\n",
    "\n",
    "del df_eval[\"record\"]\n",
    "del df_eval[\"evaluation\"]"
   ]
  },
  {
   "cell_type": "code",
   "execution_count": 99,
   "id": "2c0836d6",
   "metadata": {},
   "outputs": [
    {
     "data": {
      "application/vnd.microsoft.datawrangler.viewer.v0+json": {
       "columns": [
        {
         "name": "index",
         "rawType": "int64",
         "type": "integer"
        },
        {
         "name": "answer",
         "rawType": "object",
         "type": "string"
        },
        {
         "name": "id",
         "rawType": "int64",
         "type": "integer"
        },
        {
         "name": "question",
         "rawType": "object",
         "type": "string"
        },
        {
         "name": "relevance",
         "rawType": "object",
         "type": "string"
        },
        {
         "name": "explanation",
         "rawType": "object",
         "type": "string"
        }
       ],
       "ref": "b2122ed1-38a0-4d6f-b68c-ee7f692779c5",
       "rows": [
        [
         "0",
         "The main ingredients for the Ground Beef Gyros are:\n\n- 1 lb lean ground beef\n- 1 (8 ounce) container plain yogurt\n- 1/3 cup chopped seeded cucumber\n- 2 tablespoons finely chopped onions\n- 1 garlic clove, minced\n- 1 teaspoon sugar\n- 1 1/2 teaspoons dried oregano\n- 1 teaspoon garlic powder\n- 1 teaspoon onion powder\n- 1 teaspoon salt (optional)\n- 3/4 teaspoon pepper\n- 4 pita breads\n- 3 cups shredded lettuce\n- 1 large tomato, chopped\n- 1 small onion, chopped",
         "0",
         "What are the main ingredients for the Ground Beef Gyros?",
         "RELEVANT",
         "The generated answer provides a comprehensive list of ingredients specifically for Ground Beef Gyros, directly addressing the question asked."
        ],
        [
         "1",
         "It takes 22 minutes to cook the Ground Beef Gyros.",
         "0",
         "How long does it take to cook the Ground Beef Gyros?",
         "RELEVANT",
         "The generated answer directly addresses the question by providing a specific cooking time (22 minutes) for Ground Beef Gyros, which is precisely what the question is asking for."
        ],
        [
         "2",
         "The recommended sauce with the Ground Beef Gyros is yogurt sauce.",
         "0",
         "What kind of sauce is recommended with the Ground Beef Gyros?",
         "RELEVANT",
         "The generated answer directly addresses the question by providing the specific sauce that is recommended to accompany Ground Beef Gyros, which is yogurt sauce. This is directly pertinent information."
        ],
        [
         "3",
         "Yes, turkey can be used instead of beef in Ground Beef Gyros, as the recipe itself mentions \"I use ground turkey.\"",
         "0",
         "Can turkey be used instead of beef in Ground Beef Gyros?",
         "RELEVANT",
         "The generated answer directly addresses the question by confirming that turkey can be used instead of beef in Ground Beef Gyros and provides a reference to the recipe that supports this information."
        ],
        [
         "4",
         "The Ground Beef Gyros is rated 4.44 stars based on 259 ratings.",
         "0",
         "How is the Ground Beef Gyros rated by those who have tried it?",
         "RELEVANT",
         "The generated answer directly addresses the question by providing a specific rating of the Ground Beef Gyros, which is precisely what the question asks for."
        ],
        [
         "5",
         "The Lasagna takes 40-60 minutes to cook in the oven.",
         "1",
         "How long does the Lasagna take to cook?",
         "RELEVANT",
         "The generated answer directly provides the cooking time for lasagna, which is the exact information requested in the question."
        ],
        [
         "6",
         "The Lasagna recipe suggests using cottage cheese, but you can easily substitute it with ricotta cheese.",
         "1",
         "What type of cheese does the Lasagna recipe suggest using?",
         "RELEVANT",
         "The generated answer directly addresses the question by identifying cottage cheese as the suggested cheese for the Lasagna recipe and also mentions an acceptable substitution, which adds useful information."
        ],
        [
         "7",
         "Yes, you can use ricotta instead of cottage cheese in this lasagna, as the recipe states that you can easily substitute ricotta.",
         "1",
         "Can you use ricotta instead of cottage cheese in this Lasagna?",
         "RELEVANT",
         "The generated answer directly addresses the question by confirming that ricotta can be used as a substitute for cottage cheese in lasagna, which aligns perfectly with the inquiry."
        ],
        [
         "8",
         "To prepare the baking pan for the Lasagna, spray a 13 x 9\" baking pan with cooking spray.",
         "1",
         "How do you prepare the baking pan for the Lasagna?",
         "RELEVANT",
         "The generated answer directly addresses the question by providing a specific method for preparing the baking pan for lasagna, which involves using cooking spray on a 13 x 9-inch baking pan."
        ],
        [
         "9",
         "The oven temperature for baking the Lasagna is 375°F.",
         "1",
         "What is the oven temperature for baking the Lasagna?",
         "RELEVANT",
         "The generated answer directly addresses the question by providing the specific oven temperature needed for baking lasagna, which is 375°F. This information is exactly what was asked for."
        ],
        [
         "10",
         "The name of the recipe that claims to be easy to make is \"Frank and Potato Bake.\"",
         "2",
         "What is the name of the recipe that claims to be easy to make?",
         "RELEVANT",
         "The generated answer directly responds to the question by providing the specific name of the recipe ('Frank and Potato Bake') that claims to be easy to make."
        ],
        [
         "11",
         "The Best Easy Beef & Broccoli Stir-Fry takes 25 minutes to cook.",
         "2",
         "How long does it take to cook The Best Easy Beef & Broccoli Stir-Fry?",
         "RELEVANT",
         "The generated answer directly addresses the question by providing the specific cooking time of 25 minutes for The Best Easy Beef & Broccoli Stir-Fry, making it highly relevant."
        ],
        [
         "12",
         "The optional garnish suggested for The Best Easy Beef & Broccoli Stir-Fry is toasted sesame seeds.",
         "2",
         "What garnish is optionally suggested for The Best Easy Beef & Broccoli Stir-Fry?",
         "RELEVANT",
         "The generated answer directly addresses the question by providing the specific optional garnish that is suggested for The Best Easy Beef & Broccoli Stir-Fry, which is toasted sesame seeds."
        ],
        [
         "13",
         "The recommended type of steak for The Best Easy Beef & Broccoli Stir-Fry is charcoal chuck steak or boneless round steak.",
         "2",
         "What type of steak is recommended for The Best Easy Beef & Broccoli Stir-Fry?",
         "RELEVANT",
         "The generated answer directly addresses the question by specifying the recommended types of steak for the recipe mentioned in the question, making it relevant to the inquiry."
        ],
        [
         "14",
         "The Best Easy Beef & Broccoli Stir-Fry has been rated 4.65 stars.",
         "2",
         "How many stars has The Best Easy Beef & Broccoli Stir-Fry been rated?",
         "RELEVANT",
         "The generated answer provides a specific rating of 4.65 stars for The Best Easy Beef & Broccoli Stir-Fry, directly addressing the question about how many stars the dish has been rated."
        ],
        [
         "15",
         "It takes 15 minutes to make The Ultimate Greek Salad.",
         "3",
         "How long does it take to make The Ultimate Greek Salad?",
         "RELEVANT",
         "The generated answer directly addresses the question by providing a specific time frame (15 minutes) for making The Ultimate Greek Salad, which is the information being asked for."
        ],
        [
         "16",
         "The Ultimate Greek Salad recipe uses kalamata olives.",
         "3",
         "What type of olives does The Ultimate Greek Salad recipe use?",
         "RELEVANT",
         "The generated answer directly addresses the question by specifying that kalamata olives are used in The Ultimate Greek Salad recipe, which is exactly what the question is asking for."
        ],
        [
         "17",
         "Yes, lettuce can be included in The Ultimate Greek Salad. The description mentions that \"lettuce can very much be a part of any Greek salad - if you want it to,\" and it specifies that the recipe uses lettuce, particularly Romaine.",
         "3",
         "Can lettuce be included in The Ultimate Greek Salad according to the description?",
         "RELEVANT",
         "The generated answer directly addresses the question by confirming that lettuce can be included in The Ultimate Greek Salad and provides a justification from the description, making it fully relevant to the inquiry."
        ],
        [
         "18",
         "The Ultimate Greek Salad has a rating of 4.88 stars based on 132 ratings.",
         "3",
         "What is the rating for The Ultimate Greek Salad?",
         "RELEVANT",
         "The generated answer directly responds to the question by providing the specific rating for The Ultimate Greek Salad, which is what was asked."
        ],
        [
         "19",
         "The cheese used in The Ultimate Greek Salad is crumbled feta cheese.",
         "3",
         "What kind of cheese is used in The Ultimate Greek Salad?",
         "RELEVANT",
         "The generated answer directly addresses the question by stating that crumbled feta cheese is used in The Ultimate Greek Salad, which is pertinent information."
        ],
        [
         "20",
         "It takes 30 minutes to make the Easy Stovetop Macaroni 'n' Cheese.",
         "4",
         "How long does it take to make the Easy Stovetop Macaroni 'n' Cheese?",
         "RELEVANT",
         "The generated answer directly addresses the question by providing the specific time it takes to make the Easy Stovetop Macaroni 'n' Cheese, which is the information requested."
        ],
        [
         "21",
         "The kind of cheese used in the Easy Stovetop Macaroni 'n' Cheese is shredded cheddar cheese.",
         "4",
         "What kind of cheese is used in the Easy Stovetop Macaroni 'n' Cheese?",
         "RELEVANT",
         "The generated answer directly addresses the question by specifying that shredded cheddar cheese is used in the Easy Stovetop Macaroni 'n' Cheese, which is exactly what the question asks for."
        ],
        [
         "22",
         "The Easy Stovetop Macaroni 'n' Cheese is cooked by first boiling the macaroni according to the package directions. In a medium saucepan, butter is melted over medium heat, and then flour is stirred in to form a roux. After cooking the roux for 3-5 minutes while stirring constantly, salt and pepper are added. Milk is slowly incorporated, stirring well after each addition until the mixture is bubbly. Cheese is then added slowly until fully melted. The drained macaroni is combined with the cheese sauce and stirred to coat.",
         "4",
         "How is the Easy Stovetop Macaroni 'n' Cheese cooked?",
         "RELEVANT",
         "The generated answer provides a clear and detailed description of the cooking process for Easy Stovetop Macaroni 'n' Cheese, addressing the question directly and thoroughly."
        ],
        [
         "23",
         "The user rating for the Easy Stovetop Macaroni 'n' Cheese is 4.48 stars.",
         "4",
         "What is the user rating for the Easy Stovetop Macaroni 'n' Cheese?",
         "RELEVANT",
         "The generated answer directly addresses the question by providing the specific user rating for the Easy Stovetop Macaroni 'n' Cheese, which is exactly what was asked."
        ],
        [
         "24",
         "No, you do not need to bake the Easy Stovetop Macaroni 'n' Cheese; it requires no baking.",
         "4",
         "Do you need to bake the Easy Stovetop Macaroni 'n' Cheese?",
         "RELEVANT",
         "The generated answer directly addresses the question by clearly stating that baking is not required for the Easy Stovetop Macaroni 'n' Cheese, providing the necessary information."
        ],
        [
         "25",
         "You need to cook Bev's Spaghetti Sauce for 1 hour and 30 minutes.",
         "5",
         "How long do you need to cook Bev's Spaghetti Sauce?",
         "RELEVANT",
         "The generated answer directly provides the cooking time for Bev's Spaghetti Sauce, which directly addresses the question asked."
        ],
        [
         "26",
         "For Bev's Spaghetti Sauce, you should use 1 1/2 lbs of ground beef.",
         "5",
         "What meat should you use in Bev's Spaghetti Sauce?",
         "RELEVANT",
         "The generated answer directly addresses the question by specifying that ground beef should be used in Bev's Spaghetti Sauce, which is the required information."
        ],
        [
         "27",
         "The type of cheese suggested for topping Bev's Spaghetti Sauce is Parmesan cheese, freshly grated.",
         "5",
         "What type of cheese is suggested for topping Bev's Spaghetti Sauce?",
         "RELEVANT",
         "The generated answer specifically identifies Parmesan cheese as the suggested topping for Bev's Spaghetti Sauce, directly addressing the question."
        ],
        [
         "28",
         "The flavor of Bev's Spaghetti Sauce is described by the creator as one that is highly requested by their family, indicating it is well-loved and enjoyable. The creator hopes that other families will enjoy it just as much as theirs does.",
         "5",
         "How is the flavor of Bev's Spaghetti Sauce described by the creator?",
         "RELEVANT",
         "The generated answer directly addresses the flavor of Bev's Spaghetti Sauce by indicating that it is well-loved and enjoyable, as described by the creator. It captures the essence of the creator's opinion and emotion regarding the sauce's flavor, fulfilling the requirements of the question."
        ],
        [
         "29",
         "Bev's Spaghetti Sauce has an overall rating of 4.77 stars based on 374 ratings.",
         "5",
         "What overall rating does Bev's Spaghetti Sauce have?",
         "RELEVANT",
         "The generated answer directly addresses the question by providing the overall rating of Bev's Spaghetti Sauce, which is explicitly mentioned as 4.77 stars based on 374 ratings."
        ],
        [
         "30",
         "The recipe for Perfect Southern Fried Chicken recommends using a shallow layer of vegetable oil or shortening for frying, but it does not specify an exact amount.",
         "6",
         "How much oil or shortening is recommended for the Perfect Southern Fried Chicken?",
         "PARTLY_RELEVANT",
         "The generated answer provides information about the type of fat (vegetable oil or shortening) to use for frying the chicken and mentions that an exact amount is not specified. However, it does not give a specific quantity, which is what the question directly asked for."
        ],
        [
         "31",
         "The total cooking time for the Perfect Southern Fried Chicken is 2 hours and 35 minutes.",
         "6",
         "What is the total cooking time for the Perfect Southern Fried Chicken?",
         "RELEVANT",
         "The generated answer directly addresses the question by providing the specific total cooking time for the Perfect Southern Fried Chicken, which is exactly what was asked."
        ],
        [
         "32",
         "The chicken for the Perfect Southern Fried Chicken is cut into 10 pieces (2 legs, 2 thighs, 2 wings, 4 breast).",
         "6",
         "How many pieces is the chicken cut into for the Perfect Southern Fried Chicken?",
         "RELEVANT",
         "The generated answer directly addresses the question by stating the number of pieces the chicken is cut into (10 pieces) and specifies the breakdown of those pieces, which is exactly what the question inquires about."
        ],
        [
         "33",
         "The rating for the Perfect Southern Fried Chicken recipe is 4.7 stars.",
         "6",
         "What is the rating for the Perfect Southern Fried Chicken recipe?",
         "RELEVANT",
         "The generated answer directly addresses the question by providing the specific rating for the Perfect Southern Fried Chicken recipe, making it fully relevant."
        ],
        [
         "34",
         "The purpose of covering the chicken at the beginning of the cooking process in the Perfect Southern Fried Chicken is to start the cooking process inside the chicken. This is followed by uncovering it during the last part of the cooking time to achieve a nice, crispy, and golden brown exterior.",
         "6",
         "What is the purpose of covering the chicken at the beginning of the cooking process in the Perfect Southern Fried Chicken?",
         "RELEVANT",
         "The generated answer directly addresses the question by explaining the purpose of covering the chicken during the cooking process, highlighting that it helps to cook the chicken internally, and it also mentions the final step of uncovering for a crispy exterior, which is relevant to the overall cooking method."
        ],
        [
         "35",
         "It takes 28 minutes to cook Chicken Fried Rice.",
         "7",
         "How long does it take to cook Chicken Fried Rice?",
         "RELEVANT",
         "The generated answer directly addresses the question by stating the time it takes to cook Chicken Fried Rice, which is exactly the information requested."
        ],
        [
         "36",
         "In Chicken Fried Rice, you can use either 8 ounces of cooked lean boneless pork or 8 ounces of chicken, chopped.",
         "7",
         "What kind of meat can be used in Chicken Fried Rice?",
         "PARTLY_RELEVANT",
         "The answer provides options for meats that can be used in Chicken Fried Rice, specifically mentioning chicken and pork. However, it primarily refers to pork, which is not the most relevant option since the question asks specifically about meat used in Chicken Fried Rice, which typically emphasizes chicken."
        ],
        [
         "37",
         "In the Chicken Fried Rice recipe, sesame oil should be added after you add the green onions.",
         "7",
         "When should sesame oil be added in the Chicken Fried Rice recipe?",
         "RELEVANT",
         "The generated answer directly addresses the question about when to add sesame oil in the Chicken Fried Rice recipe, stating that it should be added after the green onions, which is specific and relevant information."
        ],
        [
         "38",
         "The rating of the Chicken Fried Rice recipe is 4.6 stars.",
         "7",
         "What is the rating of the Chicken Fried Rice recipe?",
         "RELEVANT",
         "The generated answer directly addresses the question by providing a specific rating for the Chicken Fried Rice recipe, which is exactly what was asked."
        ],
        [
         "39",
         "The vegetables included in the Chicken Fried Rice ingredients are chopped onions, finely chopped carrots, frozen peas, green onions, and bean sprouts.",
         "7",
         "What vegetables are included in the Chicken Fried Rice ingredients?",
         "RELEVANT",
         "The generated answer directly lists the vegetables included in the Chicken Fried Rice ingredients, which is exactly what the question is asking for."
        ],
        [
         "40",
         "It takes 35 minutes to cook the Sloppy Joes.",
         "8",
         "How long does it take to cook the Sloppy Joes?",
         "RELEVANT",
         "The generated answer directly addresses the question by providing a specific cooking time of 35 minutes for Sloppy Joes, which is the information being requested."
        ],
        [
         "41",
         "The main protein ingredient in the Sloppy Joes is hamburger.",
         "8",
         "What is the main protein ingredient in the Sloppy Joes?",
         "RELEVANT",
         "The generated answer directly addresses the question by stating that the main protein ingredient in Sloppy Joes is hamburger, which is accurate and directly related to the inquiry."
        ],
        [
         "42",
         "The Sloppy Joes recipe has a star rating of 4.77 stars.",
         "8",
         "What star rating does the Sloppy Joes recipe have?",
         "RELEVANT",
         "The generated answer directly addresses the question by providing the specific star rating of the Sloppy Joes recipe, which is exactly what was asked."
        ],
        [
         "43",
         "Mustard is not necessary in the Sloppy Joes recipe; it is listed as an optional ingredient.",
         "8",
         "Is mustard necessary in the Sloppy Joes recipe?",
         "RELEVANT",
         "The generated answer directly addresses the question by stating that mustard is not necessary in the recipe and also provides additional information that it is an optional ingredient, which is pertinent to the inquiry."
        ],
        [
         "44",
         "In the Sloppy Joes recipe, the onions are prepared by dicing them.",
         "8",
         "How are the onions prepared in the Sloppy Joes recipe?",
         "RELEVANT",
         "The generated answer directly addresses the question by stating that the onions are prepared by dicing them, which is a specific and relevant detail about their preparation in the Sloppy Joes recipe."
        ],
        [
         "45",
         "It takes 23 minutes to cook the Chicken Parmesan.",
         "9",
         "How long does it take to cook the Chicken Parmesan?",
         "RELEVANT",
         "The generated answer directly addresses the question by providing a specific time for cooking Chicken Parmesan, which is what the question is asking."
        ],
        [
         "46",
         "The main protein ingredient in the Chicken Parmesan recipe is boneless skinless chicken breast halves.",
         "9",
         "What's the main protein ingredient in the Chicken Parmesan recipe?",
         "RELEVANT",
         "The generated answer directly addresses the question by specifying the primary protein ingredient in Chicken Parmesan, which is boneless skinless chicken breast halves."
        ],
        [
         "47",
         "In the Chicken Parmesan recipe, the chicken is seasoned with salt and pepper to taste.",
         "9",
         "How is the chicken seasoned in the Chicken Parmesan recipe?",
         "RELEVANT",
         "The generated answer directly addresses the question by specifying that the chicken in the Chicken Parmesan recipe is seasoned with salt and pepper, which is relevant information regarding the seasoning process for that specific dish."
        ],
        [
         "48",
         "The type of cheese placed on top of the Chicken Parmesan is mozzarella cheese.",
         "9",
         "What type of cheese is placed on top of the Chicken Parmesan?",
         "RELEVANT",
         "The generated answer directly addresses the question by specifying that mozzarella cheese is placed on top of Chicken Parmesan, which is the correct and expected type of cheese for this dish."
        ],
        [
         "49",
         "Serving spaghetti with the Chicken Parmesan is not mandatory according to the recipe; it is mentioned as a suggestion (\"Serve with a side of spaghetti\").",
         "9",
         "Is serving spaghetti with the Chicken Parmesan mandatory according to the recipe?",
         "RELEVANT",
         "The generated answer directly addresses the question by stating that serving spaghetti is not mandatory but rather a suggestion, clearly aligning with the query about the recipe's requirements."
        ]
       ],
       "shape": {
        "columns": 5,
        "rows": 440
       }
      },
      "text/html": [
       "<div>\n",
       "<style scoped>\n",
       "    .dataframe tbody tr th:only-of-type {\n",
       "        vertical-align: middle;\n",
       "    }\n",
       "\n",
       "    .dataframe tbody tr th {\n",
       "        vertical-align: top;\n",
       "    }\n",
       "\n",
       "    .dataframe thead th {\n",
       "        text-align: right;\n",
       "    }\n",
       "</style>\n",
       "<table border=\"1\" class=\"dataframe\">\n",
       "  <thead>\n",
       "    <tr style=\"text-align: right;\">\n",
       "      <th></th>\n",
       "      <th>answer</th>\n",
       "      <th>id</th>\n",
       "      <th>question</th>\n",
       "      <th>relevance</th>\n",
       "      <th>explanation</th>\n",
       "    </tr>\n",
       "  </thead>\n",
       "  <tbody>\n",
       "    <tr>\n",
       "      <th>0</th>\n",
       "      <td>The main ingredients for the Ground Beef Gyros...</td>\n",
       "      <td>0</td>\n",
       "      <td>What are the main ingredients for the Ground B...</td>\n",
       "      <td>RELEVANT</td>\n",
       "      <td>The generated answer provides a comprehensive ...</td>\n",
       "    </tr>\n",
       "    <tr>\n",
       "      <th>1</th>\n",
       "      <td>It takes 22 minutes to cook the Ground Beef Gy...</td>\n",
       "      <td>0</td>\n",
       "      <td>How long does it take to cook the Ground Beef ...</td>\n",
       "      <td>RELEVANT</td>\n",
       "      <td>The generated answer directly addresses the qu...</td>\n",
       "    </tr>\n",
       "    <tr>\n",
       "      <th>2</th>\n",
       "      <td>The recommended sauce with the Ground Beef Gyr...</td>\n",
       "      <td>0</td>\n",
       "      <td>What kind of sauce is recommended with the Gro...</td>\n",
       "      <td>RELEVANT</td>\n",
       "      <td>The generated answer directly addresses the qu...</td>\n",
       "    </tr>\n",
       "    <tr>\n",
       "      <th>3</th>\n",
       "      <td>Yes, turkey can be used instead of beef in Gro...</td>\n",
       "      <td>0</td>\n",
       "      <td>Can turkey be used instead of beef in Ground B...</td>\n",
       "      <td>RELEVANT</td>\n",
       "      <td>The generated answer directly addresses the qu...</td>\n",
       "    </tr>\n",
       "    <tr>\n",
       "      <th>4</th>\n",
       "      <td>The Ground Beef Gyros is rated 4.44 stars base...</td>\n",
       "      <td>0</td>\n",
       "      <td>How is the Ground Beef Gyros rated by those wh...</td>\n",
       "      <td>RELEVANT</td>\n",
       "      <td>The generated answer directly addresses the qu...</td>\n",
       "    </tr>\n",
       "    <tr>\n",
       "      <th>...</th>\n",
       "      <td>...</td>\n",
       "      <td>...</td>\n",
       "      <td>...</td>\n",
       "      <td>...</td>\n",
       "      <td>...</td>\n",
       "    </tr>\n",
       "    <tr>\n",
       "      <th>435</th>\n",
       "      <td>The rating for the Yakisoba recipe is 4.57 sta...</td>\n",
       "      <td>87</td>\n",
       "      <td>What is the rating for the Yakisoba recipe?</td>\n",
       "      <td>RELEVANT</td>\n",
       "      <td>The generated answer directly addresses the qu...</td>\n",
       "    </tr>\n",
       "    <tr>\n",
       "      <th>436</th>\n",
       "      <td>It takes 50 minutes to cook Yakisoba.</td>\n",
       "      <td>87</td>\n",
       "      <td>How long does it take to cook Yakisoba?</td>\n",
       "      <td>RELEVANT</td>\n",
       "      <td>The generated answer directly addresses the qu...</td>\n",
       "    </tr>\n",
       "    <tr>\n",
       "      <th>437</th>\n",
       "      <td>The Yakisoba recipe uses pork as the type of m...</td>\n",
       "      <td>87</td>\n",
       "      <td>What type of meat is used in the Yakisoba recipe?</td>\n",
       "      <td>RELEVANT</td>\n",
       "      <td>The generated answer directly addresses the qu...</td>\n",
       "    </tr>\n",
       "    <tr>\n",
       "      <th>438</th>\n",
       "      <td>Yes, the Yakisoba recipe includes soy sauce.</td>\n",
       "      <td>87</td>\n",
       "      <td>Does the Yakisoba recipe include soy sauce?</td>\n",
       "      <td>RELEVANT</td>\n",
       "      <td>The generated answer directly addresses the qu...</td>\n",
       "    </tr>\n",
       "    <tr>\n",
       "      <th>439</th>\n",
       "      <td>Yes, scallions are optional in the Yakisoba re...</td>\n",
       "      <td>87</td>\n",
       "      <td>Are scallions optional in the Yakisoba recipe?</td>\n",
       "      <td>RELEVANT</td>\n",
       "      <td>The generated answer directly addresses the qu...</td>\n",
       "    </tr>\n",
       "  </tbody>\n",
       "</table>\n",
       "<p>440 rows × 5 columns</p>\n",
       "</div>"
      ],
      "text/plain": [
       "                                                answer  id  \\\n",
       "0    The main ingredients for the Ground Beef Gyros...   0   \n",
       "1    It takes 22 minutes to cook the Ground Beef Gy...   0   \n",
       "2    The recommended sauce with the Ground Beef Gyr...   0   \n",
       "3    Yes, turkey can be used instead of beef in Gro...   0   \n",
       "4    The Ground Beef Gyros is rated 4.44 stars base...   0   \n",
       "..                                                 ...  ..   \n",
       "435  The rating for the Yakisoba recipe is 4.57 sta...  87   \n",
       "436              It takes 50 minutes to cook Yakisoba.  87   \n",
       "437  The Yakisoba recipe uses pork as the type of m...  87   \n",
       "438       Yes, the Yakisoba recipe includes soy sauce.  87   \n",
       "439  Yes, scallions are optional in the Yakisoba re...  87   \n",
       "\n",
       "                                              question relevance  \\\n",
       "0    What are the main ingredients for the Ground B...  RELEVANT   \n",
       "1    How long does it take to cook the Ground Beef ...  RELEVANT   \n",
       "2    What kind of sauce is recommended with the Gro...  RELEVANT   \n",
       "3    Can turkey be used instead of beef in Ground B...  RELEVANT   \n",
       "4    How is the Ground Beef Gyros rated by those wh...  RELEVANT   \n",
       "..                                                 ...       ...   \n",
       "435        What is the rating for the Yakisoba recipe?  RELEVANT   \n",
       "436            How long does it take to cook Yakisoba?  RELEVANT   \n",
       "437  What type of meat is used in the Yakisoba recipe?  RELEVANT   \n",
       "438        Does the Yakisoba recipe include soy sauce?  RELEVANT   \n",
       "439     Are scallions optional in the Yakisoba recipe?  RELEVANT   \n",
       "\n",
       "                                           explanation  \n",
       "0    The generated answer provides a comprehensive ...  \n",
       "1    The generated answer directly addresses the qu...  \n",
       "2    The generated answer directly addresses the qu...  \n",
       "3    The generated answer directly addresses the qu...  \n",
       "4    The generated answer directly addresses the qu...  \n",
       "..                                                 ...  \n",
       "435  The generated answer directly addresses the qu...  \n",
       "436  The generated answer directly addresses the qu...  \n",
       "437  The generated answer directly addresses the qu...  \n",
       "438  The generated answer directly addresses the qu...  \n",
       "439  The generated answer directly addresses the qu...  \n",
       "\n",
       "[440 rows x 5 columns]"
      ]
     },
     "execution_count": 99,
     "metadata": {},
     "output_type": "execute_result"
    }
   ],
   "source": [
    "df_eval"
   ]
  },
  {
   "cell_type": "code",
   "execution_count": 103,
   "id": "44cebd10",
   "metadata": {},
   "outputs": [
    {
     "data": {
      "application/vnd.microsoft.datawrangler.viewer.v0+json": {
       "columns": [
        {
         "name": "relevance",
         "rawType": "object",
         "type": "string"
        },
        {
         "name": "count",
         "rawType": "int64",
         "type": "integer"
        }
       ],
       "ref": "a5db7f20-b372-4ad6-b7e6-6f904271cb59",
       "rows": [
        [
         "RELEVANT",
         "427"
        ],
        [
         "PARTLY_RELEVANT",
         "13"
        ]
       ],
       "shape": {
        "columns": 1,
        "rows": 2
       }
      },
      "text/plain": [
       "relevance\n",
       "RELEVANT           427\n",
       "PARTLY_RELEVANT     13\n",
       "Name: count, dtype: int64"
      ]
     },
     "execution_count": 103,
     "metadata": {},
     "output_type": "execute_result"
    }
   ],
   "source": [
    "df_eval.relevance.value_counts()"
   ]
  },
  {
   "cell_type": "code",
   "execution_count": 104,
   "id": "444b2909",
   "metadata": {},
   "outputs": [
    {
     "data": {
      "application/vnd.microsoft.datawrangler.viewer.v0+json": {
       "columns": [
        {
         "name": "relevance",
         "rawType": "object",
         "type": "string"
        },
        {
         "name": "proportion",
         "rawType": "float64",
         "type": "float"
        }
       ],
       "ref": "1813eb39-d01c-4e32-a6f6-326e03b8cbbe",
       "rows": [
        [
         "RELEVANT",
         "0.9704545454545455"
        ],
        [
         "PARTLY_RELEVANT",
         "0.029545454545454545"
        ]
       ],
       "shape": {
        "columns": 1,
        "rows": 2
       }
      },
      "text/plain": [
       "relevance\n",
       "RELEVANT           0.970455\n",
       "PARTLY_RELEVANT    0.029545\n",
       "Name: proportion, dtype: float64"
      ]
     },
     "execution_count": 104,
     "metadata": {},
     "output_type": "execute_result"
    }
   ],
   "source": [
    "df_eval.relevance.value_counts(normalize=True)"
   ]
  },
  {
   "cell_type": "code",
   "execution_count": null,
   "id": "3352f262",
   "metadata": {},
   "outputs": [],
   "source": [
    "df_eval.to_csv(\"../data/rag-eval-gpt-4o-mini.csv\", index=False)"
   ]
  },
  {
   "cell_type": "code",
   "execution_count": 106,
   "id": "22275e4c",
   "metadata": {},
   "outputs": [
    {
     "data": {
      "application/vnd.jupyter.widget-view+json": {
       "model_id": "6075161e268c4e4a87e49eb848fc1432",
       "version_major": 2,
       "version_minor": 0
      },
      "text/plain": [
       "  0%|          | 0/440 [00:00<?, ?it/s]"
      ]
     },
     "metadata": {},
     "output_type": "display_data"
    }
   ],
   "source": [
    "import json\n",
    "\n",
    "evaluations_gpt_4o = {}\n",
    "\n",
    "for record_id, record in enumerate(tqdm(ground_truth)):\n",
    "    if record_id in evaluations_gpt_4o:\n",
    "        continue\n",
    "    question = record[\"question\"]\n",
    "    answer_llm = rag(\n",
    "        query=question,\n",
    "        openai_client=openai_client,\n",
    "        collection_name=\"recipe-rag\",\n",
    "        llm_model=\"gpt-4o\",\n",
    "    )\n",
    "\n",
    "    prompt = prompt_template.format(question=question, answer_llm=answer_llm)\n",
    "\n",
    "    evaluation = llm(openai_client, prompt)\n",
    "    evaluation = json.loads(evaluation)\n",
    "\n",
    "    evaluations_gpt_4o[record_id] = (record, answer_llm, evaluation)\n"
   ]
  },
  {
   "cell_type": "code",
   "execution_count": 111,
   "id": "5b68a12c",
   "metadata": {},
   "outputs": [],
   "source": [
    "evaluations = list(evaluations_gpt_4o.values())\n",
    "\n",
    "df_eval = pd.DataFrame(evaluations, columns=[\"record\", \"answer\", \"evaluation\"])\n",
    "\n",
    "df_eval[\"id\"] = df_eval.record.apply(lambda d: d[\"id\"])\n",
    "df_eval[\"question\"] = df_eval.record.apply(lambda d: d[\"question\"])\n",
    "\n",
    "df_eval[\"relevance\"] = df_eval.evaluation.apply(lambda d: d[\"Relevance\"])\n",
    "df_eval[\"explanation\"] = df_eval.evaluation.apply(lambda d: d[\"Explanation\"])\n",
    "\n",
    "del df_eval[\"record\"]\n",
    "del df_eval[\"evaluation\"]"
   ]
  },
  {
   "cell_type": "code",
   "execution_count": 112,
   "id": "942835e2",
   "metadata": {},
   "outputs": [
    {
     "data": {
      "application/vnd.microsoft.datawrangler.viewer.v0+json": {
       "columns": [
        {
         "name": "index",
         "rawType": "int64",
         "type": "integer"
        },
        {
         "name": "answer",
         "rawType": "object",
         "type": "string"
        },
        {
         "name": "id",
         "rawType": "int64",
         "type": "integer"
        },
        {
         "name": "question",
         "rawType": "object",
         "type": "string"
        },
        {
         "name": "relevance",
         "rawType": "object",
         "type": "string"
        },
        {
         "name": "explanation",
         "rawType": "object",
         "type": "string"
        }
       ],
       "ref": "8ee2cc3b-2a22-4942-a6aa-a0a76028b702",
       "rows": [
        [
         "0",
         "The main ingredients for the Ground Beef Gyros are:\n\n1. Ground beef (or ground turkey)\n2. Plain yogurt\n3. Cucumber\n4. Onions\n5. Garlic\n6. Sugar\n7. Dried oregano\n8. Garlic powder\n9. Onion powder\n10. Salt (optional)\n11. Pepper\n12. Pita breads\n13. Shredded lettuce\n14. Tomato\n15. Cucumber (fries and thinly sliced for later)\n16. Onion",
         "0",
         "What are the main ingredients for the Ground Beef Gyros?",
         "PARTLY_RELEVANT",
         "The generated answer lists numerous ingredients, but it includes some items that are not typically associated with traditional Ground Beef Gyros, such as sugar and multiple mentions of cucumber and onion. The core ingredients are present, but the additional items may confuse the main composition expected in a gyros dish."
        ],
        [
         "1",
         "It takes 10 to 12 minutes to cook the Ground Beef Gyros.",
         "0",
         "How long does it take to cook the Ground Beef Gyros?",
         "RELEVANT",
         "The generated answer directly addresses the question by providing a specific cooking time of 10 to 12 minutes for Ground Beef Gyros, which is exactly what the question is asking about."
        ],
        [
         "2",
         "The recommended sauce to serve with the Ground Beef Gyros is a yogurt sauce.",
         "0",
         "What kind of sauce is recommended with the Ground Beef Gyros?",
         "RELEVANT",
         "The generated answer directly addresses the question by specifying that a yogurt sauce is recommended to serve with Ground Beef Gyros, which provides a clear and relevant response."
        ],
        [
         "3",
         "Yes, turkey can be used instead of beef in Ground Beef Gyros. In the provided recipe for Ground Beef Gyros, it specifically mentions the use of ground turkey as an alternative to ground beef.",
         "0",
         "Can turkey be used instead of beef in Ground Beef Gyros?",
         "RELEVANT",
         "The generated answer directly addresses the question by confirming that turkey can be used instead of beef in Ground Beef Gyros. It also adds value by mentioning that a recipe includes ground turkey as an alternative, reinforcing the answer's relevance."
        ],
        [
         "4",
         "The Ground Beef Gyros is rated 4.44 stars based on 259 ratings by those who have tried it.",
         "0",
         "How is the Ground Beef Gyros rated by those who have tried it?",
         "RELEVANT",
         "The generated answer directly addresses the question by providing a specific rating of the Ground Beef Gyros (4.44 stars) along with the number of ratings (259), which informs how it is perceived by those who have tried it."
        ],
        [
         "5",
         "The Lasagna takes 40-60 minutes to cook in the oven, based on the provided directions in the recipe.",
         "1",
         "How long does the Lasagna take to cook?",
         "RELEVANT",
         "The generated answer provides a specific time range (40-60 minutes) for cooking lasagna in the oven, directly addressing the question about how long lasagna takes to cook."
        ],
        [
         "6",
         "The Lasagna recipe suggests using ricotta cheese, although it also mentions that cottage cheese can be easily substituted.",
         "1",
         "What type of cheese does the Lasagna recipe suggest using?",
         "RELEVANT",
         "The generated answer directly addresses the question by specifying that the Lasagna recipe suggests using ricotta cheese and also provides additional information about the possibility of using cottage cheese as a substitute, which adds to the relevance."
        ],
        [
         "7",
         "Yes, you can use ricotta instead of cottage cheese in this lasagna. The recipe states that while the family prefers cottage cheese, ricotta can easily be substituted.",
         "1",
         "Can you use ricotta instead of cottage cheese in this Lasagna?",
         "RELEVANT",
         "The generated answer directly addresses the question by confirming that ricotta can be used as a substitute for cottage cheese in lasagna and provides additional context about the preference for cottage cheese."
        ],
        [
         "8",
         "To prepare the baking pan for the lasagna, you should spray a 13 x 9-inch baking pan with cooking spray.",
         "1",
         "How do you prepare the baking pan for the Lasagna?",
         "RELEVANT",
         "The generated answer directly addresses the question by providing a specific step on how to prepare the baking pan for lasagna, which is to spray it with cooking spray. This aligns well with the context of the question regarding the preparation of the baking pan."
        ],
        [
         "9",
         "The oven temperature for baking the Lasagna is 375°F.",
         "1",
         "What is the oven temperature for baking the Lasagna?",
         "RELEVANT",
         "The generated answer directly addresses the question by providing the specific oven temperature for baking Lasagna, which is what was asked."
        ],
        [
         "10",
         "The name of the recipe that claims to be easy to make is \"Bev's Spaghetti Sauce.\"",
         "2",
         "What is the name of the recipe that claims to be easy to make?",
         "RELEVANT",
         "The generated answer directly addresses the question by providing a specific recipe name ('Bev's Spaghetti Sauce') that claims to be easy to make, making it fully relevant to the inquiry."
        ],
        [
         "11",
         "It takes 25 minutes to cook The Best Easy Beef & Broccoli Stir-Fry.",
         "2",
         "How long does it take to cook The Best Easy Beef & Broccoli Stir-Fry?",
         "RELEVANT",
         "The generated answer directly addresses the question by providing a specific cooking time of 25 minutes for The Best Easy Beef & Broccoli Stir-Fry, which is exactly what was asked."
        ],
        [
         "12",
         "The optionally suggested garnish for The Best Easy Beef & Broccoli Stir-Fry is toasted sesame seeds.",
         "2",
         "What garnish is optionally suggested for The Best Easy Beef & Broccoli Stir-Fry?",
         "RELEVANT",
         "The generated answer directly addresses the question by providing the specific optional garnish, which is toasted sesame seeds, for The Best Easy Beef & Broccoli Stir-Fry."
        ],
        [
         "13",
         "The recommended type of steak for The Best Easy Beef & Broccoli Stir-Fry is charcoal chuck steak, which is noted for being very tender and lean.",
         "2",
         "What type of steak is recommended for The Best Easy Beef & Broccoli Stir-Fry?",
         "PARTLY_RELEVANT",
         "The generated answer correctly identifies a type of steak that could be used in stir-fry, but 'charcoal chuck steak' may not be the most common or suggested cut for beef and broccoli stir-fry. More typical recommendations would include flank steak or sirloin. Thus, while related, it may not specifically align with the established recipe."
        ],
        [
         "14",
         "The Best Easy Beef & Broccoli Stir-Fry has been rated 4.65 stars.",
         "2",
         "How many stars has The Best Easy Beef & Broccoli Stir-Fry been rated?",
         "RELEVANT",
         "The generated answer directly provides the rating of The Best Easy Beef & Broccoli Stir-Fry, addressing the specific question about how many stars it has been rated."
        ],
        [
         "15",
         "It takes 15 minutes to make The Ultimate Greek Salad.",
         "3",
         "How long does it take to make The Ultimate Greek Salad?",
         "RELEVANT",
         "The generated answer directly addresses the question by providing a specific time (15 minutes) needed to make The Ultimate Greek Salad, which is precisely what the question is asking for."
        ],
        [
         "16",
         "The Ultimate Greek Salad recipe uses Kalamata olives.",
         "3",
         "What type of olives does The Ultimate Greek Salad recipe use?",
         "RELEVANT",
         "The generated answer directly addresses the question by specifying the type of olives used in The Ultimate Greek Salad recipe, which is Kalamata olives. This response is clear and accurate relative to the question asked."
        ],
        [
         "17",
         "Yes, lettuce can be included in The Ultimate Greek Salad according to the description provided. It mentions that while lettuce would not be 'authentic' in a Horiatiki (village) salad, it can still be a part of any Greek salad if desired, and the author of the recipe often adds it.",
         "3",
         "Can lettuce be included in The Ultimate Greek Salad according to the description?",
         "RELEVANT",
         "The generated answer directly addresses the question about including lettuce in The Ultimate Greek Salad, clearly stating that it can be included according to the description. It also provides additional context about its authenticity, which enhances the understanding of the response."
        ],
        [
         "18",
         "The rating for The Ultimate Greek Salad is 4.88 stars.",
         "3",
         "What is the rating for The Ultimate Greek Salad?",
         "RELEVANT",
         "The generated answer directly addresses the question by providing the specific rating of 4.88 stars for The Ultimate Greek Salad, making it relevant and precise."
        ],
        [
         "19",
         "The kind of cheese used in The Ultimate Greek Salad is crumbled feta cheese.",
         "3",
         "What kind of cheese is used in The Ultimate Greek Salad?",
         "RELEVANT",
         "The generated answer directly addresses the question by specifying that crumbled feta cheese is used in The Ultimate Greek Salad, which is the correct information related to the query."
        ],
        [
         "20",
         "It takes 30 minutes to make the Easy Stovetop Macaroni 'n' Cheese.",
         "4",
         "How long does it take to make the Easy Stovetop Macaroni 'n' Cheese?",
         "RELEVANT",
         "The generated answer directly addresses the question by providing the specific time it takes to make the Easy Stovetop Macaroni 'n' Cheese, which is 30 minutes."
        ],
        [
         "21",
         "The kind of cheese used in the Easy Stovetop Macaroni 'n' Cheese is cheddar cheese.",
         "4",
         "What kind of cheese is used in the Easy Stovetop Macaroni 'n' Cheese?",
         "RELEVANT",
         "The generated answer directly addresses the question by stating that cheddar cheese is used in Easy Stovetop Macaroni 'n' Cheese, which is exactly what was being asked."
        ],
        [
         "22",
         "The Easy Stovetop Macaroni 'n' Cheese is cooked as follows:\n\n1. Cook the elbow macaroni according to the package directions.\n2. In a medium saucepan, melt 1/4 cup of butter over medium heat.\n3. Stir in 1/4 cup of all-purpose flour and cook for 3-5 minutes, stirring constantly to form a roux.\n4. Add 1/2 teaspoon of salt and a dash of black pepper.\n5. Slowly add 2 cups of warmed milk, stirring well after each addition.\n6. Cook and stir until the mixture is bubbly.\n7. Stir in 2 cups (or 8 ounces) of shredded cheddar cheese, adding a small amount at a time until fully melted.\n8. Drain the cooked macaroni and add it to the cheese sauce, stirring to coat the macaroni thoroughly.",
         "4",
         "How is the Easy Stovetop Macaroni 'n' Cheese cooked?",
         "RELEVANT",
         "The generated answer provides a detailed and clear step-by-step guide on how to cook Easy Stovetop Macaroni 'n' Cheese, directly addressing the question asked."
        ],
        [
         "23",
         "The user rating for the Easy Stovetop Macaroni 'n' Cheese is 4.48 stars based on 597 ratings.",
         "4",
         "What is the user rating for the Easy Stovetop Macaroni 'n' Cheese?",
         "RELEVANT",
         "The generated answer directly addresses the question by providing the user rating of 4.48 stars based on 597 ratings for the Easy Stovetop Macaroni 'n' Cheese."
        ],
        [
         "24",
         "No, you do not need to bake the Easy Stovetop Macaroni 'n' Cheese. The recipe specifically states, \"An easy way to do macaroni and cheese when there is little time until dinner. No baking required.\"",
         "4",
         "Do you need to bake the Easy Stovetop Macaroni 'n' Cheese?",
         "RELEVANT",
         "The generated answer directly addresses the question by stating that baking is not required for the Easy Stovetop Macaroni 'n' Cheese, and it provides supporting information from the recipe, confirming the answer's accuracy."
        ],
        [
         "25",
         "You need to simmer Bev's Spaghetti Sauce for 1 1/2 hours.",
         "5",
         "How long do you need to cook Bev's Spaghetti Sauce?",
         "RELEVANT",
         "The generated answer directly addresses the question by providing the specific cooking time required for Bev's Spaghetti Sauce, which is 1 1/2 hours. This information is directly relevant to the inquiry about cooking duration."
        ],
        [
         "26",
         "You should use ground beef in Bev's Spaghetti Sauce.",
         "5",
         "What meat should you use in Bev's Spaghetti Sauce?",
         "RELEVANT",
         "The generated answer directly addresses the question by specifying that ground beef should be used in Bev's Spaghetti Sauce, which is the information sought in the question."
        ],
        [
         "27",
         "The type of cheese suggested for topping Bev's Spaghetti Sauce is freshly grated Parmesan cheese.",
         "5",
         "What type of cheese is suggested for topping Bev's Spaghetti Sauce?",
         "RELEVANT",
         "The generated answer directly addresses the question by stating that freshly grated Parmesan cheese is the suggested type of cheese for topping Bev's Spaghetti Sauce, providing a clear and specific response."
        ],
        [
         "28",
         "The flavor of Bev's Spaghetti Sauce is not explicitly described in terms of specific taste notes by the creator in the provided context. However, the creator expresses that it is the only spaghetti sauce their family requests and hopes that others enjoy it as much as their family does.",
         "5",
         "How is the flavor of Bev's Spaghetti Sauce described by the creator?",
         "PARTLY_RELEVANT",
         "The generated answer provides some context about the popularity and family approval of Bev's Spaghetti Sauce but fails to address the specific flavor description requested in the question. Thus, it is somewhat relevant but lacks the key details sought."
        ],
        [
         "29",
         "Bev's Spaghetti Sauce has an overall rating of 4.77 stars.",
         "5",
         "What overall rating does Bev's Spaghetti Sauce have?",
         "RELEVANT",
         "The generated answer directly addresses the question by providing the specific overall rating of Bev's Spaghetti Sauce, which is exactly what the question asks for."
        ],
        [
         "30",
         "The recipe for Perfect Southern Fried Chicken recommends using a shallow layer of oil or shortening for frying. The exact amount is not specified, as it depends on the size of the skillet, but it should be enough to create a shallow layer for frying.",
         "6",
         "How much oil or shortening is recommended for the Perfect Southern Fried Chicken?",
         "PARTLY_RELEVANT",
         "The generated answer discusses the use of oil or shortening for frying chicken but does not provide a specific measurement, which was the main point of the question. It mentions that the amount is not specified and varies depending on the skillet size, indicating some information is given, but it lacks the precise answer the question seeks."
        ],
        [
         "31",
         "The total cooking time for the Perfect Southern Fried Chicken is 2 hours and 35 minutes.",
         "6",
         "What is the total cooking time for the Perfect Southern Fried Chicken?",
         "RELEVANT",
         "The generated answer directly addresses the question by providing a specific total cooking time of 2 hours and 35 minutes for the Perfect Southern Fried Chicken, which is exactly what the question asks for."
        ],
        [
         "32",
         "For the Perfect Southern Fried Chicken, the chicken is cut into 10 pieces.",
         "6",
         "How many pieces is the chicken cut into for the Perfect Southern Fried Chicken?",
         "RELEVANT",
         "The generated answer directly addresses the question by providing a specific number of pieces into which the chicken is cut for the Perfect Southern Fried Chicken. It gives the exact information requested without any ambiguity."
        ],
        [
         "33",
         "The rating for the Perfect Southern Fried Chicken recipe is 4.7 stars.",
         "6",
         "What is the rating for the Perfect Southern Fried Chicken recipe?",
         "RELEVANT",
         "The generated answer directly addresses the question by providing the rating for the Perfect Southern Fried Chicken recipe, which is exactly what was asked."
        ],
        [
         "34",
         "The purpose of covering the chicken at the beginning of the cooking process in the Perfect Southern Fried Chicken recipe is to start the cooking process inside the chicken. This helps ensure that the chicken cooks evenly and thoroughly. The cover is removed during the later part of the cooking time to allow the outside of the chicken to become crispy and golden brown.",
         "6",
         "What is the purpose of covering the chicken at the beginning of the cooking process in the Perfect Southern Fried Chicken?",
         "RELEVANT",
         "The generated answer directly addresses the purpose of covering the chicken at the beginning of the cooking process, explaining that it helps with even and thorough cooking, which is aligned with the question's intent."
        ],
        [
         "35",
         "The Chicken Fried Rice takes a total of 28 minutes to cook.",
         "7",
         "How long does it take to cook Chicken Fried Rice?",
         "RELEVANT",
         "The generated answer directly addresses the question by stating a specific cooking time of 28 minutes for Chicken Fried Rice, which is the information being requested."
        ],
        [
         "36",
         "In Chicken Fried Rice, you can use either 8 ounces of cooked lean boneless pork or 8 ounces of chicken, chopped.",
         "7",
         "What kind of meat can be used in Chicken Fried Rice?",
         "PARTLY_RELEVANT",
         "The generated answer discusses the use of chicken and pork in Chicken Fried Rice, which is directly related to the question. However, since the question specifically asks for types of meat that can be used, the inclusion of pork could be seen as only partly addressing the query focused on chicken. A more comprehensive answer would list other meats typically used, thus providing more relevance."
        ],
        [
         "37",
         "Sesame oil should be added after you add the green onions in the Chicken Fried Rice recipe. It is recommended to add 1 teaspoon for sesame flavor, but it should not be used as a cooking oil because it easily burns.",
         "7",
         "When should sesame oil be added in the Chicken Fried Rice recipe?",
         "RELEVANT",
         "The generated answer directly addresses the question by specifying that sesame oil should be added after the green onions in the Chicken Fried Rice recipe. Additionally, it provides a recommendation about the amount to use and cautions against using it as a cooking oil, which is relevant context for understanding how to use sesame oil properly in the recipe."
        ],
        [
         "38",
         "The rating of the Chicken Fried Rice recipe is 4.6 stars.",
         "7",
         "What is the rating of the Chicken Fried Rice recipe?",
         "RELEVANT",
         "The generated answer directly addresses the question by providing the specific rating of the Chicken Fried Rice recipe, which is 4.6 stars."
        ],
        [
         "39",
         "The vegetables included in the Chicken Fried Rice ingredients are onions, carrots, peas, green onions, and bean sprouts.",
         "7",
         "What vegetables are included in the Chicken Fried Rice ingredients?",
         "RELEVANT",
         "The generated answer directly addresses the question by listing the vegetables included in the Chicken Fried Rice ingredients, providing a complete and accurate response."
        ],
        [
         "40",
         "The Sloppy Joes take 35 minutes to cook.",
         "8",
         "How long does it take to cook the Sloppy Joes?",
         "RELEVANT",
         "The generated answer provides a direct response to the question by specifying the cooking time for Sloppy Joes, which is exactly what was asked."
        ],
        [
         "41",
         "The main protein ingredient in the Sloppy Joes is hamburger.",
         "8",
         "What is the main protein ingredient in the Sloppy Joes?",
         "RELEVANT",
         "The generated answer directly addresses the question by identifying 'hamburger' as the main protein ingredient in Sloppy Joes, which is accurate and relevant to the inquiry."
        ],
        [
         "42",
         "The Sloppy Joes recipe has a star rating of 4.77 stars.",
         "8",
         "What star rating does the Sloppy Joes recipe have?",
         "RELEVANT",
         "The generated answer directly addresses the question by providing the specific star rating of the Sloppy Joes recipe, which is what was asked."
        ],
        [
         "43",
         "No, mustard is not necessary in the Sloppy Joes recipe. It is listed as an optional ingredient in the recipe.",
         "8",
         "Is mustard necessary in the Sloppy Joes recipe?",
         "RELEVANT",
         "The generated answer directly addresses the question by stating that mustard is not necessary in the Sloppy Joes recipe and clarifies that it is an optional ingredient, which is exactly what the question is asking."
        ],
        [
         "44",
         "In the Sloppy Joes recipe, the onion is prepared by dicing it.",
         "8",
         "How are the onions prepared in the Sloppy Joes recipe?",
         "RELEVANT",
         "The generated answer directly addresses the question by stating how the onions are prepared in the Sloppy Joes recipe, specifically mentioning that they are diced."
        ],
        [
         "45",
         "The Chicken Parmesan takes 23 minutes to cook.",
         "9",
         "How long does it take to cook the Chicken Parmesan?",
         "RELEVANT",
         "The generated answer directly addresses the question by providing a specific time (23 minutes) for cooking Chicken Parmesan, which is what the question is asking about."
        ],
        [
         "46",
         "The main protein ingredient in the Chicken Parmesan recipe is boneless skinless chicken breast halves.",
         "9",
         "What's the main protein ingredient in the Chicken Parmesan recipe?",
         "RELEVANT",
         "The generated answer directly addresses the question by identifying the main protein ingredient in the Chicken Parmesan recipe as boneless skinless chicken breast halves, which is accurate and specific."
        ],
        [
         "47",
         "In the Chicken Parmesan recipe, the chicken is seasoned with salt and pepper to taste.",
         "9",
         "How is the chicken seasoned in the Chicken Parmesan recipe?",
         "RELEVANT",
         "The generated answer directly addresses the question by providing specific information about how the chicken is seasoned in the Chicken Parmesan recipe, mentioning salt and pepper as the seasonings used."
        ],
        [
         "48",
         "The type of cheese placed on top of the Chicken Parmesan is mozzarella cheese.",
         "9",
         "What type of cheese is placed on top of the Chicken Parmesan?",
         "RELEVANT",
         "The generated answer directly addresses the question by clearly stating that mozzarella cheese is the type of cheese placed on top of Chicken Parmesan, which is the information being inquired about."
        ],
        [
         "49",
         "No, serving spaghetti with the Chicken Parmesan is not mandatory according to the recipe. The recipe states that spaghetti is for serving and marks it as optional.",
         "9",
         "Is serving spaghetti with the Chicken Parmesan mandatory according to the recipe?",
         "RELEVANT",
         "The generated answer directly addresses the question about whether serving spaghetti with Chicken Parmesan is mandatory, stating clearly that it is not mandatory and provides additional context that spaghetti is optional according to the recipe."
        ]
       ],
       "shape": {
        "columns": 5,
        "rows": 440
       }
      },
      "text/html": [
       "<div>\n",
       "<style scoped>\n",
       "    .dataframe tbody tr th:only-of-type {\n",
       "        vertical-align: middle;\n",
       "    }\n",
       "\n",
       "    .dataframe tbody tr th {\n",
       "        vertical-align: top;\n",
       "    }\n",
       "\n",
       "    .dataframe thead th {\n",
       "        text-align: right;\n",
       "    }\n",
       "</style>\n",
       "<table border=\"1\" class=\"dataframe\">\n",
       "  <thead>\n",
       "    <tr style=\"text-align: right;\">\n",
       "      <th></th>\n",
       "      <th>answer</th>\n",
       "      <th>id</th>\n",
       "      <th>question</th>\n",
       "      <th>relevance</th>\n",
       "      <th>explanation</th>\n",
       "    </tr>\n",
       "  </thead>\n",
       "  <tbody>\n",
       "    <tr>\n",
       "      <th>0</th>\n",
       "      <td>The main ingredients for the Ground Beef Gyros...</td>\n",
       "      <td>0</td>\n",
       "      <td>What are the main ingredients for the Ground B...</td>\n",
       "      <td>PARTLY_RELEVANT</td>\n",
       "      <td>The generated answer lists numerous ingredient...</td>\n",
       "    </tr>\n",
       "    <tr>\n",
       "      <th>1</th>\n",
       "      <td>It takes 10 to 12 minutes to cook the Ground B...</td>\n",
       "      <td>0</td>\n",
       "      <td>How long does it take to cook the Ground Beef ...</td>\n",
       "      <td>RELEVANT</td>\n",
       "      <td>The generated answer directly addresses the qu...</td>\n",
       "    </tr>\n",
       "    <tr>\n",
       "      <th>2</th>\n",
       "      <td>The recommended sauce to serve with the Ground...</td>\n",
       "      <td>0</td>\n",
       "      <td>What kind of sauce is recommended with the Gro...</td>\n",
       "      <td>RELEVANT</td>\n",
       "      <td>The generated answer directly addresses the qu...</td>\n",
       "    </tr>\n",
       "    <tr>\n",
       "      <th>3</th>\n",
       "      <td>Yes, turkey can be used instead of beef in Gro...</td>\n",
       "      <td>0</td>\n",
       "      <td>Can turkey be used instead of beef in Ground B...</td>\n",
       "      <td>RELEVANT</td>\n",
       "      <td>The generated answer directly addresses the qu...</td>\n",
       "    </tr>\n",
       "    <tr>\n",
       "      <th>4</th>\n",
       "      <td>The Ground Beef Gyros is rated 4.44 stars base...</td>\n",
       "      <td>0</td>\n",
       "      <td>How is the Ground Beef Gyros rated by those wh...</td>\n",
       "      <td>RELEVANT</td>\n",
       "      <td>The generated answer directly addresses the qu...</td>\n",
       "    </tr>\n",
       "    <tr>\n",
       "      <th>...</th>\n",
       "      <td>...</td>\n",
       "      <td>...</td>\n",
       "      <td>...</td>\n",
       "      <td>...</td>\n",
       "      <td>...</td>\n",
       "    </tr>\n",
       "    <tr>\n",
       "      <th>435</th>\n",
       "      <td>The rating for the Yakisoba recipe is 4.57 stars.</td>\n",
       "      <td>87</td>\n",
       "      <td>What is the rating for the Yakisoba recipe?</td>\n",
       "      <td>RELEVANT</td>\n",
       "      <td>The generated answer directly addresses the qu...</td>\n",
       "    </tr>\n",
       "    <tr>\n",
       "      <th>436</th>\n",
       "      <td>It takes 50 minutes to cook Yakisoba.</td>\n",
       "      <td>87</td>\n",
       "      <td>How long does it take to cook Yakisoba?</td>\n",
       "      <td>RELEVANT</td>\n",
       "      <td>The generated answer directly addresses the qu...</td>\n",
       "    </tr>\n",
       "    <tr>\n",
       "      <th>437</th>\n",
       "      <td>The type of meat used in the Yakisoba recipe i...</td>\n",
       "      <td>87</td>\n",
       "      <td>What type of meat is used in the Yakisoba recipe?</td>\n",
       "      <td>RELEVANT</td>\n",
       "      <td>The generated answer directly addresses the qu...</td>\n",
       "    </tr>\n",
       "    <tr>\n",
       "      <th>438</th>\n",
       "      <td>Yes, the Yakisoba recipe includes soy sauce.</td>\n",
       "      <td>87</td>\n",
       "      <td>Does the Yakisoba recipe include soy sauce?</td>\n",
       "      <td>RELEVANT</td>\n",
       "      <td>The generated answer directly addresses the qu...</td>\n",
       "    </tr>\n",
       "    <tr>\n",
       "      <th>439</th>\n",
       "      <td>Yes, scallions are optional in the Yakisoba re...</td>\n",
       "      <td>87</td>\n",
       "      <td>Are scallions optional in the Yakisoba recipe?</td>\n",
       "      <td>RELEVANT</td>\n",
       "      <td>The generated answer directly addresses the qu...</td>\n",
       "    </tr>\n",
       "  </tbody>\n",
       "</table>\n",
       "<p>440 rows × 5 columns</p>\n",
       "</div>"
      ],
      "text/plain": [
       "                                                answer  id  \\\n",
       "0    The main ingredients for the Ground Beef Gyros...   0   \n",
       "1    It takes 10 to 12 minutes to cook the Ground B...   0   \n",
       "2    The recommended sauce to serve with the Ground...   0   \n",
       "3    Yes, turkey can be used instead of beef in Gro...   0   \n",
       "4    The Ground Beef Gyros is rated 4.44 stars base...   0   \n",
       "..                                                 ...  ..   \n",
       "435  The rating for the Yakisoba recipe is 4.57 stars.  87   \n",
       "436              It takes 50 minutes to cook Yakisoba.  87   \n",
       "437  The type of meat used in the Yakisoba recipe i...  87   \n",
       "438       Yes, the Yakisoba recipe includes soy sauce.  87   \n",
       "439  Yes, scallions are optional in the Yakisoba re...  87   \n",
       "\n",
       "                                              question        relevance  \\\n",
       "0    What are the main ingredients for the Ground B...  PARTLY_RELEVANT   \n",
       "1    How long does it take to cook the Ground Beef ...         RELEVANT   \n",
       "2    What kind of sauce is recommended with the Gro...         RELEVANT   \n",
       "3    Can turkey be used instead of beef in Ground B...         RELEVANT   \n",
       "4    How is the Ground Beef Gyros rated by those wh...         RELEVANT   \n",
       "..                                                 ...              ...   \n",
       "435        What is the rating for the Yakisoba recipe?         RELEVANT   \n",
       "436            How long does it take to cook Yakisoba?         RELEVANT   \n",
       "437  What type of meat is used in the Yakisoba recipe?         RELEVANT   \n",
       "438        Does the Yakisoba recipe include soy sauce?         RELEVANT   \n",
       "439     Are scallions optional in the Yakisoba recipe?         RELEVANT   \n",
       "\n",
       "                                           explanation  \n",
       "0    The generated answer lists numerous ingredient...  \n",
       "1    The generated answer directly addresses the qu...  \n",
       "2    The generated answer directly addresses the qu...  \n",
       "3    The generated answer directly addresses the qu...  \n",
       "4    The generated answer directly addresses the qu...  \n",
       "..                                                 ...  \n",
       "435  The generated answer directly addresses the qu...  \n",
       "436  The generated answer directly addresses the qu...  \n",
       "437  The generated answer directly addresses the qu...  \n",
       "438  The generated answer directly addresses the qu...  \n",
       "439  The generated answer directly addresses the qu...  \n",
       "\n",
       "[440 rows x 5 columns]"
      ]
     },
     "execution_count": 112,
     "metadata": {},
     "output_type": "execute_result"
    }
   ],
   "source": [
    "df_eval"
   ]
  },
  {
   "cell_type": "code",
   "execution_count": 113,
   "id": "13f54edd",
   "metadata": {},
   "outputs": [
    {
     "data": {
      "application/vnd.microsoft.datawrangler.viewer.v0+json": {
       "columns": [
        {
         "name": "relevance",
         "rawType": "object",
         "type": "string"
        },
        {
         "name": "count",
         "rawType": "int64",
         "type": "integer"
        }
       ],
       "ref": "1727fc79-7f72-423a-b106-1bf639c9a17e",
       "rows": [
        [
         "RELEVANT",
         "420"
        ],
        [
         "PARTLY_RELEVANT",
         "20"
        ]
       ],
       "shape": {
        "columns": 1,
        "rows": 2
       }
      },
      "text/plain": [
       "relevance\n",
       "RELEVANT           420\n",
       "PARTLY_RELEVANT     20\n",
       "Name: count, dtype: int64"
      ]
     },
     "execution_count": 113,
     "metadata": {},
     "output_type": "execute_result"
    }
   ],
   "source": [
    "df_eval.relevance.value_counts()"
   ]
  },
  {
   "cell_type": "code",
   "execution_count": 114,
   "id": "84840f43",
   "metadata": {},
   "outputs": [
    {
     "data": {
      "application/vnd.microsoft.datawrangler.viewer.v0+json": {
       "columns": [
        {
         "name": "relevance",
         "rawType": "object",
         "type": "string"
        },
        {
         "name": "proportion",
         "rawType": "float64",
         "type": "float"
        }
       ],
       "ref": "f5d33283-5685-43d0-be37-2a3aef32ef05",
       "rows": [
        [
         "RELEVANT",
         "0.9545454545454546"
        ],
        [
         "PARTLY_RELEVANT",
         "0.045454545454545456"
        ]
       ],
       "shape": {
        "columns": 1,
        "rows": 2
       }
      },
      "text/plain": [
       "relevance\n",
       "RELEVANT           0.954545\n",
       "PARTLY_RELEVANT    0.045455\n",
       "Name: proportion, dtype: float64"
      ]
     },
     "execution_count": 114,
     "metadata": {},
     "output_type": "execute_result"
    }
   ],
   "source": [
    "df_eval.relevance.value_counts(normalize=True)"
   ]
  },
  {
   "cell_type": "code",
   "execution_count": null,
   "id": "93ba5ad0",
   "metadata": {},
   "outputs": [],
   "source": []
  }
 ],
 "metadata": {
  "kernelspec": {
   "display_name": "LLMZoomcamp",
   "language": "python",
   "name": "python3"
  },
  "language_info": {
   "codemirror_mode": {
    "name": "ipython",
    "version": 3
   },
   "file_extension": ".py",
   "mimetype": "text/x-python",
   "name": "python",
   "nbconvert_exporter": "python",
   "pygments_lexer": "ipython3",
   "version": "3.10.17"
  }
 },
 "nbformat": 4,
 "nbformat_minor": 5
}
