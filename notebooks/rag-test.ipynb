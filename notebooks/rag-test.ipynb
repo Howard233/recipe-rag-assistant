{
 "cells": [
  {
   "cell_type": "code",
   "execution_count": 1,
   "id": "4ca2ff47",
   "metadata": {},
   "outputs": [],
   "source": [
    "import requests\n",
    "import pandas as pd\n",
    "from tqdm.auto import tqdm"
   ]
  },
  {
   "cell_type": "markdown",
   "id": "04e02c35",
   "metadata": {},
   "source": [
    "## Data Ingestion"
   ]
  },
  {
   "cell_type": "code",
   "execution_count": 2,
   "id": "ab1f3f7b",
   "metadata": {},
   "outputs": [],
   "source": [
    "df_recipes = pd.read_csv('../data/recipes.csv') # source data"
   ]
  },
  {
   "cell_type": "code",
   "execution_count": 3,
   "id": "9551b5a5",
   "metadata": {},
   "outputs": [
    {
     "data": {
      "application/vnd.jupyter.widget-view+json": {
       "model_id": "7deaffa8cc324b2199e96880ad2485f1",
       "version_major": 2,
       "version_minor": 0
      },
      "text/plain": [
       "  0%|          | 0/88 [00:00<?, ?it/s]"
      ]
     },
     "metadata": {},
     "output_type": "display_data"
    }
   ],
   "source": [
    "# format documents for Qdrant vector DB\n",
    "recipes_raw = df_recipes.to_dict(orient='records')\n",
    "for recipe in tqdm(recipes_raw):\n",
    "    description_stripped = recipe['recipe_description'].strip()\n",
    "    directions_joined = \" \".join(eval(recipe['directions']))\n",
    "    ingredients_joined = \"; \".join(eval(recipe['ingredients']))\n",
    "\n",
    "    text = f\"Recipe: {recipe['recipe_name'].strip()} | Description: {description_stripped} | Ratings: {recipe['ratings'].strip()} | Ready in: {recipe['ready-in'].strip()} | Directions: {directions_joined.strip()} | Ingredients: {ingredients_joined.strip()}\"\n",
    "\n",
    "    recipe['text'] = text"
   ]
  },
  {
   "cell_type": "code",
   "execution_count": 4,
   "id": "9e4bf39e",
   "metadata": {},
   "outputs": [],
   "source": [
    "# Qdrant\n",
    "from qdrant_client import QdrantClient, models\n",
    "qdrant_client = QdrantClient(\"http://localhost:6333\")\n",
    "\n",
    "EMBEDDING_DIMENSIONALITY = 512\n",
    "model_handle = \"jinaai/jina-embeddings-v2-small-en\""
   ]
  },
  {
   "cell_type": "code",
   "execution_count": 5,
   "id": "2e08fa99",
   "metadata": {},
   "outputs": [
    {
     "data": {
      "text/plain": [
       "True"
      ]
     },
     "execution_count": 5,
     "metadata": {},
     "output_type": "execute_result"
    }
   ],
   "source": [
    "collection_name = \"recipe-rag\"\n",
    "\n",
    "if qdrant_client.collection_exists(collection_name=collection_name):\n",
    "    qdrant_client.delete_collection(collection_name=collection_name)\n",
    "\n",
    "qdrant_client.create_collection(\n",
    "    collection_name=collection_name,\n",
    "    vectors_config=models.VectorParams(\n",
    "        size=EMBEDDING_DIMENSIONALITY,\n",
    "        distance=models.Distance.COSINE\n",
    "    )\n",
    ")"
   ]
  },
  {
   "cell_type": "code",
   "execution_count": 6,
   "id": "802113b0",
   "metadata": {},
   "outputs": [
    {
     "data": {
      "application/vnd.jupyter.widget-view+json": {
       "model_id": "a48bf20a2fca48c3aee0cafcb71463b8",
       "version_major": 2,
       "version_minor": 0
      },
      "text/plain": [
       "  0%|          | 0/88 [00:00<?, ?it/s]"
      ]
     },
     "metadata": {},
     "output_type": "display_data"
    },
    {
     "data": {
      "text/plain": [
       "UpdateResult(operation_id=0, status=<UpdateStatus.COMPLETED: 'completed'>)"
      ]
     },
     "execution_count": 6,
     "metadata": {},
     "output_type": "execute_result"
    }
   ],
   "source": [
    "# construct points\n",
    "points = []\n",
    "\n",
    "for recipe in tqdm(recipes_raw):\n",
    "    point = models.PointStruct(\n",
    "        id=recipe['recipe_id'],\n",
    "        vector=models.Document(text=recipe['text'], model=model_handle), # embedding the text\n",
    "        payload={\n",
    "            \"text\": recipe['text'],\n",
    "            'recipe_name': recipe['recipe_name'],\n",
    "            'recipe_link': recipe['recipe_link'],\n",
    "            'recipe_description': recipe['recipe_description'],\n",
    "            'ratings': recipe['ratings'],\n",
    "            'ready-in': recipe['ready-in'],\n",
    "            'directions': recipe['directions'],\n",
    "            'ingredients': recipe['ingredients'],\n",
    "        }\n",
    "    )\n",
    "    points.append(point)\n",
    "\n",
    "# upsert into DB\n",
    "qdrant_client.upsert(\n",
    "    collection_name=collection_name,\n",
    "    points=points\n",
    ")"
   ]
  },
  {
   "cell_type": "markdown",
   "id": "9af48ca0",
   "metadata": {},
   "source": [
    "## RAG pipeline"
   ]
  },
  {
   "cell_type": "code",
   "execution_count": 7,
   "id": "4cd0587a",
   "metadata": {},
   "outputs": [
    {
     "data": {
      "text/plain": [
       "True"
      ]
     },
     "execution_count": 7,
     "metadata": {},
     "output_type": "execute_result"
    }
   ],
   "source": [
    "from dotenv import load_dotenv\n",
    "load_dotenv()"
   ]
  },
  {
   "cell_type": "code",
   "execution_count": 8,
   "id": "54d4816f",
   "metadata": {},
   "outputs": [],
   "source": [
    "from openai import OpenAI\n",
    "openai_client = OpenAI()"
   ]
  },
  {
   "cell_type": "code",
   "execution_count": 9,
   "id": "8cd43061",
   "metadata": {},
   "outputs": [],
   "source": [
    "# search\n",
    "def vector_search(query, limit=1):\n",
    "\n",
    "    query_points = qdrant_client.query_points(\n",
    "        collection_name=collection_name,\n",
    "        query=models.Document( #embed the query text locally with \"jinaai/jina-embeddings-v2-small-en\"\n",
    "            text=query,\n",
    "            model=model_handle \n",
    "        ),\n",
    "        limit=limit, # top closest matches\n",
    "        with_payload=True #to get metadata in the results\n",
    "    )\n",
    "\n",
    "    results = []\n",
    "    \n",
    "    for point in query_points.points:\n",
    "        results.append(point.payload)\n",
    "    return results"
   ]
  },
  {
   "cell_type": "code",
   "execution_count": 10,
   "id": "b2824b6c",
   "metadata": {},
   "outputs": [],
   "source": [
    "def build_prompt(query, search_results):\n",
    "    prompt_template = \"\"\"\n",
    "You're a cooking assistant. Answer the QUESTION based on the CONTEXT from the recipe database.\n",
    "Use only the facts from the CONTEXT when answering the QUESTION.\n",
    "\n",
    "QUESTION: {question}\n",
    "\n",
    "CONTEXT: \n",
    "{context}\n",
    "\"\"\".strip()\n",
    "\n",
    "    context = \"\"\n",
    "    \n",
    "    for doc in search_results:\n",
    "        context = context + f\"{doc['text']}\\n\\n\" # doc['text'] should contain all the recipe information\n",
    "    \n",
    "    prompt = prompt_template.format(question=query, context=context).strip()\n",
    "    return prompt"
   ]
  },
  {
   "cell_type": "code",
   "execution_count": 11,
   "id": "7b00a19b",
   "metadata": {},
   "outputs": [],
   "source": [
    "def llm(openai_client, llm_model, prompt):\n",
    "    response = openai_client.chat.completions.create(\n",
    "        model=llm_model,\n",
    "        messages=[{\"role\": \"user\", \"content\": prompt}]\n",
    "    )\n",
    "    \n",
    "    return response.choices[0].message.content"
   ]
  },
  {
   "cell_type": "code",
   "execution_count": 12,
   "id": "e42508aa",
   "metadata": {},
   "outputs": [],
   "source": [
    "def rag(query, openai_client, llm_model, limit=5):\n",
    "    search_results = vector_search(query, limit)\n",
    "    prompt = build_prompt(query, search_results)\n",
    "    answer = llm(openai_client, llm_model, prompt)\n",
    "    return answer"
   ]
  },
  {
   "cell_type": "code",
   "execution_count": 13,
   "id": "41e55de2",
   "metadata": {},
   "outputs": [
    {
     "name": "stdout",
     "output_type": "stream",
     "text": [
      "Yes, there are several recommended fish recipes. Here are the details:\n",
      "\n",
      "1. **Easy Oven-Baked Cod**\n",
      "   - **Description**: Amazingly quick, fresh, and light; can be made with any type of fish fillet.\n",
      "   - **Ratings**: 4.6 stars (60 ratings)\n",
      "   - **Ready in**: 25 mins\n",
      "   - **Directions**: \n",
      "     - Preheat oven to 400°F. Line your pan with aluminum foil and lightly brush with olive oil or use cooking spray.\n",
      "     - Combine parsley, garlic, lemon zest, and coarse salt on a cutting board; finely chop and mix with breadcrumbs.\n",
      "     - Brush the top of each fillet with olive oil and press into the crumb mixture.\n",
      "     - Place fillets in baking dish, crust-side up, and bake for 12-15 minutes until firm. Serve with lemon wedges.\n",
      "   - **Ingredients**: \n",
      "     - 1 1/2 cups plain breadcrumbs\n",
      "     - 1/2 cup fresh parsley\n",
      "     - 2-3 garlic cloves\n",
      "     - 1 lemon (zest of)\n",
      "     - 3/4 teaspoon coarse salt\n",
      "     - 4 (6-8 ounce) cod fish fillets\n",
      "     - Olive oil\n",
      "\n",
      "2. **Lemon Baked Cod**\n",
      "   - **Description**: Great baked cod recipe.\n",
      "   - **Ratings**: 4.35 stars (209 ratings)\n",
      "   - **Ready in**: 35 mins\n",
      "   - **Directions**: \n",
      "     - If fish fillets are large, cut into serving pieces.\n",
      "     - Mix butter and lemon juice; in another bowl, mix flour, salt, and white pepper.\n",
      "     - Dip fish into the butter mixture and coat with flour mixture.\n",
      "     - Place in an ungreased square baking dish, pour remaining butter mixture over fish, and sprinkle with paprika.\n",
      "     - Cook uncovered in a 350°F oven until fish flakes easily with a fork, about 25-30 minutes. Garnish with parsley and lemon slices if desired.\n",
      "   - **Ingredients**: \n",
      "     - 1 lb cod fish fillet\n",
      "     - 1/4 cup butter or margarine (melted)\n",
      "     - 2 tablespoons lemon juice\n",
      "     - 1/4 cup all-purpose flour\n",
      "     - 1/2 teaspoon salt\n",
      "     - 1/8 teaspoon white pepper\n",
      "     - Paprika\n",
      "\n",
      "3. **Baked Salmon**\n",
      "   - **Description**: A great baked salmon recipe for beginners!\n",
      "   - **Ratings**: 4.75 stars (443 ratings)\n",
      "   - **Ready in**: 1 hr\n",
      "   - **Directions**: \n",
      "     - Prepare marinade by mixing garlic, light olive oil, basil, salt, pepper, lemon juice, and parsley.\n",
      "     - Marinate salmon fillets in the refrigerator for about 1 hour.\n",
      "     - Preheat oven to 375°F. Place fillets in aluminum foil, cover with marinade, seal, and bake for 35-45 minutes until easily flaked with a fork.\n",
      "   - **Ingredients**: \n",
      "     - 2 garlic cloves (minced)\n",
      "     - 6 tablespoons light olive oil\n",
      "     - 1 teaspoon dried basil\n",
      "     - 1 teaspoon salt\n",
      "     - 1 teaspoon ground black pepper\n",
      "     - 1 tablespoon lemon juice\n",
      "     - 1 tablespoon fresh parsley (chopped)\n",
      "     - 2 (6 ounce) salmon fillets\n",
      "\n",
      "4. **Sesame Crusted Tuna Steaks**\n",
      "   - **Description**: Adapted from multiple recipes and very tasty!\n",
      "   - **Ratings**: 4.57 stars (7 ratings)\n",
      "   - **Ready in**: 25 mins\n",
      "   - **Directions**: \n",
      "     - Heat sesame oil in a small saucepan, stir in green onion and garlic, cooking for about 1 minute.\n",
      "     - Add remaining ingredients and heat until reduced by half.\n",
      "     - Season tuna with pepper, salt, and sesame seeds to create crust. Cook in a skillet until almost done. Drizzle sauce over tuna and serve immediately.\n",
      "   - **Ingredients**: \n",
      "     - 4 (6 ounce) tuna steaks (room temperature)\n",
      "     - 1/2 teaspoon salt\n",
      "     - 1 teaspoon fresh ground pepper\n",
      "     - 2 tablespoons roasted sesame seeds\n",
      "     - 2 tablespoons cooking oil\n",
      "     - 1 teaspoon sesame oil\n",
      "     - 1 tablespoon green onion (finely chopped)\n",
      "     - 1 clove garlic (minced)\n",
      "     - 2/3 cup balsamic vinegar\n",
      "     - 1/4 cup soy sauce\n",
      "     - 1 tablespoon honey\n",
      "\n",
      "These recipes provide a range of flavors and preparations that can fit various tastes and occasions!\n"
     ]
    }
   ],
   "source": [
    "query = 'Are there any recommended fish recipes? Can you give me the details about the recipes as well?'\n",
    "answer = rag(query, openai_client=openai_client, llm_model='gpt-4o-mini')\n",
    "print(answer)"
   ]
  },
  {
   "cell_type": "code",
   "execution_count": null,
   "id": "f7de746b",
   "metadata": {},
   "outputs": [],
   "source": []
  }
 ],
 "metadata": {
  "kernelspec": {
   "display_name": "LLMZoomcamp",
   "language": "python",
   "name": "python3"
  },
  "language_info": {
   "codemirror_mode": {
    "name": "ipython",
    "version": 3
   },
   "file_extension": ".py",
   "mimetype": "text/x-python",
   "name": "python",
   "nbconvert_exporter": "python",
   "pygments_lexer": "ipython3",
   "version": "3.10.17"
  }
 },
 "nbformat": 4,
 "nbformat_minor": 5
}
